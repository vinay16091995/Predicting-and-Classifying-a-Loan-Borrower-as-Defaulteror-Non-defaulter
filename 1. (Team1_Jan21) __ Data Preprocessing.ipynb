{
 "cells": [
  {
   "cell_type": "markdown",
   "metadata": {},
   "source": [
    "# 1. Import Libraries"
   ]
  },
  {
   "cell_type": "markdown",
   "metadata": {},
   "source": [
    "**Let us import the required libraries.**"
   ]
  },
  {
   "cell_type": "code",
   "execution_count": 1,
   "metadata": {},
   "outputs": [],
   "source": [
    "# import 'Numpy'\n",
    "import numpy as np\n",
    "\n",
    "# import 'Pandas' \n",
    "import pandas as pd\n",
    "\n",
    "# display all columns of the dataframe\n",
    "pd.options.display.max_columns=None\n",
    "\n",
    "# display all rows of the dataframe\n",
    "pd.options.display.max_rows=None\n",
    "\n",
    "# import 'Seaborn'\n",
    "import seaborn as sns\n",
    "\n",
    "# import subpackage of Matplotlib\n",
    "import matplotlib.pyplot as plt\n",
    "\n",
    "# import variance_inflation_factor from statsmodel to perform multicollinearity analysis\n",
    "from statsmodels.stats.outliers_influence import variance_inflation_factor\n",
    "\n",
    "# import train-test split \n",
    "from sklearn.model_selection import train_test_split"
   ]
  },
  {
   "cell_type": "markdown",
   "metadata": {},
   "source": [
    "# 2. Data Preparation"
   ]
  },
  {
   "cell_type": "markdown",
   "metadata": {},
   "source": [
    "## 2.1 Understand the Data"
   ]
  },
  {
   "cell_type": "markdown",
   "metadata": {},
   "source": [
    "#### Read the dataset and print the first five observations.\n",
    "\n",
    "#### Dataset 'Loan_Data' that is used here, obtained after dropping columns which have null values greater than 50% (part of preliminary analysis)"
   ]
  },
  {
   "cell_type": "code",
   "execution_count": 2,
   "metadata": {},
   "outputs": [
    {
     "data": {
      "text/html": [
       "<div>\n",
       "<style scoped>\n",
       "    .dataframe tbody tr th:only-of-type {\n",
       "        vertical-align: middle;\n",
       "    }\n",
       "\n",
       "    .dataframe tbody tr th {\n",
       "        vertical-align: top;\n",
       "    }\n",
       "\n",
       "    .dataframe thead th {\n",
       "        text-align: right;\n",
       "    }\n",
       "</style>\n",
       "<table border=\"1\" class=\"dataframe\">\n",
       "  <thead>\n",
       "    <tr style=\"text-align: right;\">\n",
       "      <th></th>\n",
       "      <th>id</th>\n",
       "      <th>member_id</th>\n",
       "      <th>loan_amnt</th>\n",
       "      <th>funded_amnt</th>\n",
       "      <th>funded_amnt_inv</th>\n",
       "      <th>term</th>\n",
       "      <th>int_rate</th>\n",
       "      <th>installment</th>\n",
       "      <th>grade</th>\n",
       "      <th>sub_grade</th>\n",
       "      <th>emp_title</th>\n",
       "      <th>emp_length</th>\n",
       "      <th>home_ownership</th>\n",
       "      <th>annual_inc</th>\n",
       "      <th>verification_status</th>\n",
       "      <th>issue_d</th>\n",
       "      <th>pymnt_plan</th>\n",
       "      <th>purpose</th>\n",
       "      <th>title</th>\n",
       "      <th>zip_code</th>\n",
       "      <th>addr_state</th>\n",
       "      <th>dti</th>\n",
       "      <th>delinq_2yrs</th>\n",
       "      <th>earliest_cr_line</th>\n",
       "      <th>inq_last_6mths</th>\n",
       "      <th>open_acc</th>\n",
       "      <th>pub_rec</th>\n",
       "      <th>revol_bal</th>\n",
       "      <th>revol_util</th>\n",
       "      <th>total_acc</th>\n",
       "      <th>initial_list_status</th>\n",
       "      <th>out_prncp</th>\n",
       "      <th>out_prncp_inv</th>\n",
       "      <th>total_pymnt</th>\n",
       "      <th>total_pymnt_inv</th>\n",
       "      <th>total_rec_prncp</th>\n",
       "      <th>total_rec_int</th>\n",
       "      <th>total_rec_late_fee</th>\n",
       "      <th>recoveries</th>\n",
       "      <th>collection_recovery_fee</th>\n",
       "      <th>last_pymnt_d</th>\n",
       "      <th>last_pymnt_amnt</th>\n",
       "      <th>next_pymnt_d</th>\n",
       "      <th>last_credit_pull_d</th>\n",
       "      <th>collections_12_mths_ex_med</th>\n",
       "      <th>policy_code</th>\n",
       "      <th>application_type</th>\n",
       "      <th>acc_now_delinq</th>\n",
       "      <th>tot_coll_amt</th>\n",
       "      <th>tot_cur_bal</th>\n",
       "      <th>total_rev_hi_lim</th>\n",
       "      <th>default_ind</th>\n",
       "    </tr>\n",
       "  </thead>\n",
       "  <tbody>\n",
       "    <tr>\n",
       "      <th>0</th>\n",
       "      <td>1077501</td>\n",
       "      <td>1296599</td>\n",
       "      <td>5000</td>\n",
       "      <td>5000</td>\n",
       "      <td>4975.0</td>\n",
       "      <td>36 months</td>\n",
       "      <td>10.65</td>\n",
       "      <td>162.87</td>\n",
       "      <td>B</td>\n",
       "      <td>B2</td>\n",
       "      <td>NaN</td>\n",
       "      <td>10+ years</td>\n",
       "      <td>RENT</td>\n",
       "      <td>24000.0</td>\n",
       "      <td>Verified</td>\n",
       "      <td>2011-12-01</td>\n",
       "      <td>n</td>\n",
       "      <td>credit_card</td>\n",
       "      <td>Computer</td>\n",
       "      <td>860xx</td>\n",
       "      <td>AZ</td>\n",
       "      <td>27.65</td>\n",
       "      <td>0</td>\n",
       "      <td>1985-01-01</td>\n",
       "      <td>1</td>\n",
       "      <td>3</td>\n",
       "      <td>0</td>\n",
       "      <td>13648</td>\n",
       "      <td>83.7</td>\n",
       "      <td>9</td>\n",
       "      <td>f</td>\n",
       "      <td>0.0</td>\n",
       "      <td>0.0</td>\n",
       "      <td>5861.071414</td>\n",
       "      <td>5831.78</td>\n",
       "      <td>5000.00</td>\n",
       "      <td>861.07</td>\n",
       "      <td>0.00</td>\n",
       "      <td>0.00</td>\n",
       "      <td>0.00</td>\n",
       "      <td>2015-01-01</td>\n",
       "      <td>171.62</td>\n",
       "      <td>NaT</td>\n",
       "      <td>2016-01-01</td>\n",
       "      <td>0.0</td>\n",
       "      <td>1</td>\n",
       "      <td>INDIVIDUAL</td>\n",
       "      <td>0</td>\n",
       "      <td>NaN</td>\n",
       "      <td>NaN</td>\n",
       "      <td>NaN</td>\n",
       "      <td>0</td>\n",
       "    </tr>\n",
       "    <tr>\n",
       "      <th>1</th>\n",
       "      <td>1077430</td>\n",
       "      <td>1314167</td>\n",
       "      <td>2500</td>\n",
       "      <td>2500</td>\n",
       "      <td>2500.0</td>\n",
       "      <td>60 months</td>\n",
       "      <td>15.27</td>\n",
       "      <td>59.83</td>\n",
       "      <td>C</td>\n",
       "      <td>C4</td>\n",
       "      <td>Ryder</td>\n",
       "      <td>&lt; 1 year</td>\n",
       "      <td>RENT</td>\n",
       "      <td>30000.0</td>\n",
       "      <td>Source Verified</td>\n",
       "      <td>2011-12-01</td>\n",
       "      <td>n</td>\n",
       "      <td>car</td>\n",
       "      <td>bike</td>\n",
       "      <td>309xx</td>\n",
       "      <td>GA</td>\n",
       "      <td>1.00</td>\n",
       "      <td>0</td>\n",
       "      <td>1999-04-01</td>\n",
       "      <td>5</td>\n",
       "      <td>3</td>\n",
       "      <td>0</td>\n",
       "      <td>1687</td>\n",
       "      <td>9.4</td>\n",
       "      <td>4</td>\n",
       "      <td>f</td>\n",
       "      <td>0.0</td>\n",
       "      <td>0.0</td>\n",
       "      <td>1008.710000</td>\n",
       "      <td>1008.71</td>\n",
       "      <td>456.46</td>\n",
       "      <td>435.17</td>\n",
       "      <td>0.00</td>\n",
       "      <td>117.08</td>\n",
       "      <td>1.11</td>\n",
       "      <td>2013-04-01</td>\n",
       "      <td>119.66</td>\n",
       "      <td>NaT</td>\n",
       "      <td>2013-09-01</td>\n",
       "      <td>0.0</td>\n",
       "      <td>1</td>\n",
       "      <td>INDIVIDUAL</td>\n",
       "      <td>0</td>\n",
       "      <td>NaN</td>\n",
       "      <td>NaN</td>\n",
       "      <td>NaN</td>\n",
       "      <td>1</td>\n",
       "    </tr>\n",
       "    <tr>\n",
       "      <th>2</th>\n",
       "      <td>1077175</td>\n",
       "      <td>1313524</td>\n",
       "      <td>2400</td>\n",
       "      <td>2400</td>\n",
       "      <td>2400.0</td>\n",
       "      <td>36 months</td>\n",
       "      <td>15.96</td>\n",
       "      <td>84.33</td>\n",
       "      <td>C</td>\n",
       "      <td>C5</td>\n",
       "      <td>NaN</td>\n",
       "      <td>10+ years</td>\n",
       "      <td>RENT</td>\n",
       "      <td>12252.0</td>\n",
       "      <td>Not Verified</td>\n",
       "      <td>2011-12-01</td>\n",
       "      <td>n</td>\n",
       "      <td>small_business</td>\n",
       "      <td>real estate business</td>\n",
       "      <td>606xx</td>\n",
       "      <td>IL</td>\n",
       "      <td>8.72</td>\n",
       "      <td>0</td>\n",
       "      <td>2001-11-01</td>\n",
       "      <td>2</td>\n",
       "      <td>2</td>\n",
       "      <td>0</td>\n",
       "      <td>2956</td>\n",
       "      <td>98.5</td>\n",
       "      <td>10</td>\n",
       "      <td>f</td>\n",
       "      <td>0.0</td>\n",
       "      <td>0.0</td>\n",
       "      <td>3003.653644</td>\n",
       "      <td>3003.65</td>\n",
       "      <td>2400.00</td>\n",
       "      <td>603.65</td>\n",
       "      <td>0.00</td>\n",
       "      <td>0.00</td>\n",
       "      <td>0.00</td>\n",
       "      <td>2014-06-01</td>\n",
       "      <td>649.91</td>\n",
       "      <td>NaT</td>\n",
       "      <td>2016-01-01</td>\n",
       "      <td>0.0</td>\n",
       "      <td>1</td>\n",
       "      <td>INDIVIDUAL</td>\n",
       "      <td>0</td>\n",
       "      <td>NaN</td>\n",
       "      <td>NaN</td>\n",
       "      <td>NaN</td>\n",
       "      <td>0</td>\n",
       "    </tr>\n",
       "    <tr>\n",
       "      <th>3</th>\n",
       "      <td>1076863</td>\n",
       "      <td>1277178</td>\n",
       "      <td>10000</td>\n",
       "      <td>10000</td>\n",
       "      <td>10000.0</td>\n",
       "      <td>36 months</td>\n",
       "      <td>13.49</td>\n",
       "      <td>339.31</td>\n",
       "      <td>C</td>\n",
       "      <td>C1</td>\n",
       "      <td>AIR RESOURCES BOARD</td>\n",
       "      <td>10+ years</td>\n",
       "      <td>RENT</td>\n",
       "      <td>49200.0</td>\n",
       "      <td>Source Verified</td>\n",
       "      <td>2011-12-01</td>\n",
       "      <td>n</td>\n",
       "      <td>other</td>\n",
       "      <td>personel</td>\n",
       "      <td>917xx</td>\n",
       "      <td>CA</td>\n",
       "      <td>20.00</td>\n",
       "      <td>0</td>\n",
       "      <td>1996-02-01</td>\n",
       "      <td>1</td>\n",
       "      <td>10</td>\n",
       "      <td>0</td>\n",
       "      <td>5598</td>\n",
       "      <td>21.0</td>\n",
       "      <td>37</td>\n",
       "      <td>f</td>\n",
       "      <td>0.0</td>\n",
       "      <td>0.0</td>\n",
       "      <td>12226.302212</td>\n",
       "      <td>12226.30</td>\n",
       "      <td>10000.00</td>\n",
       "      <td>2209.33</td>\n",
       "      <td>16.97</td>\n",
       "      <td>0.00</td>\n",
       "      <td>0.00</td>\n",
       "      <td>2015-01-01</td>\n",
       "      <td>357.48</td>\n",
       "      <td>NaT</td>\n",
       "      <td>2015-01-01</td>\n",
       "      <td>0.0</td>\n",
       "      <td>1</td>\n",
       "      <td>INDIVIDUAL</td>\n",
       "      <td>0</td>\n",
       "      <td>NaN</td>\n",
       "      <td>NaN</td>\n",
       "      <td>NaN</td>\n",
       "      <td>0</td>\n",
       "    </tr>\n",
       "    <tr>\n",
       "      <th>4</th>\n",
       "      <td>1075358</td>\n",
       "      <td>1311748</td>\n",
       "      <td>3000</td>\n",
       "      <td>3000</td>\n",
       "      <td>3000.0</td>\n",
       "      <td>60 months</td>\n",
       "      <td>12.69</td>\n",
       "      <td>67.79</td>\n",
       "      <td>B</td>\n",
       "      <td>B5</td>\n",
       "      <td>University Medical Group</td>\n",
       "      <td>1 year</td>\n",
       "      <td>RENT</td>\n",
       "      <td>80000.0</td>\n",
       "      <td>Source Verified</td>\n",
       "      <td>2011-12-01</td>\n",
       "      <td>n</td>\n",
       "      <td>other</td>\n",
       "      <td>Personal</td>\n",
       "      <td>972xx</td>\n",
       "      <td>OR</td>\n",
       "      <td>17.94</td>\n",
       "      <td>0</td>\n",
       "      <td>1996-01-01</td>\n",
       "      <td>0</td>\n",
       "      <td>15</td>\n",
       "      <td>0</td>\n",
       "      <td>27783</td>\n",
       "      <td>53.9</td>\n",
       "      <td>38</td>\n",
       "      <td>f</td>\n",
       "      <td>766.9</td>\n",
       "      <td>766.9</td>\n",
       "      <td>3242.170000</td>\n",
       "      <td>3242.17</td>\n",
       "      <td>2233.10</td>\n",
       "      <td>1009.07</td>\n",
       "      <td>0.00</td>\n",
       "      <td>0.00</td>\n",
       "      <td>0.00</td>\n",
       "      <td>2016-01-01</td>\n",
       "      <td>67.79</td>\n",
       "      <td>2016-02-01</td>\n",
       "      <td>2016-01-01</td>\n",
       "      <td>0.0</td>\n",
       "      <td>1</td>\n",
       "      <td>INDIVIDUAL</td>\n",
       "      <td>0</td>\n",
       "      <td>NaN</td>\n",
       "      <td>NaN</td>\n",
       "      <td>NaN</td>\n",
       "      <td>0</td>\n",
       "    </tr>\n",
       "  </tbody>\n",
       "</table>\n",
       "</div>"
      ],
      "text/plain": [
       "        id  member_id  loan_amnt  funded_amnt  funded_amnt_inv        term  \\\n",
       "0  1077501    1296599       5000         5000           4975.0   36 months   \n",
       "1  1077430    1314167       2500         2500           2500.0   60 months   \n",
       "2  1077175    1313524       2400         2400           2400.0   36 months   \n",
       "3  1076863    1277178      10000        10000          10000.0   36 months   \n",
       "4  1075358    1311748       3000         3000           3000.0   60 months   \n",
       "\n",
       "   int_rate  installment grade sub_grade                 emp_title emp_length  \\\n",
       "0     10.65       162.87     B        B2                       NaN  10+ years   \n",
       "1     15.27        59.83     C        C4                     Ryder   < 1 year   \n",
       "2     15.96        84.33     C        C5                       NaN  10+ years   \n",
       "3     13.49       339.31     C        C1       AIR RESOURCES BOARD  10+ years   \n",
       "4     12.69        67.79     B        B5  University Medical Group     1 year   \n",
       "\n",
       "  home_ownership  annual_inc verification_status    issue_d pymnt_plan  \\\n",
       "0           RENT     24000.0            Verified 2011-12-01          n   \n",
       "1           RENT     30000.0     Source Verified 2011-12-01          n   \n",
       "2           RENT     12252.0        Not Verified 2011-12-01          n   \n",
       "3           RENT     49200.0     Source Verified 2011-12-01          n   \n",
       "4           RENT     80000.0     Source Verified 2011-12-01          n   \n",
       "\n",
       "          purpose                 title zip_code addr_state    dti  \\\n",
       "0     credit_card              Computer    860xx         AZ  27.65   \n",
       "1             car                  bike    309xx         GA   1.00   \n",
       "2  small_business  real estate business    606xx         IL   8.72   \n",
       "3           other              personel    917xx         CA  20.00   \n",
       "4           other              Personal    972xx         OR  17.94   \n",
       "\n",
       "   delinq_2yrs earliest_cr_line  inq_last_6mths  open_acc  pub_rec  revol_bal  \\\n",
       "0            0       1985-01-01               1         3        0      13648   \n",
       "1            0       1999-04-01               5         3        0       1687   \n",
       "2            0       2001-11-01               2         2        0       2956   \n",
       "3            0       1996-02-01               1        10        0       5598   \n",
       "4            0       1996-01-01               0        15        0      27783   \n",
       "\n",
       "   revol_util  total_acc initial_list_status  out_prncp  out_prncp_inv  \\\n",
       "0        83.7          9                   f        0.0            0.0   \n",
       "1         9.4          4                   f        0.0            0.0   \n",
       "2        98.5         10                   f        0.0            0.0   \n",
       "3        21.0         37                   f        0.0            0.0   \n",
       "4        53.9         38                   f      766.9          766.9   \n",
       "\n",
       "    total_pymnt  total_pymnt_inv  total_rec_prncp  total_rec_int  \\\n",
       "0   5861.071414          5831.78          5000.00         861.07   \n",
       "1   1008.710000          1008.71           456.46         435.17   \n",
       "2   3003.653644          3003.65          2400.00         603.65   \n",
       "3  12226.302212         12226.30         10000.00        2209.33   \n",
       "4   3242.170000          3242.17          2233.10        1009.07   \n",
       "\n",
       "   total_rec_late_fee  recoveries  collection_recovery_fee last_pymnt_d  \\\n",
       "0                0.00        0.00                     0.00   2015-01-01   \n",
       "1                0.00      117.08                     1.11   2013-04-01   \n",
       "2                0.00        0.00                     0.00   2014-06-01   \n",
       "3               16.97        0.00                     0.00   2015-01-01   \n",
       "4                0.00        0.00                     0.00   2016-01-01   \n",
       "\n",
       "   last_pymnt_amnt next_pymnt_d last_credit_pull_d  \\\n",
       "0           171.62          NaT         2016-01-01   \n",
       "1           119.66          NaT         2013-09-01   \n",
       "2           649.91          NaT         2016-01-01   \n",
       "3           357.48          NaT         2015-01-01   \n",
       "4            67.79   2016-02-01         2016-01-01   \n",
       "\n",
       "   collections_12_mths_ex_med  policy_code application_type  acc_now_delinq  \\\n",
       "0                         0.0            1       INDIVIDUAL               0   \n",
       "1                         0.0            1       INDIVIDUAL               0   \n",
       "2                         0.0            1       INDIVIDUAL               0   \n",
       "3                         0.0            1       INDIVIDUAL               0   \n",
       "4                         0.0            1       INDIVIDUAL               0   \n",
       "\n",
       "   tot_coll_amt  tot_cur_bal  total_rev_hi_lim  default_ind  \n",
       "0           NaN          NaN               NaN            0  \n",
       "1           NaN          NaN               NaN            1  \n",
       "2           NaN          NaN               NaN            0  \n",
       "3           NaN          NaN               NaN            0  \n",
       "4           NaN          NaN               NaN            0  "
      ]
     },
     "execution_count": 2,
     "metadata": {},
     "output_type": "execute_result"
    }
   ],
   "source": [
    "# load the excel file\n",
    "# store the data in 'loan_df'\n",
    "loan_df = pd.read_excel('Loan_Data.xlsx', index_col=0)\n",
    "\n",
    "# display first five observations using head()\n",
    "loan_df.head()"
   ]
  },
  {
   "cell_type": "markdown",
   "metadata": {},
   "source": [
    "**we will make a copy of this dataframe, so that original dataframe 'loan_df' is not altered**"
   ]
  },
  {
   "cell_type": "code",
   "execution_count": 3,
   "metadata": {},
   "outputs": [],
   "source": [
    "loan_df1=loan_df.copy()"
   ]
  },
  {
   "cell_type": "markdown",
   "metadata": {},
   "source": [
    "**Let us now see the number of variables and observations in the data.**"
   ]
  },
  {
   "cell_type": "code",
   "execution_count": 4,
   "metadata": {},
   "outputs": [
    {
     "data": {
      "text/plain": [
       "(855969, 52)"
      ]
     },
     "execution_count": 4,
     "metadata": {},
     "output_type": "execute_result"
    }
   ],
   "source": [
    "# use 'shape' to check the dimension of data\n",
    "loan_df1.shape"
   ]
  },
  {
   "cell_type": "markdown",
   "metadata": {},
   "source": [
    "**Interpretation:** The data has 855969 observations and 52 variables."
   ]
  },
  {
   "cell_type": "markdown",
   "metadata": {},
   "source": [
    "**Get a concise summary of the DataFrame.**"
   ]
  },
  {
   "cell_type": "code",
   "execution_count": 5,
   "metadata": {},
   "outputs": [
    {
     "name": "stdout",
     "output_type": "stream",
     "text": [
      "<class 'pandas.core.frame.DataFrame'>\n",
      "Int64Index: 855969 entries, 0 to 855968\n",
      "Data columns (total 52 columns):\n",
      " #   Column                      Non-Null Count   Dtype         \n",
      "---  ------                      --------------   -----         \n",
      " 0   id                          855969 non-null  int64         \n",
      " 1   member_id                   855969 non-null  int64         \n",
      " 2   loan_amnt                   855969 non-null  int64         \n",
      " 3   funded_amnt                 855969 non-null  int64         \n",
      " 4   funded_amnt_inv             855969 non-null  float64       \n",
      " 5   term                        855969 non-null  object        \n",
      " 6   int_rate                    855969 non-null  float64       \n",
      " 7   installment                 855969 non-null  float64       \n",
      " 8   grade                       855969 non-null  object        \n",
      " 9   sub_grade                   855969 non-null  object        \n",
      " 10  emp_title                   806525 non-null  object        \n",
      " 11  emp_length                  812908 non-null  object        \n",
      " 12  home_ownership              855969 non-null  object        \n",
      " 13  annual_inc                  855969 non-null  float64       \n",
      " 14  verification_status         855969 non-null  object        \n",
      " 15  issue_d                     855969 non-null  datetime64[ns]\n",
      " 16  pymnt_plan                  855969 non-null  object        \n",
      " 17  purpose                     855969 non-null  object        \n",
      " 18  title                       855935 non-null  object        \n",
      " 19  zip_code                    855969 non-null  object        \n",
      " 20  addr_state                  855969 non-null  object        \n",
      " 21  dti                         855969 non-null  float64       \n",
      " 22  delinq_2yrs                 855969 non-null  int64         \n",
      " 23  earliest_cr_line            855969 non-null  datetime64[ns]\n",
      " 24  inq_last_6mths              855969 non-null  int64         \n",
      " 25  open_acc                    855969 non-null  int64         \n",
      " 26  pub_rec                     855969 non-null  int64         \n",
      " 27  revol_bal                   855969 non-null  int64         \n",
      " 28  revol_util                  855523 non-null  float64       \n",
      " 29  total_acc                   855969 non-null  int64         \n",
      " 30  initial_list_status         855969 non-null  object        \n",
      " 31  out_prncp                   855969 non-null  float64       \n",
      " 32  out_prncp_inv               855969 non-null  float64       \n",
      " 33  total_pymnt                 855969 non-null  float64       \n",
      " 34  total_pymnt_inv             855969 non-null  float64       \n",
      " 35  total_rec_prncp             855969 non-null  float64       \n",
      " 36  total_rec_int               855969 non-null  float64       \n",
      " 37  total_rec_late_fee          855969 non-null  float64       \n",
      " 38  recoveries                  855969 non-null  float64       \n",
      " 39  collection_recovery_fee     855969 non-null  float64       \n",
      " 40  last_pymnt_d                847107 non-null  datetime64[ns]\n",
      " 41  last_pymnt_amnt             855969 non-null  float64       \n",
      " 42  next_pymnt_d                602998 non-null  datetime64[ns]\n",
      " 43  last_credit_pull_d          855919 non-null  datetime64[ns]\n",
      " 44  collections_12_mths_ex_med  855913 non-null  float64       \n",
      " 45  policy_code                 855969 non-null  int64         \n",
      " 46  application_type            855969 non-null  object        \n",
      " 47  acc_now_delinq              855969 non-null  int64         \n",
      " 48  tot_coll_amt                788656 non-null  float64       \n",
      " 49  tot_cur_bal                 788656 non-null  float64       \n",
      " 50  total_rev_hi_lim            788656 non-null  float64       \n",
      " 51  default_ind                 855969 non-null  int64         \n",
      "dtypes: datetime64[ns](5), float64(20), int64(13), object(14)\n",
      "memory usage: 346.1+ MB\n"
     ]
    }
   ],
   "source": [
    "# use 'info()' to understand the dataset\n",
    "loan_df1.info()"
   ]
  },
  {
   "cell_type": "markdown",
   "metadata": {},
   "source": [
    "**Interpretation:** by looking at the datatypes of columns, we can say that all the variables have correct data type."
   ]
  },
  {
   "cell_type": "markdown",
   "metadata": {},
   "source": [
    "## 2.2 Remove Insignificant Variables"
   ]
  },
  {
   "cell_type": "markdown",
   "metadata": {},
   "source": [
    "columns such as `id`,`member_id` contains the id of the loan and borrower respectively, which is redundant for further analysis. Thus, we drop these columns from loan_df1 dataframe."
   ]
  },
  {
   "cell_type": "code",
   "execution_count": 6,
   "metadata": {},
   "outputs": [],
   "source": [
    "# drop the column 'id','member_id' using drop()\n",
    "# 'axis = 1' drops the specified column\n",
    "loan_df1 = loan_df1.drop(['id','member_id'],axis=1)"
   ]
  },
  {
   "cell_type": "markdown",
   "metadata": {},
   "source": [
    "**checking unique values present in the columns of the dataset**"
   ]
  },
  {
   "cell_type": "code",
   "execution_count": 7,
   "metadata": {},
   "outputs": [
    {
     "data": {
      "text/html": [
       "<style type=\"text/css\">\n",
       "#T_b7598_row43_col0 {\n",
       "  color: white;\n",
       "  background-color: darkblue;\n",
       "}\n",
       "</style>\n",
       "<table id=\"T_b7598_\">\n",
       "  <thead>\n",
       "    <tr>\n",
       "      <th class=\"blank level0\" >&nbsp;</th>\n",
       "      <th class=\"col_heading level0 col0\" >Unique values</th>\n",
       "    </tr>\n",
       "  </thead>\n",
       "  <tbody>\n",
       "    <tr>\n",
       "      <th id=\"T_b7598_level0_row0\" class=\"row_heading level0 row0\" >loan_amnt</th>\n",
       "      <td id=\"T_b7598_row0_col0\" class=\"data row0 col0\" >1368</td>\n",
       "    </tr>\n",
       "    <tr>\n",
       "      <th id=\"T_b7598_level0_row1\" class=\"row_heading level0 row1\" >funded_amnt</th>\n",
       "      <td id=\"T_b7598_row1_col0\" class=\"data row1 col0\" >1368</td>\n",
       "    </tr>\n",
       "    <tr>\n",
       "      <th id=\"T_b7598_level0_row2\" class=\"row_heading level0 row2\" >funded_amnt_inv</th>\n",
       "      <td id=\"T_b7598_row2_col0\" class=\"data row2 col0\" >8818</td>\n",
       "    </tr>\n",
       "    <tr>\n",
       "      <th id=\"T_b7598_level0_row3\" class=\"row_heading level0 row3\" >term</th>\n",
       "      <td id=\"T_b7598_row3_col0\" class=\"data row3 col0\" >2</td>\n",
       "    </tr>\n",
       "    <tr>\n",
       "      <th id=\"T_b7598_level0_row4\" class=\"row_heading level0 row4\" >int_rate</th>\n",
       "      <td id=\"T_b7598_row4_col0\" class=\"data row4 col0\" >520</td>\n",
       "    </tr>\n",
       "    <tr>\n",
       "      <th id=\"T_b7598_level0_row5\" class=\"row_heading level0 row5\" >installment</th>\n",
       "      <td id=\"T_b7598_row5_col0\" class=\"data row5 col0\" >67349</td>\n",
       "    </tr>\n",
       "    <tr>\n",
       "      <th id=\"T_b7598_level0_row6\" class=\"row_heading level0 row6\" >grade</th>\n",
       "      <td id=\"T_b7598_row6_col0\" class=\"data row6 col0\" >7</td>\n",
       "    </tr>\n",
       "    <tr>\n",
       "      <th id=\"T_b7598_level0_row7\" class=\"row_heading level0 row7\" >sub_grade</th>\n",
       "      <td id=\"T_b7598_row7_col0\" class=\"data row7 col0\" >35</td>\n",
       "    </tr>\n",
       "    <tr>\n",
       "      <th id=\"T_b7598_level0_row8\" class=\"row_heading level0 row8\" >emp_title</th>\n",
       "      <td id=\"T_b7598_row8_col0\" class=\"data row8 col0\" >290909</td>\n",
       "    </tr>\n",
       "    <tr>\n",
       "      <th id=\"T_b7598_level0_row9\" class=\"row_heading level0 row9\" >emp_length</th>\n",
       "      <td id=\"T_b7598_row9_col0\" class=\"data row9 col0\" >11</td>\n",
       "    </tr>\n",
       "    <tr>\n",
       "      <th id=\"T_b7598_level0_row10\" class=\"row_heading level0 row10\" >home_ownership</th>\n",
       "      <td id=\"T_b7598_row10_col0\" class=\"data row10 col0\" >6</td>\n",
       "    </tr>\n",
       "    <tr>\n",
       "      <th id=\"T_b7598_level0_row11\" class=\"row_heading level0 row11\" >annual_inc</th>\n",
       "      <td id=\"T_b7598_row11_col0\" class=\"data row11 col0\" >48163</td>\n",
       "    </tr>\n",
       "    <tr>\n",
       "      <th id=\"T_b7598_level0_row12\" class=\"row_heading level0 row12\" >verification_status</th>\n",
       "      <td id=\"T_b7598_row12_col0\" class=\"data row12 col0\" >3</td>\n",
       "    </tr>\n",
       "    <tr>\n",
       "      <th id=\"T_b7598_level0_row13\" class=\"row_heading level0 row13\" >issue_d</th>\n",
       "      <td id=\"T_b7598_row13_col0\" class=\"data row13 col0\" >103</td>\n",
       "    </tr>\n",
       "    <tr>\n",
       "      <th id=\"T_b7598_level0_row14\" class=\"row_heading level0 row14\" >pymnt_plan</th>\n",
       "      <td id=\"T_b7598_row14_col0\" class=\"data row14 col0\" >2</td>\n",
       "    </tr>\n",
       "    <tr>\n",
       "      <th id=\"T_b7598_level0_row15\" class=\"row_heading level0 row15\" >purpose</th>\n",
       "      <td id=\"T_b7598_row15_col0\" class=\"data row15 col0\" >14</td>\n",
       "    </tr>\n",
       "    <tr>\n",
       "      <th id=\"T_b7598_level0_row16\" class=\"row_heading level0 row16\" >title</th>\n",
       "      <td id=\"T_b7598_row16_col0\" class=\"data row16 col0\" >60946</td>\n",
       "    </tr>\n",
       "    <tr>\n",
       "      <th id=\"T_b7598_level0_row17\" class=\"row_heading level0 row17\" >zip_code</th>\n",
       "      <td id=\"T_b7598_row17_col0\" class=\"data row17 col0\" >931</td>\n",
       "    </tr>\n",
       "    <tr>\n",
       "      <th id=\"T_b7598_level0_row18\" class=\"row_heading level0 row18\" >addr_state</th>\n",
       "      <td id=\"T_b7598_row18_col0\" class=\"data row18 col0\" >51</td>\n",
       "    </tr>\n",
       "    <tr>\n",
       "      <th id=\"T_b7598_level0_row19\" class=\"row_heading level0 row19\" >dti</th>\n",
       "      <td id=\"T_b7598_row19_col0\" class=\"data row19 col0\" >4074</td>\n",
       "    </tr>\n",
       "    <tr>\n",
       "      <th id=\"T_b7598_level0_row20\" class=\"row_heading level0 row20\" >delinq_2yrs</th>\n",
       "      <td id=\"T_b7598_row20_col0\" class=\"data row20 col0\" >29</td>\n",
       "    </tr>\n",
       "    <tr>\n",
       "      <th id=\"T_b7598_level0_row21\" class=\"row_heading level0 row21\" >earliest_cr_line</th>\n",
       "      <td id=\"T_b7598_row21_col0\" class=\"data row21 col0\" >697</td>\n",
       "    </tr>\n",
       "    <tr>\n",
       "      <th id=\"T_b7598_level0_row22\" class=\"row_heading level0 row22\" >inq_last_6mths</th>\n",
       "      <td id=\"T_b7598_row22_col0\" class=\"data row22 col0\" >9</td>\n",
       "    </tr>\n",
       "    <tr>\n",
       "      <th id=\"T_b7598_level0_row23\" class=\"row_heading level0 row23\" >open_acc</th>\n",
       "      <td id=\"T_b7598_row23_col0\" class=\"data row23 col0\" >77</td>\n",
       "    </tr>\n",
       "    <tr>\n",
       "      <th id=\"T_b7598_level0_row24\" class=\"row_heading level0 row24\" >pub_rec</th>\n",
       "      <td id=\"T_b7598_row24_col0\" class=\"data row24 col0\" >31</td>\n",
       "    </tr>\n",
       "    <tr>\n",
       "      <th id=\"T_b7598_level0_row25\" class=\"row_heading level0 row25\" >revol_bal</th>\n",
       "      <td id=\"T_b7598_row25_col0\" class=\"data row25 col0\" >72779</td>\n",
       "    </tr>\n",
       "    <tr>\n",
       "      <th id=\"T_b7598_level0_row26\" class=\"row_heading level0 row26\" >revol_util</th>\n",
       "      <td id=\"T_b7598_row26_col0\" class=\"data row26 col0\" >1338</td>\n",
       "    </tr>\n",
       "    <tr>\n",
       "      <th id=\"T_b7598_level0_row27\" class=\"row_heading level0 row27\" >total_acc</th>\n",
       "      <td id=\"T_b7598_row27_col0\" class=\"data row27 col0\" >134</td>\n",
       "    </tr>\n",
       "    <tr>\n",
       "      <th id=\"T_b7598_level0_row28\" class=\"row_heading level0 row28\" >initial_list_status</th>\n",
       "      <td id=\"T_b7598_row28_col0\" class=\"data row28 col0\" >2</td>\n",
       "    </tr>\n",
       "    <tr>\n",
       "      <th id=\"T_b7598_level0_row29\" class=\"row_heading level0 row29\" >out_prncp</th>\n",
       "      <td id=\"T_b7598_row29_col0\" class=\"data row29 col0\" >236739</td>\n",
       "    </tr>\n",
       "    <tr>\n",
       "      <th id=\"T_b7598_level0_row30\" class=\"row_heading level0 row30\" >out_prncp_inv</th>\n",
       "      <td id=\"T_b7598_row30_col0\" class=\"data row30 col0\" >254328</td>\n",
       "    </tr>\n",
       "    <tr>\n",
       "      <th id=\"T_b7598_level0_row31\" class=\"row_heading level0 row31\" >total_pymnt</th>\n",
       "      <td id=\"T_b7598_row31_col0\" class=\"data row31 col0\" >494607</td>\n",
       "    </tr>\n",
       "    <tr>\n",
       "      <th id=\"T_b7598_level0_row32\" class=\"row_heading level0 row32\" >total_pymnt_inv</th>\n",
       "      <td id=\"T_b7598_row32_col0\" class=\"data row32 col0\" >494744</td>\n",
       "    </tr>\n",
       "    <tr>\n",
       "      <th id=\"T_b7598_level0_row33\" class=\"row_heading level0 row33\" >total_rec_prncp</th>\n",
       "      <td id=\"T_b7598_row33_col0\" class=\"data row33 col0\" >250385</td>\n",
       "    </tr>\n",
       "    <tr>\n",
       "      <th id=\"T_b7598_level0_row34\" class=\"row_heading level0 row34\" >total_rec_int</th>\n",
       "      <td id=\"T_b7598_row34_col0\" class=\"data row34 col0\" >317683</td>\n",
       "    </tr>\n",
       "    <tr>\n",
       "      <th id=\"T_b7598_level0_row35\" class=\"row_heading level0 row35\" >total_rec_late_fee</th>\n",
       "      <td id=\"T_b7598_row35_col0\" class=\"data row35 col0\" >5386</td>\n",
       "    </tr>\n",
       "    <tr>\n",
       "      <th id=\"T_b7598_level0_row36\" class=\"row_heading level0 row36\" >recoveries</th>\n",
       "      <td id=\"T_b7598_row36_col0\" class=\"data row36 col0\" >22627</td>\n",
       "    </tr>\n",
       "    <tr>\n",
       "      <th id=\"T_b7598_level0_row37\" class=\"row_heading level0 row37\" >collection_recovery_fee</th>\n",
       "      <td id=\"T_b7598_row37_col0\" class=\"data row37 col0\" >20529</td>\n",
       "    </tr>\n",
       "    <tr>\n",
       "      <th id=\"T_b7598_level0_row38\" class=\"row_heading level0 row38\" >last_pymnt_d</th>\n",
       "      <td id=\"T_b7598_row38_col0\" class=\"data row38 col0\" >97</td>\n",
       "    </tr>\n",
       "    <tr>\n",
       "      <th id=\"T_b7598_level0_row39\" class=\"row_heading level0 row39\" >last_pymnt_amnt</th>\n",
       "      <td id=\"T_b7598_row39_col0\" class=\"data row39 col0\" >230321</td>\n",
       "    </tr>\n",
       "    <tr>\n",
       "      <th id=\"T_b7598_level0_row40\" class=\"row_heading level0 row40\" >next_pymnt_d</th>\n",
       "      <td id=\"T_b7598_row40_col0\" class=\"data row40 col0\" >3</td>\n",
       "    </tr>\n",
       "    <tr>\n",
       "      <th id=\"T_b7598_level0_row41\" class=\"row_heading level0 row41\" >last_credit_pull_d</th>\n",
       "      <td id=\"T_b7598_row41_col0\" class=\"data row41 col0\" >102</td>\n",
       "    </tr>\n",
       "    <tr>\n",
       "      <th id=\"T_b7598_level0_row42\" class=\"row_heading level0 row42\" >collections_12_mths_ex_med</th>\n",
       "      <td id=\"T_b7598_row42_col0\" class=\"data row42 col0\" >12</td>\n",
       "    </tr>\n",
       "    <tr>\n",
       "      <th id=\"T_b7598_level0_row43\" class=\"row_heading level0 row43\" >policy_code</th>\n",
       "      <td id=\"T_b7598_row43_col0\" class=\"data row43 col0\" >1</td>\n",
       "    </tr>\n",
       "    <tr>\n",
       "      <th id=\"T_b7598_level0_row44\" class=\"row_heading level0 row44\" >application_type</th>\n",
       "      <td id=\"T_b7598_row44_col0\" class=\"data row44 col0\" >2</td>\n",
       "    </tr>\n",
       "    <tr>\n",
       "      <th id=\"T_b7598_level0_row45\" class=\"row_heading level0 row45\" >acc_now_delinq</th>\n",
       "      <td id=\"T_b7598_row45_col0\" class=\"data row45 col0\" >8</td>\n",
       "    </tr>\n",
       "    <tr>\n",
       "      <th id=\"T_b7598_level0_row46\" class=\"row_heading level0 row46\" >tot_coll_amt</th>\n",
       "      <td id=\"T_b7598_row46_col0\" class=\"data row46 col0\" >10138</td>\n",
       "    </tr>\n",
       "    <tr>\n",
       "      <th id=\"T_b7598_level0_row47\" class=\"row_heading level0 row47\" >tot_cur_bal</th>\n",
       "      <td id=\"T_b7598_row47_col0\" class=\"data row47 col0\" >322286</td>\n",
       "    </tr>\n",
       "    <tr>\n",
       "      <th id=\"T_b7598_level0_row48\" class=\"row_heading level0 row48\" >total_rev_hi_lim</th>\n",
       "      <td id=\"T_b7598_row48_col0\" class=\"data row48 col0\" >20793</td>\n",
       "    </tr>\n",
       "    <tr>\n",
       "      <th id=\"T_b7598_level0_row49\" class=\"row_heading level0 row49\" >default_ind</th>\n",
       "      <td id=\"T_b7598_row49_col0\" class=\"data row49 col0\" >2</td>\n",
       "    </tr>\n",
       "  </tbody>\n",
       "</table>\n"
      ],
      "text/plain": [
       "<pandas.io.formats.style.Styler at 0x274322315b0>"
      ]
     },
     "execution_count": 7,
     "metadata": {},
     "output_type": "execute_result"
    }
   ],
   "source": [
    "# unique values in the columns\n",
    "\n",
    "# stores unique values\n",
    "u=[]\n",
    "\n",
    "\n",
    "# loop for calculating unique values present in variables\n",
    "for i in loan_df1.columns:\n",
    "    u.append((loan_df1[i].nunique(dropna=True)))\n",
    "\n",
    "# dataframe for storing unique values against each variable in the 'loan_df1' dataframe   \n",
    "d=pd.DataFrame(u,index=loan_df1.columns,columns=['Unique values'])\n",
    "\n",
    "# code for highlighting unique values which are less than 2\n",
    "def highlight(s, props=''):\n",
    "    return props if s<2 else None\n",
    "\n",
    "d.style.applymap(highlight, props='color:white;background-color:darkblue')"
   ]
  },
  {
   "cell_type": "markdown",
   "metadata": {},
   "source": [
    "**Interpretation:** As we can see from above 'policy_code' has only one unique value, so we will remove it from 'loan_df1' dataframe."
   ]
  },
  {
   "cell_type": "code",
   "execution_count": 8,
   "metadata": {},
   "outputs": [],
   "source": [
    "# drop the column 'policy_code' using drop()\n",
    "# 'axis = 1' drops the specified column\n",
    "loan_df1 = loan_df1.drop(['policy_code'],axis=1)"
   ]
  },
  {
   "cell_type": "markdown",
   "metadata": {},
   "source": [
    "**checking value counts present in the categorical columns of the dataset**"
   ]
  },
  {
   "cell_type": "code",
   "execution_count": 9,
   "metadata": {
    "scrolled": true
   },
   "outputs": [
    {
     "name": "stderr",
     "output_type": "stream",
     "text": [
      "<ipython-input-9-4844d88c9329>:4: DeprecationWarning: `np.object` is a deprecated alias for the builtin `object`. To silence this warning, use `object` by itself. Doing this will not modify any behavior and is safe. \n",
      "Deprecated in NumPy 1.20; for more details and guidance: https://numpy.org/devdocs/release/1.20.0-notes.html#deprecations\n",
      "  loan_df1.describe(include=[np.object])\n"
     ]
    },
    {
     "data": {
      "text/html": [
       "<div>\n",
       "<style scoped>\n",
       "    .dataframe tbody tr th:only-of-type {\n",
       "        vertical-align: middle;\n",
       "    }\n",
       "\n",
       "    .dataframe tbody tr th {\n",
       "        vertical-align: top;\n",
       "    }\n",
       "\n",
       "    .dataframe thead th {\n",
       "        text-align: right;\n",
       "    }\n",
       "</style>\n",
       "<table border=\"1\" class=\"dataframe\">\n",
       "  <thead>\n",
       "    <tr style=\"text-align: right;\">\n",
       "      <th></th>\n",
       "      <th>term</th>\n",
       "      <th>grade</th>\n",
       "      <th>sub_grade</th>\n",
       "      <th>emp_title</th>\n",
       "      <th>emp_length</th>\n",
       "      <th>home_ownership</th>\n",
       "      <th>verification_status</th>\n",
       "      <th>pymnt_plan</th>\n",
       "      <th>purpose</th>\n",
       "      <th>title</th>\n",
       "      <th>zip_code</th>\n",
       "      <th>addr_state</th>\n",
       "      <th>initial_list_status</th>\n",
       "      <th>application_type</th>\n",
       "    </tr>\n",
       "  </thead>\n",
       "  <tbody>\n",
       "    <tr>\n",
       "      <th>count</th>\n",
       "      <td>855969</td>\n",
       "      <td>855969</td>\n",
       "      <td>855969</td>\n",
       "      <td>806525</td>\n",
       "      <td>812908</td>\n",
       "      <td>855969</td>\n",
       "      <td>855969</td>\n",
       "      <td>855969</td>\n",
       "      <td>855969</td>\n",
       "      <td>855935</td>\n",
       "      <td>855969</td>\n",
       "      <td>855969</td>\n",
       "      <td>855969</td>\n",
       "      <td>855969</td>\n",
       "    </tr>\n",
       "    <tr>\n",
       "      <th>unique</th>\n",
       "      <td>2</td>\n",
       "      <td>7</td>\n",
       "      <td>35</td>\n",
       "      <td>290909</td>\n",
       "      <td>11</td>\n",
       "      <td>6</td>\n",
       "      <td>3</td>\n",
       "      <td>2</td>\n",
       "      <td>14</td>\n",
       "      <td>60946</td>\n",
       "      <td>931</td>\n",
       "      <td>51</td>\n",
       "      <td>2</td>\n",
       "      <td>2</td>\n",
       "    </tr>\n",
       "    <tr>\n",
       "      <th>top</th>\n",
       "      <td>36 months</td>\n",
       "      <td>B</td>\n",
       "      <td>B3</td>\n",
       "      <td>Teacher</td>\n",
       "      <td>10+ years</td>\n",
       "      <td>MORTGAGE</td>\n",
       "      <td>Source Verified</td>\n",
       "      <td>n</td>\n",
       "      <td>debt_consolidation</td>\n",
       "      <td>Debt consolidation</td>\n",
       "      <td>945xx</td>\n",
       "      <td>CA</td>\n",
       "      <td>f</td>\n",
       "      <td>INDIVIDUAL</td>\n",
       "    </tr>\n",
       "    <tr>\n",
       "      <th>freq</th>\n",
       "      <td>600221</td>\n",
       "      <td>247998</td>\n",
       "      <td>54958</td>\n",
       "      <td>12965</td>\n",
       "      <td>282090</td>\n",
       "      <td>429106</td>\n",
       "      <td>318178</td>\n",
       "      <td>855964</td>\n",
       "      <td>505392</td>\n",
       "      <td>398089</td>\n",
       "      <td>9466</td>\n",
       "      <td>125172</td>\n",
       "      <td>442555</td>\n",
       "      <td>855527</td>\n",
       "    </tr>\n",
       "  </tbody>\n",
       "</table>\n",
       "</div>"
      ],
      "text/plain": [
       "              term   grade sub_grade emp_title emp_length home_ownership  \\\n",
       "count       855969  855969    855969    806525     812908         855969   \n",
       "unique           2       7        35    290909         11              6   \n",
       "top      36 months       B        B3   Teacher  10+ years       MORTGAGE   \n",
       "freq        600221  247998     54958     12965     282090         429106   \n",
       "\n",
       "       verification_status pymnt_plan             purpose               title  \\\n",
       "count               855969     855969              855969              855935   \n",
       "unique                   3          2                  14               60946   \n",
       "top        Source Verified          n  debt_consolidation  Debt consolidation   \n",
       "freq                318178     855964              505392              398089   \n",
       "\n",
       "       zip_code addr_state initial_list_status application_type  \n",
       "count    855969     855969              855969           855969  \n",
       "unique      931         51                   2                2  \n",
       "top       945xx         CA                   f       INDIVIDUAL  \n",
       "freq       9466     125172              442555           855527  "
      ]
     },
     "execution_count": 9,
     "metadata": {},
     "output_type": "execute_result"
    }
   ],
   "source": [
    "#checking frequency distribution between categories \n",
    "#present in the categorical variables of the dataset.\n",
    "\n",
    "loan_df1.describe(include=[np.object])"
   ]
  },
  {
   "cell_type": "markdown",
   "metadata": {},
   "source": [
    "**Interpretation:** frequency distribution of `pymnt_plan`,`application_type` is mostly concentrated around one category, so therefore we remove these columns from loan_df1 dataframe."
   ]
  },
  {
   "cell_type": "code",
   "execution_count": 10,
   "metadata": {},
   "outputs": [],
   "source": [
    "# drop the column 'pymnt_plan','application_type' using drop()\n",
    "# 'axis = 1' drops the specified column\n",
    "loan_df1 = loan_df1.drop(['pymnt_plan','application_type'],axis=1)"
   ]
  },
  {
   "cell_type": "markdown",
   "metadata": {},
   "source": [
    "**Removing columns based on Domain Understanding.**"
   ]
  },
  {
   "cell_type": "markdown",
   "metadata": {},
   "source": [
    "We remove categorical columns named `emp_title`,`emp_length`,`purpose`,`title`,`zip_code`,`addr_state` and date columns such as `issue_d`, `earliest_cr_line`, `last_pymnt_d`, `next_pymnt_d`, `last_credit_pull_d` from loan_df1 dataframe, as they are not going to help in our model building."
   ]
  },
  {
   "cell_type": "code",
   "execution_count": 11,
   "metadata": {},
   "outputs": [],
   "source": [
    "# drop the columns 'emp_title','emp_length','purpose','title','zip_code','addr_state',\n",
    "#'issue_d', 'earliest_cr_line', 'last_pymnt_d','next_pymnt_d','last_credit_pull_d' using drop()\n",
    "# 'axis = 1' drops the specified column\n",
    "\n",
    "loan_df1 = loan_df1.drop(['emp_title','emp_length','purpose','title','zip_code','addr_state', 'earliest_cr_line', 'last_pymnt_d','next_pymnt_d','last_credit_pull_d'],axis=1)"
   ]
  },
  {
   "cell_type": "markdown",
   "metadata": {},
   "source": [
    "**Now let us check variance present in numerical variables of loan_df1 dataframe.**"
   ]
  },
  {
   "cell_type": "code",
   "execution_count": 12,
   "metadata": {},
   "outputs": [
    {
     "data": {
      "text/plain": [
       "loan_amnt                     7.098635e+07\n",
       "funded_amnt                   7.088750e+07\n",
       "funded_amnt_inv               7.099420e+07\n",
       "int_rate                      1.908261e+01\n",
       "installment                   5.940279e+04\n",
       "annual_inc                    4.129922e+09\n",
       "dti                           3.035829e+02\n",
       "delinq_2yrs                   7.347737e-01\n",
       "inq_last_6mths                9.293598e-01\n",
       "open_acc                      2.817586e+01\n",
       "pub_rec                       3.382416e-01\n",
       "revol_bal                     4.938947e+08\n",
       "revol_util                    5.669916e+02\n",
       "total_acc                     1.396850e+02\n",
       "out_prncp                     7.160454e+07\n",
       "out_prncp_inv                 7.154616e+07\n",
       "total_pymnt                   6.255835e+07\n",
       "total_pymnt_inv               6.217569e+07\n",
       "total_rec_prncp               4.457446e+07\n",
       "total_rec_int                 4.333446e+06\n",
       "total_rec_late_fee            1.302776e+01\n",
       "recoveries                    1.706814e+05\n",
       "collection_recovery_fee       3.903572e+03\n",
       "last_pymnt_amnt               2.366790e+07\n",
       "collections_12_mths_ex_med    1.787879e-02\n",
       "acc_now_delinq                5.980453e-03\n",
       "tot_coll_amt                  1.100285e+08\n",
       "tot_cur_bal                   2.369707e+10\n",
       "total_rev_hi_lim              1.421263e+09\n",
       "default_ind                   5.133895e-02\n",
       "dtype: float64"
      ]
     },
     "execution_count": 12,
     "metadata": {},
     "output_type": "execute_result"
    }
   ],
   "source": [
    "# extracting numerical features from 'loan_df' dataframe\n",
    "n=loan_df1.select_dtypes(include=[np.number])\n",
    "\n",
    "n.var()"
   ]
  },
  {
   "cell_type": "markdown",
   "metadata": {},
   "source": [
    "**Interpretation:** As we can see from above, all the columns have considerable amount of variance so we are not dropping any of the numerical columns based on the variance."
   ]
  },
  {
   "cell_type": "markdown",
   "metadata": {},
   "source": [
    "**Now let us remove numerical columns based on high coorelation.**"
   ]
  },
  {
   "cell_type": "markdown",
   "metadata": {},
   "source": [
    "Display correlated values only which are greater than 0.8 or less than -0.8"
   ]
  },
  {
   "cell_type": "code",
   "execution_count": 13,
   "metadata": {},
   "outputs": [
    {
     "data": {
      "image/png": "[encoded data removed]",
      "text/plain": [
       "<Figure size 1584x720 with 2 Axes>"
      ]
     },
     "metadata": {
      "needs_background": "light"
     },
     "output_type": "display_data"
    }
   ],
   "source": [
    "# set the plot size using figure()\n",
    "# pass width and height in inches to 'figsize' \n",
    "plt.figure(figsize = (22,10))\n",
    "\n",
    "# plot the heat map\n",
    "# corr(): give the correlation matrix\n",
    "# annot: prints the correlation values in the chart\n",
    "# annot_kws: sets the font size of the annotation\n",
    "sns.heatmap(loan_df1.corr()[np.abs(loan_df1.corr()) > 0.8], annot = True, annot_kws = {\"size\": 13}, cmap = 'Blues')\n",
    "\n",
    "# rotate the y-axis labels\n",
    "# set text size using 'fontsize'\n",
    "plt.yticks(rotation = 'horizontal', fontsize = 12)\n",
    "plt.xticks(fontsize = 15)\n",
    "\n",
    "# display the plot\n",
    "plt.show()"
   ]
  },
  {
   "cell_type": "markdown",
   "metadata": {},
   "source": [
    "**Interpretation:** Let us remove columns which are having coorelation greater than 0.9.\n",
    "\n",
    "Columns such as `loan_amnt`,`funded_amnt_inv`,`installment` are having high coorelation with `funded_amnt`,so we drop these columns and retain only `funded_amnt` column.\n",
    "\n",
    "Similarly columns such as `total_pymnt`,`total_pymnt_inv` are highly correlated with `total_rec_prncp`,o we drop these columns and retain only `total_rec_prncp` column.\n",
    "\n",
    "And `out_prncp_inv` is highly correlated with `out_prncp`, therefore we drop this column and retain only `out_prncp` column."
   ]
  },
  {
   "cell_type": "code",
   "execution_count": 14,
   "metadata": {},
   "outputs": [],
   "source": [
    "# drop the columns 'loan_amnt','funded_amnt_inv','installment','total_pymnt','total_pymnt_inv','out_prncp_inv' using drop()\n",
    "# 'axis = 1' drops the specified columns\n",
    "\n",
    "loan_df1 = loan_df1.drop(['loan_amnt','funded_amnt_inv','installment','total_pymnt','total_pymnt_inv','out_prncp_inv'],axis=1)"
   ]
  },
  {
   "cell_type": "markdown",
   "metadata": {},
   "source": [
    "#### Checking columns and number of columns after removing all insignificant variables based on different conditions that are discussed above."
   ]
  },
  {
   "cell_type": "code",
   "execution_count": 15,
   "metadata": {},
   "outputs": [
    {
     "name": "stdout",
     "output_type": "stream",
     "text": [
      "Columns left after removing insignificant variables are :\n",
      "\n",
      " ['funded_amnt', 'term', 'int_rate', 'grade', 'sub_grade', 'home_ownership', 'annual_inc', 'verification_status', 'issue_d', 'dti', 'delinq_2yrs', 'inq_last_6mths', 'open_acc', 'pub_rec', 'revol_bal', 'revol_util', 'total_acc', 'initial_list_status', 'out_prncp', 'total_rec_prncp', 'total_rec_int', 'total_rec_late_fee', 'recoveries', 'collection_recovery_fee', 'last_pymnt_amnt', 'collections_12_mths_ex_med', 'acc_now_delinq', 'tot_coll_amt', 'tot_cur_bal', 'total_rev_hi_lim', 'default_ind']\n",
      "\n",
      "Number of columns left after removing insignificant variables are : 31\n"
     ]
    }
   ],
   "source": [
    "print('Columns left after removing insignificant variables are :\\n\\n',list(loan_df1.columns),end='\\n\\n')\n",
    "\n",
    "\n",
    "print('Number of columns left after removing insignificant variables are :',len(loan_df1.columns))"
   ]
  },
  {
   "cell_type": "markdown",
   "metadata": {},
   "source": [
    "## 2.3 Outlier Analysis and Treatment"
   ]
  },
  {
   "cell_type": "markdown",
   "metadata": {},
   "source": [
    "**Check the outliers in all the variables and treat them using appropriate techniques.**"
   ]
  },
  {
   "cell_type": "markdown",
   "metadata": {},
   "source": [
    "We need to check distribution of important columns based on domain understanding, and then remove outliers from each of these columns sequentially without affecting percentage of count of categories present in `default_ind` column."
   ]
  },
  {
   "cell_type": "markdown",
   "metadata": {},
   "source": [
    "columns which we are considering are `funded_amnt`,`annual_inc`,`revol_util`,`dti`, `int_rate`,`total_rec_prncp`,`total_rec_int`,`open_acc`, `total_acc`\n",
    "      "
   ]
  },
  {
   "cell_type": "markdown",
   "metadata": {},
   "source": [
    "#### Distributions before removing outliers."
   ]
  },
  {
   "cell_type": "code",
   "execution_count": 16,
   "metadata": {},
   "outputs": [
    {
     "name": "stderr",
     "output_type": "stream",
     "text": [
      "C:\\Users\\cvina\\anaconda3\\lib\\site-packages\\seaborn\\distributions.py:2551: FutureWarning: `distplot` is a deprecated function and will be removed in a future version. Please adapt your code to use either `displot` (a figure-level function with similar flexibility) or `histplot` (an axes-level function for histograms).\n",
      "  warnings.warn(msg, FutureWarning)\n"
     ]
    },
    {
     "data": {
      "image/png": "[encoded data removed]",
      "text/plain": [
       "<Figure size 1080x576 with 3 Axes>"
      ]
     },
     "metadata": {
      "needs_background": "light"
     },
     "output_type": "display_data"
    }
   ],
   "source": [
    "# distribution of first three columns\n",
    "\n",
    "plt.figure(figsize=(15,8))\n",
    "\n",
    "plt.subplot(1,3,1)\n",
    "sns.distplot(a=loan_df1['funded_amnt'],kde=False)\n",
    "    \n",
    "plt.subplot(1,3,2)\n",
    "sns.distplot(a=loan_df1['annual_inc'],kde=False)\n",
    "        \n",
    "plt.subplot(1,3,3)\n",
    "sns.distplot(a=loan_df1['revol_util'],kde=False)\n",
    "\n",
    "plt.tight_layout()\n",
    "\n",
    "plt.show()\n"
   ]
  },
  {
   "cell_type": "code",
   "execution_count": 17,
   "metadata": {},
   "outputs": [
    {
     "data": {
      "image/png": "[encoded data removed]",
      "text/plain": [
       "<Figure size 1080x576 with 3 Axes>"
      ]
     },
     "metadata": {
      "needs_background": "light"
     },
     "output_type": "display_data"
    }
   ],
   "source": [
    "# distribution of next three columns\n",
    "\n",
    "plt.figure(figsize=(15,8))\n",
    "\n",
    "plt.subplot(1,3,1)\n",
    "sns.distplot(a=loan_df1['dti'],kde=False)\n",
    "    \n",
    "plt.subplot(1,3,2)\n",
    "sns.distplot(a=loan_df1['int_rate'],kde=False)\n",
    "        \n",
    "plt.subplot(1,3,3)\n",
    "sns.distplot(a=loan_df1['total_rec_prncp'],kde=False)\n",
    "\n",
    "plt.tight_layout()\n",
    "\n",
    "plt.show()"
   ]
  },
  {
   "cell_type": "code",
   "execution_count": 18,
   "metadata": {},
   "outputs": [
    {
     "data": {
      "image/png": "[encoded data removed]",
      "text/plain": [
       "<Figure size 1080x576 with 3 Axes>"
      ]
     },
     "metadata": {
      "needs_background": "light"
     },
     "output_type": "display_data"
    }
   ],
   "source": [
    "# distribution of last three columns\n",
    "\n",
    "plt.figure(figsize=(15,8))\n",
    "\n",
    "plt.subplot(1,3,1)\n",
    "sns.distplot(a=loan_df1['total_rec_int'],kde=False)\n",
    "    \n",
    "plt.subplot(1,3,2)\n",
    "sns.distplot(a=loan_df1['open_acc'],kde=False)\n",
    "        \n",
    "plt.subplot(1,3,3)\n",
    "sns.distplot(a=loan_df1['total_acc'],kde=False)\n",
    "\n",
    "plt.tight_layout()\n",
    "\n",
    "plt.show()"
   ]
  },
  {
   "cell_type": "markdown",
   "metadata": {},
   "source": [
    "Based on the distribution of columns and understanding of range of values columns should have, based on this we remove outliers sequentially"
   ]
  },
  {
   "cell_type": "code",
   "execution_count": 19,
   "metadata": {},
   "outputs": [],
   "source": [
    "# 'funded_amnt' does not contain outliers\n",
    "\n",
    "loan_df1=loan_df1[loan_df1['annual_inc']<160000]\n",
    "\n",
    "loan_df1=loan_df1[loan_df1['revol_util']<108]\n",
    "\n",
    "loan_df1=loan_df1[loan_df1['dti']<316]\n",
    "\n",
    "loan_df1=loan_df1[loan_df1['int_rate']<26.3]\n",
    "\n",
    "loan_df1=loan_df1[loan_df1['total_rec_int']<13000]"
   ]
  },
  {
   "cell_type": "code",
   "execution_count": 20,
   "metadata": {},
   "outputs": [
    {
     "data": {
      "text/plain": [
       "(813586, 31)"
      ]
     },
     "execution_count": 20,
     "metadata": {},
     "output_type": "execute_result"
    }
   ],
   "source": [
    "# shape of the dataframe after we remove outliers\n",
    "\n",
    "loan_df1.shape"
   ]
  },
  {
   "cell_type": "code",
   "execution_count": 21,
   "metadata": {},
   "outputs": [
    {
     "data": {
      "text/plain": [
       "0    0.944666\n",
       "1    0.055334\n",
       "Name: default_ind, dtype: float64"
      ]
     },
     "execution_count": 21,
     "metadata": {},
     "output_type": "execute_result"
    }
   ],
   "source": [
    "# value counts of categories present in 'default_ind' column after removing outliers\n",
    "\n",
    "loan_df1['default_ind'].value_counts(normalize=True)"
   ]
  },
  {
   "cell_type": "code",
   "execution_count": 22,
   "metadata": {},
   "outputs": [
    {
     "data": {
      "text/plain": [
       "0    0.945714\n",
       "1    0.054286\n",
       "Name: default_ind, dtype: float64"
      ]
     },
     "execution_count": 22,
     "metadata": {},
     "output_type": "execute_result"
    }
   ],
   "source": [
    "# value counts of categories present in 'default_ind' before removing outliers\n",
    "\n",
    "loan_df['default_ind'].value_counts(normalize=True)"
   ]
  },
  {
   "cell_type": "markdown",
   "metadata": {},
   "source": [
    "**Interpretation:** Instead of adopting ad-hoc method to remove outliers from the dataframe, we used understanding of domain to remove outliers, at the same time as we can see from above, percentage of count of categories present in target column i.e `default_ind` did not change.\n",
    "\n",
    "This strategy of treating outliers will be getting updated once we start building model."
   ]
  },
  {
   "cell_type": "markdown",
   "metadata": {},
   "source": [
    "## 2.4 Missing Value Analysis and Treatment"
   ]
  },
  {
   "cell_type": "markdown",
   "metadata": {},
   "source": [
    "**Check the presence of missing values in the data and treat them.**"
   ]
  },
  {
   "cell_type": "code",
   "execution_count": 23,
   "metadata": {},
   "outputs": [
    {
     "data": {
      "text/html": [
       "<div>\n",
       "<style scoped>\n",
       "    .dataframe tbody tr th:only-of-type {\n",
       "        vertical-align: middle;\n",
       "    }\n",
       "\n",
       "    .dataframe tbody tr th {\n",
       "        vertical-align: top;\n",
       "    }\n",
       "\n",
       "    .dataframe thead th {\n",
       "        text-align: right;\n",
       "    }\n",
       "</style>\n",
       "<table border=\"1\" class=\"dataframe\">\n",
       "  <thead>\n",
       "    <tr style=\"text-align: right;\">\n",
       "      <th></th>\n",
       "      <th>Total</th>\n",
       "      <th>Percentage of Missing Values</th>\n",
       "    </tr>\n",
       "  </thead>\n",
       "  <tbody>\n",
       "    <tr>\n",
       "      <th>total_rev_hi_lim</th>\n",
       "      <td>64258</td>\n",
       "      <td>7.89812</td>\n",
       "    </tr>\n",
       "    <tr>\n",
       "      <th>tot_cur_bal</th>\n",
       "      <td>64258</td>\n",
       "      <td>7.89812</td>\n",
       "    </tr>\n",
       "    <tr>\n",
       "      <th>tot_coll_amt</th>\n",
       "      <td>64258</td>\n",
       "      <td>7.89812</td>\n",
       "    </tr>\n",
       "    <tr>\n",
       "      <th>collections_12_mths_ex_med</th>\n",
       "      <td>48</td>\n",
       "      <td>0.00590</td>\n",
       "    </tr>\n",
       "    <tr>\n",
       "      <th>funded_amnt</th>\n",
       "      <td>0</td>\n",
       "      <td>0.00000</td>\n",
       "    </tr>\n",
       "    <tr>\n",
       "      <th>total_acc</th>\n",
       "      <td>0</td>\n",
       "      <td>0.00000</td>\n",
       "    </tr>\n",
       "    <tr>\n",
       "      <th>acc_now_delinq</th>\n",
       "      <td>0</td>\n",
       "      <td>0.00000</td>\n",
       "    </tr>\n",
       "    <tr>\n",
       "      <th>last_pymnt_amnt</th>\n",
       "      <td>0</td>\n",
       "      <td>0.00000</td>\n",
       "    </tr>\n",
       "    <tr>\n",
       "      <th>collection_recovery_fee</th>\n",
       "      <td>0</td>\n",
       "      <td>0.00000</td>\n",
       "    </tr>\n",
       "    <tr>\n",
       "      <th>recoveries</th>\n",
       "      <td>0</td>\n",
       "      <td>0.00000</td>\n",
       "    </tr>\n",
       "    <tr>\n",
       "      <th>total_rec_late_fee</th>\n",
       "      <td>0</td>\n",
       "      <td>0.00000</td>\n",
       "    </tr>\n",
       "    <tr>\n",
       "      <th>total_rec_int</th>\n",
       "      <td>0</td>\n",
       "      <td>0.00000</td>\n",
       "    </tr>\n",
       "    <tr>\n",
       "      <th>total_rec_prncp</th>\n",
       "      <td>0</td>\n",
       "      <td>0.00000</td>\n",
       "    </tr>\n",
       "    <tr>\n",
       "      <th>out_prncp</th>\n",
       "      <td>0</td>\n",
       "      <td>0.00000</td>\n",
       "    </tr>\n",
       "    <tr>\n",
       "      <th>initial_list_status</th>\n",
       "      <td>0</td>\n",
       "      <td>0.00000</td>\n",
       "    </tr>\n",
       "    <tr>\n",
       "      <th>revol_util</th>\n",
       "      <td>0</td>\n",
       "      <td>0.00000</td>\n",
       "    </tr>\n",
       "    <tr>\n",
       "      <th>term</th>\n",
       "      <td>0</td>\n",
       "      <td>0.00000</td>\n",
       "    </tr>\n",
       "    <tr>\n",
       "      <th>revol_bal</th>\n",
       "      <td>0</td>\n",
       "      <td>0.00000</td>\n",
       "    </tr>\n",
       "    <tr>\n",
       "      <th>pub_rec</th>\n",
       "      <td>0</td>\n",
       "      <td>0.00000</td>\n",
       "    </tr>\n",
       "    <tr>\n",
       "      <th>open_acc</th>\n",
       "      <td>0</td>\n",
       "      <td>0.00000</td>\n",
       "    </tr>\n",
       "    <tr>\n",
       "      <th>inq_last_6mths</th>\n",
       "      <td>0</td>\n",
       "      <td>0.00000</td>\n",
       "    </tr>\n",
       "    <tr>\n",
       "      <th>delinq_2yrs</th>\n",
       "      <td>0</td>\n",
       "      <td>0.00000</td>\n",
       "    </tr>\n",
       "    <tr>\n",
       "      <th>dti</th>\n",
       "      <td>0</td>\n",
       "      <td>0.00000</td>\n",
       "    </tr>\n",
       "    <tr>\n",
       "      <th>issue_d</th>\n",
       "      <td>0</td>\n",
       "      <td>0.00000</td>\n",
       "    </tr>\n",
       "    <tr>\n",
       "      <th>verification_status</th>\n",
       "      <td>0</td>\n",
       "      <td>0.00000</td>\n",
       "    </tr>\n",
       "    <tr>\n",
       "      <th>annual_inc</th>\n",
       "      <td>0</td>\n",
       "      <td>0.00000</td>\n",
       "    </tr>\n",
       "    <tr>\n",
       "      <th>home_ownership</th>\n",
       "      <td>0</td>\n",
       "      <td>0.00000</td>\n",
       "    </tr>\n",
       "    <tr>\n",
       "      <th>sub_grade</th>\n",
       "      <td>0</td>\n",
       "      <td>0.00000</td>\n",
       "    </tr>\n",
       "    <tr>\n",
       "      <th>grade</th>\n",
       "      <td>0</td>\n",
       "      <td>0.00000</td>\n",
       "    </tr>\n",
       "    <tr>\n",
       "      <th>int_rate</th>\n",
       "      <td>0</td>\n",
       "      <td>0.00000</td>\n",
       "    </tr>\n",
       "    <tr>\n",
       "      <th>default_ind</th>\n",
       "      <td>0</td>\n",
       "      <td>0.00000</td>\n",
       "    </tr>\n",
       "  </tbody>\n",
       "</table>\n",
       "</div>"
      ],
      "text/plain": [
       "                            Total  Percentage of Missing Values\n",
       "total_rev_hi_lim            64258                       7.89812\n",
       "tot_cur_bal                 64258                       7.89812\n",
       "tot_coll_amt                64258                       7.89812\n",
       "collections_12_mths_ex_med     48                       0.00590\n",
       "funded_amnt                     0                       0.00000\n",
       "total_acc                       0                       0.00000\n",
       "acc_now_delinq                  0                       0.00000\n",
       "last_pymnt_amnt                 0                       0.00000\n",
       "collection_recovery_fee         0                       0.00000\n",
       "recoveries                      0                       0.00000\n",
       "total_rec_late_fee              0                       0.00000\n",
       "total_rec_int                   0                       0.00000\n",
       "total_rec_prncp                 0                       0.00000\n",
       "out_prncp                       0                       0.00000\n",
       "initial_list_status             0                       0.00000\n",
       "revol_util                      0                       0.00000\n",
       "term                            0                       0.00000\n",
       "revol_bal                       0                       0.00000\n",
       "pub_rec                         0                       0.00000\n",
       "open_acc                        0                       0.00000\n",
       "inq_last_6mths                  0                       0.00000\n",
       "delinq_2yrs                     0                       0.00000\n",
       "dti                             0                       0.00000\n",
       "issue_d                         0                       0.00000\n",
       "verification_status             0                       0.00000\n",
       "annual_inc                      0                       0.00000\n",
       "home_ownership                  0                       0.00000\n",
       "sub_grade                       0                       0.00000\n",
       "grade                           0                       0.00000\n",
       "int_rate                        0                       0.00000\n",
       "default_ind                     0                       0.00000"
      ]
     },
     "execution_count": 23,
     "metadata": {},
     "output_type": "execute_result"
    }
   ],
   "source": [
    "# sort the variables on the basis of total null values in the variable\n",
    "# 'isnull().sum()' returns the number of missing values in each variable\n",
    "# 'ascending = False' sorts values in the descending order\n",
    "# the variable with highest number of missing values will appear first\n",
    "Total = loan_df1.isnull().sum().sort_values(ascending=False)          \n",
    "\n",
    "# calculate percentage of missing values\n",
    "# 'ascending = False' sorts values in the descending order\n",
    "# the variable with highest percentage of missing values will appear first\n",
    "Percent = (loan_df1.isnull().sum()*100/len(loan_df1)).sort_values(ascending=False)   \n",
    "\n",
    "# concat the 'Total' and 'Percent' columns using 'concat' function\n",
    "# pass a list of column names in parameter 'keys' \n",
    "# 'axis = 1' concats along the columns\n",
    "missing_data = pd.concat([Total, Percent], axis=1, keys=['Total', 'Percentage of Missing Values'])    \n",
    "missing_data"
   ]
  },
  {
   "cell_type": "markdown",
   "metadata": {},
   "source": [
    "**Interpretation:** As we can see from above only top 4 columns have null values those are `collections_12_mths_ex_med`, `tot_coll_amt`,`tot_cur_bal`, `total_rev_hi_lim`."
   ]
  },
  {
   "cell_type": "code",
   "execution_count": 24,
   "metadata": {},
   "outputs": [],
   "source": [
    "# Drop rows for the variables having less than 5% missing values\n",
    "loan_df1.dropna(axis=0, subset= ['collections_12_mths_ex_med'], inplace=True)"
   ]
  },
  {
   "cell_type": "code",
   "execution_count": 25,
   "metadata": {},
   "outputs": [
    {
     "name": "stdout",
     "output_type": "stream",
     "text": [
      "Skewness of   total_rev_hi_lim    : 4.05500743653349\n",
      "Skewness of   tot_cur_bal         : 1.5845531703100229\n",
      "Skewness of   tot_coll_amt        : 823.9938721407439\n"
     ]
    }
   ],
   "source": [
    "# check for skewness of the columns with missing values\n",
    "\n",
    "print('Skewness of   total_rev_hi_lim    :',loan_df1.total_rev_hi_lim.skew())\n",
    "print('Skewness of   tot_cur_bal         :',loan_df1.tot_cur_bal.skew())\n",
    "print('Skewness of   tot_coll_amt        :',loan_df1.tot_coll_amt.skew())"
   ]
  },
  {
   "cell_type": "code",
   "execution_count": 26,
   "metadata": {},
   "outputs": [],
   "source": [
    "# Imputing Median values\n",
    "\n",
    "loan_df1.total_rev_hi_lim = loan_df1.total_rev_hi_lim.fillna(loan_df1.total_rev_hi_lim.median())\n",
    "loan_df1.tot_cur_bal = loan_df1.tot_cur_bal.fillna(loan_df1.tot_cur_bal.median())\n",
    "loan_df1.tot_coll_amt = loan_df1.tot_coll_amt.fillna(loan_df1.tot_coll_amt.median())"
   ]
  },
  {
   "cell_type": "code",
   "execution_count": 27,
   "metadata": {},
   "outputs": [
    {
     "data": {
      "text/plain": [
       "0"
      ]
     },
     "execution_count": 27,
     "metadata": {},
     "output_type": "execute_result"
    }
   ],
   "source": [
    "# total number of null values in the dataframe\n",
    "\n",
    "loan_df1.isnull().sum().sum()"
   ]
  },
  {
   "cell_type": "markdown",
   "metadata": {},
   "source": [
    "**Interpretation:** As we can see from above, null values in the columns are dealt."
   ]
  },
  {
   "cell_type": "markdown",
   "metadata": {},
   "source": [
    "## 2.5 Checking for duplicates"
   ]
  },
  {
   "cell_type": "code",
   "execution_count": 28,
   "metadata": {},
   "outputs": [
    {
     "data": {
      "text/plain": [
       "0"
      ]
     },
     "execution_count": 28,
     "metadata": {},
     "output_type": "execute_result"
    }
   ],
   "source": [
    "loan_df1.duplicated().sum()"
   ]
  },
  {
   "cell_type": "markdown",
   "metadata": {},
   "source": [
    "**Interpretation:** As we can see from above,there are no duplicates in dataframe."
   ]
  },
  {
   "cell_type": "markdown",
   "metadata": {},
   "source": [
    "## 2.6 Encoding of Categorical Variables"
   ]
  },
  {
   "cell_type": "code",
   "execution_count": 29,
   "metadata": {},
   "outputs": [],
   "source": [
    "# CATEGORICAL COLUMNS:\n",
    "df_cat = loan_df1.select_dtypes(include= 'object')"
   ]
  },
  {
   "cell_type": "code",
   "execution_count": 30,
   "metadata": {},
   "outputs": [
    {
     "data": {
      "text/plain": [
       "Index(['term', 'grade', 'sub_grade', 'home_ownership', 'verification_status',\n",
       "       'initial_list_status'],\n",
       "      dtype='object')"
      ]
     },
     "execution_count": 30,
     "metadata": {},
     "output_type": "execute_result"
    }
   ],
   "source": [
    "df_cat.columns"
   ]
  },
  {
   "cell_type": "code",
   "execution_count": 31,
   "metadata": {},
   "outputs": [],
   "source": [
    "# Dummyencoding\n",
    "cat_encoded=pd.get_dummies(data=loan_df1[['term','home_ownership','verification_status','initial_list_status']],drop_first= True)"
   ]
  },
  {
   "cell_type": "code",
   "execution_count": 32,
   "metadata": {},
   "outputs": [],
   "source": [
    "cat_encoded['grade']=loan_df1.grade.map({'A':0,'B':1,'C':2,'D':3,'E':4,'F':5,'G':6})\n",
    "\n",
    "cat_encoded['sub_grade']=loan_df1.sub_grade.map({'A1':0,'B1':5,'C1':10,'D1':15,'E1':20,'F1':25,'G1':30,\n",
    "                                                'A2':1,'B2':6,'C2':11,'D2':16,'E2':21,'F2':26,'G2':31,\n",
    "                                                'A3':2,'B3':7,'C3':12,'D3':17,'E3':22,'F3':27,'G3':32,\n",
    "                                                'A4':3,'B4':8,'C4':13,'D4':18,'E4':23,'F4':28,'G4':33,\n",
    "                                                'A5':4,'B5':9,'C5':14,'D5':19,'E5':24,'F5':29,'G5':34})"
   ]
  },
  {
   "cell_type": "code",
   "execution_count": 33,
   "metadata": {},
   "outputs": [],
   "source": [
    "# NUMERICAL COLUMN:\n",
    "\n",
    "df_num  = loan_df1.select_dtypes(include= np.number).drop('default_ind',axis=1)  # -----> without target variable             \n",
    "df_num1 = loan_df1.select_dtypes(include= np.number)              # -----> with target variable              "
   ]
  },
  {
   "cell_type": "code",
   "execution_count": 34,
   "metadata": {},
   "outputs": [],
   "source": [
    "# CONCATINATING NUMERICAL AND ENCODED CATEGORICAL:\n",
    "\n",
    "df_vif=pd.concat([df_num,cat_encoded],axis=1)        # ------> for vif calculation  (doesnt have target variable)\n",
    "df_final=pd.concat([df_num1,cat_encoded],axis=1)     # ------> for train test split (has target variable)"
   ]
  },
  {
   "cell_type": "markdown",
   "metadata": {},
   "source": [
    "## 2.7. MULTICOLLINEARITY"
   ]
  },
  {
   "cell_type": "markdown",
   "metadata": {},
   "source": [
    "#### Calculate the VIF for each numeric variable."
   ]
  },
  {
   "cell_type": "code",
   "execution_count": 35,
   "metadata": {},
   "outputs": [
    {
     "data": {
      "text/html": [
       "<div>\n",
       "<style scoped>\n",
       "    .dataframe tbody tr th:only-of-type {\n",
       "        vertical-align: middle;\n",
       "    }\n",
       "\n",
       "    .dataframe tbody tr th {\n",
       "        vertical-align: top;\n",
       "    }\n",
       "\n",
       "    .dataframe thead th {\n",
       "        text-align: right;\n",
       "    }\n",
       "</style>\n",
       "<table border=\"1\" class=\"dataframe\">\n",
       "  <thead>\n",
       "    <tr style=\"text-align: right;\">\n",
       "      <th></th>\n",
       "      <th>VIF_Factor</th>\n",
       "      <th>Features</th>\n",
       "    </tr>\n",
       "  </thead>\n",
       "  <tbody>\n",
       "    <tr>\n",
       "      <th>0</th>\n",
       "      <td>53.649706</td>\n",
       "      <td>funded_amnt</td>\n",
       "    </tr>\n",
       "    <tr>\n",
       "      <th>1</th>\n",
       "      <td>23.915298</td>\n",
       "      <td>out_prncp</td>\n",
       "    </tr>\n",
       "    <tr>\n",
       "      <th>2</th>\n",
       "      <td>18.391109</td>\n",
       "      <td>total_rec_prncp</td>\n",
       "    </tr>\n",
       "    <tr>\n",
       "      <th>3</th>\n",
       "      <td>13.159478</td>\n",
       "      <td>int_rate</td>\n",
       "    </tr>\n",
       "    <tr>\n",
       "      <th>4</th>\n",
       "      <td>12.761135</td>\n",
       "      <td>open_acc</td>\n",
       "    </tr>\n",
       "    <tr>\n",
       "      <th>5</th>\n",
       "      <td>11.703504</td>\n",
       "      <td>total_acc</td>\n",
       "    </tr>\n",
       "    <tr>\n",
       "      <th>6</th>\n",
       "      <td>9.971818</td>\n",
       "      <td>annual_inc</td>\n",
       "    </tr>\n",
       "    <tr>\n",
       "      <th>7</th>\n",
       "      <td>9.830986</td>\n",
       "      <td>revol_util</td>\n",
       "    </tr>\n",
       "    <tr>\n",
       "      <th>8</th>\n",
       "      <td>8.740905</td>\n",
       "      <td>total_rev_hi_lim</td>\n",
       "    </tr>\n",
       "    <tr>\n",
       "      <th>9</th>\n",
       "      <td>7.859797</td>\n",
       "      <td>dti</td>\n",
       "    </tr>\n",
       "    <tr>\n",
       "      <th>10</th>\n",
       "      <td>6.784319</td>\n",
       "      <td>revol_bal</td>\n",
       "    </tr>\n",
       "    <tr>\n",
       "      <th>11</th>\n",
       "      <td>4.417526</td>\n",
       "      <td>total_rec_int</td>\n",
       "    </tr>\n",
       "    <tr>\n",
       "      <th>12</th>\n",
       "      <td>3.681579</td>\n",
       "      <td>recoveries</td>\n",
       "    </tr>\n",
       "    <tr>\n",
       "      <th>13</th>\n",
       "      <td>3.495390</td>\n",
       "      <td>last_pymnt_amnt</td>\n",
       "    </tr>\n",
       "    <tr>\n",
       "      <th>14</th>\n",
       "      <td>2.854209</td>\n",
       "      <td>tot_cur_bal</td>\n",
       "    </tr>\n",
       "    <tr>\n",
       "      <th>15</th>\n",
       "      <td>2.836442</td>\n",
       "      <td>collection_recovery_fee</td>\n",
       "    </tr>\n",
       "    <tr>\n",
       "      <th>16</th>\n",
       "      <td>1.706146</td>\n",
       "      <td>inq_last_6mths</td>\n",
       "    </tr>\n",
       "    <tr>\n",
       "      <th>17</th>\n",
       "      <td>1.198729</td>\n",
       "      <td>delinq_2yrs</td>\n",
       "    </tr>\n",
       "    <tr>\n",
       "      <th>18</th>\n",
       "      <td>1.163290</td>\n",
       "      <td>pub_rec</td>\n",
       "    </tr>\n",
       "    <tr>\n",
       "      <th>19</th>\n",
       "      <td>1.031751</td>\n",
       "      <td>total_rec_late_fee</td>\n",
       "    </tr>\n",
       "    <tr>\n",
       "      <th>20</th>\n",
       "      <td>1.024725</td>\n",
       "      <td>acc_now_delinq</td>\n",
       "    </tr>\n",
       "    <tr>\n",
       "      <th>21</th>\n",
       "      <td>1.020180</td>\n",
       "      <td>collections_12_mths_ex_med</td>\n",
       "    </tr>\n",
       "    <tr>\n",
       "      <th>22</th>\n",
       "      <td>1.000773</td>\n",
       "      <td>tot_coll_amt</td>\n",
       "    </tr>\n",
       "  </tbody>\n",
       "</table>\n",
       "</div>"
      ],
      "text/plain": [
       "    VIF_Factor                    Features\n",
       "0    53.649706                 funded_amnt\n",
       "1    23.915298                   out_prncp\n",
       "2    18.391109             total_rec_prncp\n",
       "3    13.159478                    int_rate\n",
       "4    12.761135                    open_acc\n",
       "5    11.703504                   total_acc\n",
       "6     9.971818                  annual_inc\n",
       "7     9.830986                  revol_util\n",
       "8     8.740905            total_rev_hi_lim\n",
       "9     7.859797                         dti\n",
       "10    6.784319                   revol_bal\n",
       "11    4.417526               total_rec_int\n",
       "12    3.681579                  recoveries\n",
       "13    3.495390             last_pymnt_amnt\n",
       "14    2.854209                 tot_cur_bal\n",
       "15    2.836442     collection_recovery_fee\n",
       "16    1.706146              inq_last_6mths\n",
       "17    1.198729                 delinq_2yrs\n",
       "18    1.163290                     pub_rec\n",
       "19    1.031751          total_rec_late_fee\n",
       "20    1.024725              acc_now_delinq\n",
       "21    1.020180  collections_12_mths_ex_med\n",
       "22    1.000773                tot_coll_amt"
      ]
     },
     "execution_count": 35,
     "metadata": {},
     "output_type": "execute_result"
    }
   ],
   "source": [
    "# create an empty dataframe to store the VIF for each variable\n",
    "vif = pd.DataFrame()\n",
    "\n",
    "# calculate VIF using list comprehension \n",
    "# use for loop to access each variable \n",
    "# calculate VIF for each variable and create a column 'VIF_Factor' to store the values \n",
    "vif[\"VIF_Factor\"] = [variance_inflation_factor(df_num.values, i) for i in range(df_num.shape[1])]\n",
    "\n",
    "# create a column of variable names\n",
    "vif[\"Features\"] = df_num.columns\n",
    "\n",
    "# sort the dataframe based on the values of VIF_Factor in descending order\n",
    "# 'ascending = False' sorts the data in descending order\n",
    "# 'reset_index' resets the index of the dataframe\n",
    "# 'drop = True' drops the previous index\n",
    "vif.sort_values('VIF_Factor', ascending = False).reset_index(drop = True)"
   ]
  },
  {
   "cell_type": "markdown",
   "metadata": {},
   "source": [
    "The output shows that the variable 'funded_amnt' has the highest VIF. Now, we use the `for loop` to find VIF and remove the variables with VIF greater than 10. We set the threshold to 10, as we wish to remove the variable for which the remaining variables explain more than 90% of the variation. One can choose the threshold  other than 10. (it depends on the business requirements)"
   ]
  },
  {
   "cell_type": "code",
   "execution_count": 36,
   "metadata": {},
   "outputs": [
    {
     "name": "stdout",
     "output_type": "stream",
     "text": [
      "    VIF_Factor                    Features\n",
      "0     9.579808                  annual_inc\n",
      "1     6.624970                         dti\n",
      "2     1.190832                 delinq_2yrs\n",
      "3     1.568690              inq_last_6mths\n",
      "4     1.141866                     pub_rec\n",
      "5     6.311702                   revol_bal\n",
      "6     7.332531                  revol_util\n",
      "7     7.402263                   total_acc\n",
      "8     3.779093                   out_prncp\n",
      "9     8.020594             total_rec_prncp\n",
      "10    3.517190               total_rec_int\n",
      "11    1.024971          total_rec_late_fee\n",
      "12    2.911107                  recoveries\n",
      "13    2.790364     collection_recovery_fee\n",
      "14    3.253917             last_pymnt_amnt\n",
      "15    1.018762  collections_12_mths_ex_med\n",
      "16    1.023762              acc_now_delinq\n",
      "17    1.000704                tot_coll_amt\n",
      "18    2.814154                 tot_cur_bal\n",
      "19    8.046988            total_rev_hi_lim\n"
     ]
    }
   ],
   "source": [
    "# for each numeric variable, calculate VIF and save it in a dataframe 'vif'\n",
    "\n",
    "# use for loop to iterate the VIF function \n",
    "for ind in range(len(df_num.columns)):\n",
    "    \n",
    "    # create an empty dataframe\n",
    "    vif = pd.DataFrame()\n",
    "\n",
    "    # calculate VIF using list comprehension\n",
    "    # use for loop to access each variable \n",
    "    # calculate VIF for each variable and create a column 'VIF_Factor' to store the values \n",
    "    vif[\"VIF_Factor\"] = [variance_inflation_factor(df_num.values, i) for i in range(df_num.shape[1])]\n",
    "\n",
    "    # create a column of variable names\n",
    "    vif[\"Features\"] = df_num.columns\n",
    "\n",
    "    # filter the variables with VIF greater than 10 and store it in a dataframe 'multi' \n",
    "    # one can choose the threshold other than 10 (it depends on the business requirements)\n",
    "    multi = vif[vif['VIF_Factor'] > 10]\n",
    "    \n",
    "    # if dataframe 'multi' is not empty, then sort the dataframe by VIF values\n",
    "    # if dataframe 'multi' is empty (i.e. all VIF <= 10), then print the dataframe 'vif' and break the for loop using 'break' \n",
    "    # 'by' sorts the data using given variable(s)\n",
    "    # 'ascending = False' sorts the data in descending order\n",
    "    if(multi.empty == False):\n",
    "        df_sorted = multi.sort_values(by = 'VIF_Factor', ascending = False)\n",
    "    else:\n",
    "        print(vif)\n",
    "        break\n",
    "    \n",
    "    # use if-else to drop the variable with the highest VIF\n",
    "    # if  dataframe 'df_sorted' is not empty, then drop the first entry in the column 'Features' from the numeric variables\n",
    "    # select the variable using 'iloc[]'\n",
    "    # 'axis=1' drops the corresponding column\n",
    "    #  else print the final dataframe 'vif' with all values after removal of variables with VIF less than 10  \n",
    "    if (df_sorted.empty == False):\n",
    "        df_num = df_num.drop(df_sorted.Features.iloc[0], axis=1)\n",
    "    else:\n",
    "        print(vif)"
   ]
  },
  {
   "cell_type": "markdown",
   "metadata": {},
   "source": [
    "**Interpretation** Now, we have all the variables with VIF less than 10. So, we can conclude that there is no multicollinearity in the data."
   ]
  },
  {
   "cell_type": "code",
   "execution_count": 37,
   "metadata": {},
   "outputs": [
    {
     "data": {
      "text/html": [
       "<div>\n",
       "<style scoped>\n",
       "    .dataframe tbody tr th:only-of-type {\n",
       "        vertical-align: middle;\n",
       "    }\n",
       "\n",
       "    .dataframe tbody tr th {\n",
       "        vertical-align: top;\n",
       "    }\n",
       "\n",
       "    .dataframe thead th {\n",
       "        text-align: right;\n",
       "    }\n",
       "</style>\n",
       "<table border=\"1\" class=\"dataframe\">\n",
       "  <thead>\n",
       "    <tr style=\"text-align: right;\">\n",
       "      <th></th>\n",
       "      <th>annual_inc</th>\n",
       "      <th>dti</th>\n",
       "      <th>delinq_2yrs</th>\n",
       "      <th>inq_last_6mths</th>\n",
       "      <th>pub_rec</th>\n",
       "      <th>revol_bal</th>\n",
       "      <th>revol_util</th>\n",
       "      <th>total_acc</th>\n",
       "      <th>out_prncp</th>\n",
       "      <th>total_rec_prncp</th>\n",
       "      <th>total_rec_int</th>\n",
       "      <th>total_rec_late_fee</th>\n",
       "      <th>recoveries</th>\n",
       "      <th>collection_recovery_fee</th>\n",
       "      <th>last_pymnt_amnt</th>\n",
       "      <th>collections_12_mths_ex_med</th>\n",
       "      <th>acc_now_delinq</th>\n",
       "      <th>tot_coll_amt</th>\n",
       "      <th>tot_cur_bal</th>\n",
       "      <th>total_rev_hi_lim</th>\n",
       "    </tr>\n",
       "  </thead>\n",
       "  <tbody>\n",
       "    <tr>\n",
       "      <th>0</th>\n",
       "      <td>24000.0</td>\n",
       "      <td>27.65</td>\n",
       "      <td>0</td>\n",
       "      <td>1</td>\n",
       "      <td>0</td>\n",
       "      <td>13648</td>\n",
       "      <td>83.7</td>\n",
       "      <td>9</td>\n",
       "      <td>0.0</td>\n",
       "      <td>5000.00</td>\n",
       "      <td>861.07</td>\n",
       "      <td>0.00</td>\n",
       "      <td>0.00</td>\n",
       "      <td>0.00</td>\n",
       "      <td>171.62</td>\n",
       "      <td>0.0</td>\n",
       "      <td>0</td>\n",
       "      <td>0.0</td>\n",
       "      <td>74824.0</td>\n",
       "      <td>23100.0</td>\n",
       "    </tr>\n",
       "    <tr>\n",
       "      <th>1</th>\n",
       "      <td>30000.0</td>\n",
       "      <td>1.00</td>\n",
       "      <td>0</td>\n",
       "      <td>5</td>\n",
       "      <td>0</td>\n",
       "      <td>1687</td>\n",
       "      <td>9.4</td>\n",
       "      <td>4</td>\n",
       "      <td>0.0</td>\n",
       "      <td>456.46</td>\n",
       "      <td>435.17</td>\n",
       "      <td>0.00</td>\n",
       "      <td>117.08</td>\n",
       "      <td>1.11</td>\n",
       "      <td>119.66</td>\n",
       "      <td>0.0</td>\n",
       "      <td>0</td>\n",
       "      <td>0.0</td>\n",
       "      <td>74824.0</td>\n",
       "      <td>23100.0</td>\n",
       "    </tr>\n",
       "    <tr>\n",
       "      <th>2</th>\n",
       "      <td>12252.0</td>\n",
       "      <td>8.72</td>\n",
       "      <td>0</td>\n",
       "      <td>2</td>\n",
       "      <td>0</td>\n",
       "      <td>2956</td>\n",
       "      <td>98.5</td>\n",
       "      <td>10</td>\n",
       "      <td>0.0</td>\n",
       "      <td>2400.00</td>\n",
       "      <td>603.65</td>\n",
       "      <td>0.00</td>\n",
       "      <td>0.00</td>\n",
       "      <td>0.00</td>\n",
       "      <td>649.91</td>\n",
       "      <td>0.0</td>\n",
       "      <td>0</td>\n",
       "      <td>0.0</td>\n",
       "      <td>74824.0</td>\n",
       "      <td>23100.0</td>\n",
       "    </tr>\n",
       "    <tr>\n",
       "      <th>3</th>\n",
       "      <td>49200.0</td>\n",
       "      <td>20.00</td>\n",
       "      <td>0</td>\n",
       "      <td>1</td>\n",
       "      <td>0</td>\n",
       "      <td>5598</td>\n",
       "      <td>21.0</td>\n",
       "      <td>37</td>\n",
       "      <td>0.0</td>\n",
       "      <td>10000.00</td>\n",
       "      <td>2209.33</td>\n",
       "      <td>16.97</td>\n",
       "      <td>0.00</td>\n",
       "      <td>0.00</td>\n",
       "      <td>357.48</td>\n",
       "      <td>0.0</td>\n",
       "      <td>0</td>\n",
       "      <td>0.0</td>\n",
       "      <td>74824.0</td>\n",
       "      <td>23100.0</td>\n",
       "    </tr>\n",
       "    <tr>\n",
       "      <th>4</th>\n",
       "      <td>80000.0</td>\n",
       "      <td>17.94</td>\n",
       "      <td>0</td>\n",
       "      <td>0</td>\n",
       "      <td>0</td>\n",
       "      <td>27783</td>\n",
       "      <td>53.9</td>\n",
       "      <td>38</td>\n",
       "      <td>766.9</td>\n",
       "      <td>2233.10</td>\n",
       "      <td>1009.07</td>\n",
       "      <td>0.00</td>\n",
       "      <td>0.00</td>\n",
       "      <td>0.00</td>\n",
       "      <td>67.79</td>\n",
       "      <td>0.0</td>\n",
       "      <td>0</td>\n",
       "      <td>0.0</td>\n",
       "      <td>74824.0</td>\n",
       "      <td>23100.0</td>\n",
       "    </tr>\n",
       "  </tbody>\n",
       "</table>\n",
       "</div>"
      ],
      "text/plain": [
       "   annual_inc    dti  delinq_2yrs  inq_last_6mths  pub_rec  revol_bal  \\\n",
       "0     24000.0  27.65            0               1        0      13648   \n",
       "1     30000.0   1.00            0               5        0       1687   \n",
       "2     12252.0   8.72            0               2        0       2956   \n",
       "3     49200.0  20.00            0               1        0       5598   \n",
       "4     80000.0  17.94            0               0        0      27783   \n",
       "\n",
       "   revol_util  total_acc  out_prncp  total_rec_prncp  total_rec_int  \\\n",
       "0        83.7          9        0.0          5000.00         861.07   \n",
       "1         9.4          4        0.0           456.46         435.17   \n",
       "2        98.5         10        0.0          2400.00         603.65   \n",
       "3        21.0         37        0.0         10000.00        2209.33   \n",
       "4        53.9         38      766.9          2233.10        1009.07   \n",
       "\n",
       "   total_rec_late_fee  recoveries  collection_recovery_fee  last_pymnt_amnt  \\\n",
       "0                0.00        0.00                     0.00           171.62   \n",
       "1                0.00      117.08                     1.11           119.66   \n",
       "2                0.00        0.00                     0.00           649.91   \n",
       "3               16.97        0.00                     0.00           357.48   \n",
       "4                0.00        0.00                     0.00            67.79   \n",
       "\n",
       "   collections_12_mths_ex_med  acc_now_delinq  tot_coll_amt  tot_cur_bal  \\\n",
       "0                         0.0               0           0.0      74824.0   \n",
       "1                         0.0               0           0.0      74824.0   \n",
       "2                         0.0               0           0.0      74824.0   \n",
       "3                         0.0               0           0.0      74824.0   \n",
       "4                         0.0               0           0.0      74824.0   \n",
       "\n",
       "   total_rev_hi_lim  \n",
       "0           23100.0  \n",
       "1           23100.0  \n",
       "2           23100.0  \n",
       "3           23100.0  \n",
       "4           23100.0  "
      ]
     },
     "execution_count": 37,
     "metadata": {},
     "output_type": "execute_result"
    }
   ],
   "source": [
    "# display the first 5 observations\n",
    "\n",
    "df_num.head()"
   ]
  },
  {
   "cell_type": "markdown",
   "metadata": {},
   "source": [
    "## 2.8. Transformations"
   ]
  },
  {
   "cell_type": "code",
   "execution_count": 38,
   "metadata": {},
   "outputs": [
    {
     "data": {
      "text/plain": [
       "annual_inc                      0.739094\n",
       "dti                             0.226613\n",
       "delinq_2yrs                     5.552401\n",
       "inq_last_6mths                  1.686650\n",
       "pub_rec                        14.089351\n",
       "revol_bal                       6.395372\n",
       "revol_util                     -0.170218\n",
       "total_acc                       0.896028\n",
       "out_prncp                       0.969440\n",
       "total_rec_prncp                 1.914632\n",
       "total_rec_int                   2.307645\n",
       "total_rec_late_fee             19.545769\n",
       "recoveries                     17.909853\n",
       "collection_recovery_fee        29.306333\n",
       "last_pymnt_amnt                 3.413825\n",
       "collections_12_mths_ex_med     17.973022\n",
       "acc_now_delinq                 25.247391\n",
       "tot_coll_amt                  858.532510\n",
       "tot_cur_bal                     1.713170\n",
       "total_rev_hi_lim                4.253788\n",
       "dtype: float64"
      ]
     },
     "execution_count": 38,
     "metadata": {},
     "output_type": "execute_result"
    }
   ],
   "source": [
    "df_num.skew()"
   ]
  },
  {
   "cell_type": "code",
   "execution_count": 57,
   "metadata": {},
   "outputs": [],
   "source": [
    "# sqrt transformation\n",
    "\n",
    "df_transformed=np.sqrt(df_num)"
   ]
  },
  {
   "cell_type": "code",
   "execution_count": 58,
   "metadata": {},
   "outputs": [
    {
     "data": {
      "text/plain": [
       "annual_inc                     0.240352\n",
       "dti                           -0.432488\n",
       "delinq_2yrs                    2.167605\n",
       "inq_last_6mths                 0.617907\n",
       "pub_rec                        2.310765\n",
       "revol_bal                      1.353269\n",
       "revol_util                    -0.930377\n",
       "total_acc                      0.198819\n",
       "out_prncp                      0.002234\n",
       "total_rec_prncp                0.802838\n",
       "total_rec_int                  0.904559\n",
       "total_rec_late_fee            10.527066\n",
       "recoveries                     7.891976\n",
       "collection_recovery_fee       11.281937\n",
       "last_pymnt_amnt                2.251959\n",
       "collections_12_mths_ex_med     8.941738\n",
       "acc_now_delinq                15.440037\n",
       "tot_coll_amt                  19.129932\n",
       "tot_cur_bal                    0.675441\n",
       "total_rev_hi_lim               1.318690\n",
       "dtype: float64"
      ]
     },
     "execution_count": 58,
     "metadata": {},
     "output_type": "execute_result"
    }
   ],
   "source": [
    "df_transformed.skew()"
   ]
  },
  {
   "cell_type": "markdown",
   "metadata": {},
   "source": [
    "**Interpretation** As we can see skewness of all numerical variables have been reduced after square root transformation.\n",
    "\n",
    "Here we implemented simple transformation strategy, but in future, while model building we would tranform each variable with different strategy or same based on the validity of assumptions, that are required before building parametric classification models."
   ]
  },
  {
   "cell_type": "markdown",
   "metadata": {},
   "source": [
    "## 2.9 Scaling"
   ]
  },
  {
   "cell_type": "code",
   "execution_count": 59,
   "metadata": {},
   "outputs": [
    {
     "data": {
      "text/html": [
       "<div>\n",
       "<style scoped>\n",
       "    .dataframe tbody tr th:only-of-type {\n",
       "        vertical-align: middle;\n",
       "    }\n",
       "\n",
       "    .dataframe tbody tr th {\n",
       "        vertical-align: top;\n",
       "    }\n",
       "\n",
       "    .dataframe thead th {\n",
       "        text-align: right;\n",
       "    }\n",
       "</style>\n",
       "<table border=\"1\" class=\"dataframe\">\n",
       "  <thead>\n",
       "    <tr style=\"text-align: right;\">\n",
       "      <th></th>\n",
       "      <th>annual_inc</th>\n",
       "      <th>dti</th>\n",
       "      <th>delinq_2yrs</th>\n",
       "      <th>inq_last_6mths</th>\n",
       "      <th>pub_rec</th>\n",
       "      <th>revol_bal</th>\n",
       "      <th>revol_util</th>\n",
       "      <th>total_acc</th>\n",
       "      <th>out_prncp</th>\n",
       "      <th>total_rec_prncp</th>\n",
       "      <th>total_rec_int</th>\n",
       "      <th>total_rec_late_fee</th>\n",
       "      <th>recoveries</th>\n",
       "      <th>collection_recovery_fee</th>\n",
       "      <th>last_pymnt_amnt</th>\n",
       "      <th>collections_12_mths_ex_med</th>\n",
       "      <th>acc_now_delinq</th>\n",
       "      <th>tot_coll_amt</th>\n",
       "      <th>tot_cur_bal</th>\n",
       "      <th>total_rev_hi_lim</th>\n",
       "    </tr>\n",
       "  </thead>\n",
       "  <tbody>\n",
       "    <tr>\n",
       "      <th>0</th>\n",
       "      <td>-1.730188</td>\n",
       "      <td>1.063787</td>\n",
       "      <td>-0.454488</td>\n",
       "      <td>0.754240</td>\n",
       "      <td>-0.414259</td>\n",
       "      <td>0.052537</td>\n",
       "      <td>1.077216</td>\n",
       "      <td>-1.604718</td>\n",
       "      <td>-1.280168</td>\n",
       "      <td>0.155715</td>\n",
       "      <td>-0.319107</td>\n",
       "      <td>-0.103898</td>\n",
       "      <td>-0.150269</td>\n",
       "      <td>-0.119997</td>\n",
       "      <td>-0.620970</td>\n",
       "      <td>-0.114239</td>\n",
       "      <td>-0.066236</td>\n",
       "      <td>-0.259924</td>\n",
       "      <td>-0.222544</td>\n",
       "      <td>-0.148737</td>\n",
       "    </tr>\n",
       "    <tr>\n",
       "      <th>1</th>\n",
       "      <td>-1.409314</td>\n",
       "      <td>-3.048500</td>\n",
       "      <td>-0.454488</td>\n",
       "      <td>2.712322</td>\n",
       "      <td>-0.414259</td>\n",
       "      <td>-1.422955</td>\n",
       "      <td>-2.241841</td>\n",
       "      <td>-2.466993</td>\n",
       "      <td>-1.280168</td>\n",
       "      <td>-1.125812</td>\n",
       "      <td>-0.744472</td>\n",
       "      <td>-0.103898</td>\n",
       "      <td>1.449950</td>\n",
       "      <td>0.360199</td>\n",
       "      <td>-0.687535</td>\n",
       "      <td>-0.114239</td>\n",
       "      <td>-0.066236</td>\n",
       "      <td>-0.259924</td>\n",
       "      <td>-0.222544</td>\n",
       "      <td>-0.148737</td>\n",
       "    </tr>\n",
       "    <tr>\n",
       "      <th>2</th>\n",
       "      <td>-2.506337</td>\n",
       "      <td>-1.162512</td>\n",
       "      <td>-0.454488</td>\n",
       "      <td>1.410405</td>\n",
       "      <td>-0.414259</td>\n",
       "      <td>-1.163975</td>\n",
       "      <td>1.500606</td>\n",
       "      <td>-1.464790</td>\n",
       "      <td>-1.280168</td>\n",
       "      <td>-0.408384</td>\n",
       "      <td>-0.558519</td>\n",
       "      <td>-0.103898</td>\n",
       "      <td>-0.150269</td>\n",
       "      <td>-0.119997</td>\n",
       "      <td>-0.239312</td>\n",
       "      <td>-0.114239</td>\n",
       "      <td>-0.066236</td>\n",
       "      <td>-0.259924</td>\n",
       "      <td>-0.222544</td>\n",
       "      <td>-0.148737</td>\n",
       "    </tr>\n",
       "    <tr>\n",
       "      <th>3</th>\n",
       "      <td>-0.556392</td>\n",
       "      <td>0.304559</td>\n",
       "      <td>-0.454488</td>\n",
       "      <td>0.754240</td>\n",
       "      <td>-0.414259</td>\n",
       "      <td>-0.765635</td>\n",
       "      <td>-1.414299</td>\n",
       "      <td>1.053470</td>\n",
       "      <td>-1.280168</td>\n",
       "      <td>0.916369</td>\n",
       "      <td>0.566372</td>\n",
       "      <td>7.385648</td>\n",
       "      <td>-0.150269</td>\n",
       "      <td>-0.119997</td>\n",
       "      <td>-0.442143</td>\n",
       "      <td>-0.114239</td>\n",
       "      <td>-0.066236</td>\n",
       "      <td>-0.259924</td>\n",
       "      <td>-0.222544</td>\n",
       "      <td>-0.148737</td>\n",
       "    </tr>\n",
       "    <tr>\n",
       "      <th>4</th>\n",
       "      <td>0.514584</td>\n",
       "      <td>0.076100</td>\n",
       "      <td>-0.454488</td>\n",
       "      <td>-0.829882</td>\n",
       "      <td>-0.414259</td>\n",
       "      <td>1.023667</td>\n",
       "      <td>0.091178</td>\n",
       "      <td>1.123876</td>\n",
       "      <td>-0.776984</td>\n",
       "      <td>-0.453420</td>\n",
       "      <td>-0.197670</td>\n",
       "      <td>-0.103898</td>\n",
       "      <td>-0.150269</td>\n",
       "      <td>-0.119997</td>\n",
       "      <td>-0.770853</td>\n",
       "      <td>-0.114239</td>\n",
       "      <td>-0.066236</td>\n",
       "      <td>-0.259924</td>\n",
       "      <td>-0.222544</td>\n",
       "      <td>-0.148737</td>\n",
       "    </tr>\n",
       "  </tbody>\n",
       "</table>\n",
       "</div>"
      ],
      "text/plain": [
       "   annual_inc       dti  delinq_2yrs  inq_last_6mths   pub_rec  revol_bal  \\\n",
       "0   -1.730188  1.063787    -0.454488        0.754240 -0.414259   0.052537   \n",
       "1   -1.409314 -3.048500    -0.454488        2.712322 -0.414259  -1.422955   \n",
       "2   -2.506337 -1.162512    -0.454488        1.410405 -0.414259  -1.163975   \n",
       "3   -0.556392  0.304559    -0.454488        0.754240 -0.414259  -0.765635   \n",
       "4    0.514584  0.076100    -0.454488       -0.829882 -0.414259   1.023667   \n",
       "\n",
       "   revol_util  total_acc  out_prncp  total_rec_prncp  total_rec_int  \\\n",
       "0    1.077216  -1.604718  -1.280168         0.155715      -0.319107   \n",
       "1   -2.241841  -2.466993  -1.280168        -1.125812      -0.744472   \n",
       "2    1.500606  -1.464790  -1.280168        -0.408384      -0.558519   \n",
       "3   -1.414299   1.053470  -1.280168         0.916369       0.566372   \n",
       "4    0.091178   1.123876  -0.776984        -0.453420      -0.197670   \n",
       "\n",
       "   total_rec_late_fee  recoveries  collection_recovery_fee  last_pymnt_amnt  \\\n",
       "0           -0.103898   -0.150269                -0.119997        -0.620970   \n",
       "1           -0.103898    1.449950                 0.360199        -0.687535   \n",
       "2           -0.103898   -0.150269                -0.119997        -0.239312   \n",
       "3            7.385648   -0.150269                -0.119997        -0.442143   \n",
       "4           -0.103898   -0.150269                -0.119997        -0.770853   \n",
       "\n",
       "   collections_12_mths_ex_med  acc_now_delinq  tot_coll_amt  tot_cur_bal  \\\n",
       "0                   -0.114239       -0.066236     -0.259924    -0.222544   \n",
       "1                   -0.114239       -0.066236     -0.259924    -0.222544   \n",
       "2                   -0.114239       -0.066236     -0.259924    -0.222544   \n",
       "3                   -0.114239       -0.066236     -0.259924    -0.222544   \n",
       "4                   -0.114239       -0.066236     -0.259924    -0.222544   \n",
       "\n",
       "   total_rev_hi_lim  \n",
       "0         -0.148737  \n",
       "1         -0.148737  \n",
       "2         -0.148737  \n",
       "3         -0.148737  \n",
       "4         -0.148737  "
      ]
     },
     "execution_count": 59,
     "metadata": {},
     "output_type": "execute_result"
    }
   ],
   "source": [
    "# scale the independent numeric and target variable\n",
    "df_transformed = df_transformed.apply(lambda rec: (rec - rec.mean()) / rec.std())\n",
    "\n",
    "df_transformed.head()"
   ]
  },
  {
   "cell_type": "markdown",
   "metadata": {},
   "source": [
    "## 3 Train-Test Split"
   ]
  },
  {
   "cell_type": "code",
   "execution_count": 40,
   "metadata": {},
   "outputs": [
    {
     "data": {
      "text/plain": [
       "0"
      ]
     },
     "execution_count": 40,
     "metadata": {},
     "output_type": "execute_result"
    }
   ],
   "source": [
    "df_num.isnull().sum().sum()"
   ]
  },
  {
   "cell_type": "code",
   "execution_count": 41,
   "metadata": {},
   "outputs": [
    {
     "data": {
      "text/plain": [
       "Index(['funded_amnt', 'term', 'int_rate', 'grade', 'sub_grade',\n",
       "       'home_ownership', 'annual_inc', 'verification_status', 'issue_d', 'dti',\n",
       "       'delinq_2yrs', 'inq_last_6mths', 'open_acc', 'pub_rec', 'revol_bal',\n",
       "       'revol_util', 'total_acc', 'initial_list_status', 'out_prncp',\n",
       "       'total_rec_prncp', 'total_rec_int', 'total_rec_late_fee', 'recoveries',\n",
       "       'collection_recovery_fee', 'last_pymnt_amnt',\n",
       "       'collections_12_mths_ex_med', 'acc_now_delinq', 'tot_coll_amt',\n",
       "       'tot_cur_bal', 'total_rev_hi_lim', 'default_ind'],\n",
       "      dtype='object')"
      ]
     },
     "execution_count": 41,
     "metadata": {},
     "output_type": "execute_result"
    }
   ],
   "source": [
    "loan_df1.columns"
   ]
  },
  {
   "cell_type": "code",
   "execution_count": 43,
   "metadata": {},
   "outputs": [
    {
     "data": {
      "text/html": [
       "<div>\n",
       "<style scoped>\n",
       "    .dataframe tbody tr th:only-of-type {\n",
       "        vertical-align: middle;\n",
       "    }\n",
       "\n",
       "    .dataframe tbody tr th {\n",
       "        vertical-align: top;\n",
       "    }\n",
       "\n",
       "    .dataframe thead th {\n",
       "        text-align: right;\n",
       "    }\n",
       "</style>\n",
       "<table border=\"1\" class=\"dataframe\">\n",
       "  <thead>\n",
       "    <tr style=\"text-align: right;\">\n",
       "      <th></th>\n",
       "      <th>issue_d</th>\n",
       "    </tr>\n",
       "  </thead>\n",
       "  <tbody>\n",
       "    <tr>\n",
       "      <th>0</th>\n",
       "      <td>2011-12-01</td>\n",
       "    </tr>\n",
       "    <tr>\n",
       "      <th>1</th>\n",
       "      <td>2011-12-01</td>\n",
       "    </tr>\n",
       "    <tr>\n",
       "      <th>2</th>\n",
       "      <td>2011-12-01</td>\n",
       "    </tr>\n",
       "    <tr>\n",
       "      <th>3</th>\n",
       "      <td>2011-12-01</td>\n",
       "    </tr>\n",
       "    <tr>\n",
       "      <th>4</th>\n",
       "      <td>2011-12-01</td>\n",
       "    </tr>\n",
       "  </tbody>\n",
       "</table>\n",
       "</div>"
      ],
      "text/plain": [
       "     issue_d\n",
       "0 2011-12-01\n",
       "1 2011-12-01\n",
       "2 2011-12-01\n",
       "3 2011-12-01\n",
       "4 2011-12-01"
      ]
     },
     "execution_count": 43,
     "metadata": {},
     "output_type": "execute_result"
    }
   ],
   "source": [
    "var=pd.DataFrame(data=loan_df1['issue_d'])\n",
    "\n",
    "issue_date.head()"
   ]
  },
  {
   "cell_type": "code",
   "execution_count": 44,
   "metadata": {},
   "outputs": [],
   "source": [
    "df_features1=pd.concat([df_num,cat_encoded],axis=1)\n",
    "df_final1=pd.concat([df_features1,loan_df1[['issue_d','default_ind']]],axis=1)"
   ]
  },
  {
   "cell_type": "code",
   "execution_count": 47,
   "metadata": {},
   "outputs": [
    {
     "data": {
      "text/plain": [
       "Index(['annual_inc', 'dti', 'delinq_2yrs', 'inq_last_6mths', 'pub_rec',\n",
       "       'revol_bal', 'revol_util', 'total_acc', 'out_prncp', 'total_rec_prncp',\n",
       "       'total_rec_int', 'total_rec_late_fee', 'recoveries',\n",
       "       'collection_recovery_fee', 'last_pymnt_amnt',\n",
       "       'collections_12_mths_ex_med', 'acc_now_delinq', 'tot_coll_amt',\n",
       "       'tot_cur_bal', 'total_rev_hi_lim', 'term_ 60 months',\n",
       "       'home_ownership_MORTGAGE', 'home_ownership_NONE',\n",
       "       'home_ownership_OTHER', 'home_ownership_OWN', 'home_ownership_RENT',\n",
       "       'verification_status_Source Verified', 'verification_status_Verified',\n",
       "       'initial_list_status_w', 'grade', 'sub_grade', 'issue_d',\n",
       "       'default_ind'],\n",
       "      dtype='object')"
      ]
     },
     "execution_count": 47,
     "metadata": {},
     "output_type": "execute_result"
    }
   ],
   "source": [
    "df_final1.columns"
   ]
  },
  {
   "cell_type": "code",
   "execution_count": 49,
   "metadata": {},
   "outputs": [
    {
     "data": {
      "text/plain": [
       "0"
      ]
     },
     "execution_count": 49,
     "metadata": {},
     "output_type": "execute_result"
    }
   ],
   "source": [
    "df_final1.isnull().sum().sum()"
   ]
  },
  {
   "cell_type": "code",
   "execution_count": 51,
   "metadata": {},
   "outputs": [
    {
     "data": {
      "text/plain": [
       "Timestamp('2007-08-01 00:00:00')"
      ]
     },
     "execution_count": 51,
     "metadata": {},
     "output_type": "execute_result"
    }
   ],
   "source": [
    "min(df_final1['issue_d'])"
   ]
  },
  {
   "cell_type": "code",
   "execution_count": 62,
   "metadata": {},
   "outputs": [],
   "source": [
    "train=df_final1[df_final1['issue_d']<'2015-06-01']"
   ]
  },
  {
   "cell_type": "code",
   "execution_count": 64,
   "metadata": {},
   "outputs": [],
   "source": [
    "test=df_final1[df_final1['issue_d']>='2015-06-01']"
   ]
  },
  {
   "cell_type": "code",
   "execution_count": 69,
   "metadata": {},
   "outputs": [
    {
     "data": {
      "text/plain": [
       "0    0.921613\n",
       "1    0.078387\n",
       "Name: default_ind, dtype: float64"
      ]
     },
     "execution_count": 69,
     "metadata": {},
     "output_type": "execute_result"
    }
   ],
   "source": [
    "train['default_ind'].value_counts(normalize=True)"
   ]
  },
  {
   "cell_type": "code",
   "execution_count": 72,
   "metadata": {},
   "outputs": [
    {
     "data": {
      "text/plain": [
       "0    0.998802\n",
       "1    0.001198\n",
       "Name: default_ind, dtype: float64"
      ]
     },
     "execution_count": 72,
     "metadata": {},
     "output_type": "execute_result"
    }
   ],
   "source": [
    "test['default_ind'].value_counts(normalize=True)"
   ]
  },
  {
   "cell_type": "code",
   "execution_count": 73,
   "metadata": {},
   "outputs": [],
   "source": [
    "train.to_csv('train_isd.csv')\n",
    "test.to_csv('test_isd.csv')"
   ]
  },
  {
   "cell_type": "code",
   "execution_count": 63,
   "metadata": {},
   "outputs": [
    {
     "data": {
      "text/plain": [
       "0.7013046716932706"
      ]
     },
     "execution_count": 63,
     "metadata": {},
     "output_type": "execute_result"
    }
   ],
   "source": [
    "len(train['issue_d'])/len(df_final1)"
   ]
  },
  {
   "cell_type": "code",
   "execution_count": null,
   "metadata": {},
   "outputs": [],
   "source": [
    "len(train)"
   ]
  },
  {
   "cell_type": "code",
   "execution_count": 52,
   "metadata": {},
   "outputs": [
    {
     "data": {
      "text/plain": [
       "Timestamp('2015-12-01 00:00:00')"
      ]
     },
     "execution_count": 52,
     "metadata": {},
     "output_type": "execute_result"
    }
   ],
   "source": [
    "max(df_final1['issue_d'])"
   ]
  },
  {
   "cell_type": "code",
   "execution_count": 63,
   "metadata": {},
   "outputs": [
    {
     "data": {
      "text/html": [
       "<div>\n",
       "<style scoped>\n",
       "    .dataframe tbody tr th:only-of-type {\n",
       "        vertical-align: middle;\n",
       "    }\n",
       "\n",
       "    .dataframe tbody tr th {\n",
       "        vertical-align: top;\n",
       "    }\n",
       "\n",
       "    .dataframe thead th {\n",
       "        text-align: right;\n",
       "    }\n",
       "</style>\n",
       "<table border=\"1\" class=\"dataframe\">\n",
       "  <thead>\n",
       "    <tr style=\"text-align: right;\">\n",
       "      <th></th>\n",
       "      <th>annual_inc</th>\n",
       "      <th>dti</th>\n",
       "      <th>delinq_2yrs</th>\n",
       "      <th>inq_last_6mths</th>\n",
       "      <th>pub_rec</th>\n",
       "      <th>revol_bal</th>\n",
       "      <th>revol_util</th>\n",
       "      <th>total_acc</th>\n",
       "      <th>out_prncp</th>\n",
       "      <th>total_rec_prncp</th>\n",
       "      <th>total_rec_int</th>\n",
       "      <th>total_rec_late_fee</th>\n",
       "      <th>recoveries</th>\n",
       "      <th>collection_recovery_fee</th>\n",
       "      <th>last_pymnt_amnt</th>\n",
       "      <th>collections_12_mths_ex_med</th>\n",
       "      <th>acc_now_delinq</th>\n",
       "      <th>tot_coll_amt</th>\n",
       "      <th>tot_cur_bal</th>\n",
       "      <th>total_rev_hi_lim</th>\n",
       "      <th>term_ 60 months</th>\n",
       "      <th>home_ownership_MORTGAGE</th>\n",
       "      <th>home_ownership_NONE</th>\n",
       "      <th>home_ownership_OTHER</th>\n",
       "      <th>home_ownership_OWN</th>\n",
       "      <th>home_ownership_RENT</th>\n",
       "      <th>verification_status_Source Verified</th>\n",
       "      <th>verification_status_Verified</th>\n",
       "      <th>initial_list_status_w</th>\n",
       "      <th>grade</th>\n",
       "      <th>sub_grade</th>\n",
       "      <th>default_ind</th>\n",
       "    </tr>\n",
       "  </thead>\n",
       "  <tbody>\n",
       "    <tr>\n",
       "      <th>0</th>\n",
       "      <td>-1.730188</td>\n",
       "      <td>1.063787</td>\n",
       "      <td>-0.454488</td>\n",
       "      <td>0.754240</td>\n",
       "      <td>-0.414259</td>\n",
       "      <td>0.052537</td>\n",
       "      <td>1.077216</td>\n",
       "      <td>-1.604718</td>\n",
       "      <td>-1.280168</td>\n",
       "      <td>0.155715</td>\n",
       "      <td>-0.319107</td>\n",
       "      <td>-0.103898</td>\n",
       "      <td>-0.150269</td>\n",
       "      <td>-0.119997</td>\n",
       "      <td>-0.620970</td>\n",
       "      <td>-0.114239</td>\n",
       "      <td>-0.066236</td>\n",
       "      <td>-0.259924</td>\n",
       "      <td>-0.222544</td>\n",
       "      <td>-0.148737</td>\n",
       "      <td>0</td>\n",
       "      <td>0</td>\n",
       "      <td>0</td>\n",
       "      <td>0</td>\n",
       "      <td>0</td>\n",
       "      <td>1</td>\n",
       "      <td>0</td>\n",
       "      <td>1</td>\n",
       "      <td>0</td>\n",
       "      <td>1</td>\n",
       "      <td>6</td>\n",
       "      <td>0</td>\n",
       "    </tr>\n",
       "    <tr>\n",
       "      <th>1</th>\n",
       "      <td>-1.409314</td>\n",
       "      <td>-3.048500</td>\n",
       "      <td>-0.454488</td>\n",
       "      <td>2.712322</td>\n",
       "      <td>-0.414259</td>\n",
       "      <td>-1.422955</td>\n",
       "      <td>-2.241841</td>\n",
       "      <td>-2.466993</td>\n",
       "      <td>-1.280168</td>\n",
       "      <td>-1.125812</td>\n",
       "      <td>-0.744472</td>\n",
       "      <td>-0.103898</td>\n",
       "      <td>1.449950</td>\n",
       "      <td>0.360199</td>\n",
       "      <td>-0.687535</td>\n",
       "      <td>-0.114239</td>\n",
       "      <td>-0.066236</td>\n",
       "      <td>-0.259924</td>\n",
       "      <td>-0.222544</td>\n",
       "      <td>-0.148737</td>\n",
       "      <td>1</td>\n",
       "      <td>0</td>\n",
       "      <td>0</td>\n",
       "      <td>0</td>\n",
       "      <td>0</td>\n",
       "      <td>1</td>\n",
       "      <td>1</td>\n",
       "      <td>0</td>\n",
       "      <td>0</td>\n",
       "      <td>2</td>\n",
       "      <td>13</td>\n",
       "      <td>1</td>\n",
       "    </tr>\n",
       "    <tr>\n",
       "      <th>2</th>\n",
       "      <td>-2.506337</td>\n",
       "      <td>-1.162512</td>\n",
       "      <td>-0.454488</td>\n",
       "      <td>1.410405</td>\n",
       "      <td>-0.414259</td>\n",
       "      <td>-1.163975</td>\n",
       "      <td>1.500606</td>\n",
       "      <td>-1.464790</td>\n",
       "      <td>-1.280168</td>\n",
       "      <td>-0.408384</td>\n",
       "      <td>-0.558519</td>\n",
       "      <td>-0.103898</td>\n",
       "      <td>-0.150269</td>\n",
       "      <td>-0.119997</td>\n",
       "      <td>-0.239312</td>\n",
       "      <td>-0.114239</td>\n",
       "      <td>-0.066236</td>\n",
       "      <td>-0.259924</td>\n",
       "      <td>-0.222544</td>\n",
       "      <td>-0.148737</td>\n",
       "      <td>0</td>\n",
       "      <td>0</td>\n",
       "      <td>0</td>\n",
       "      <td>0</td>\n",
       "      <td>0</td>\n",
       "      <td>1</td>\n",
       "      <td>0</td>\n",
       "      <td>0</td>\n",
       "      <td>0</td>\n",
       "      <td>2</td>\n",
       "      <td>14</td>\n",
       "      <td>0</td>\n",
       "    </tr>\n",
       "    <tr>\n",
       "      <th>3</th>\n",
       "      <td>-0.556392</td>\n",
       "      <td>0.304559</td>\n",
       "      <td>-0.454488</td>\n",
       "      <td>0.754240</td>\n",
       "      <td>-0.414259</td>\n",
       "      <td>-0.765635</td>\n",
       "      <td>-1.414299</td>\n",
       "      <td>1.053470</td>\n",
       "      <td>-1.280168</td>\n",
       "      <td>0.916369</td>\n",
       "      <td>0.566372</td>\n",
       "      <td>7.385648</td>\n",
       "      <td>-0.150269</td>\n",
       "      <td>-0.119997</td>\n",
       "      <td>-0.442143</td>\n",
       "      <td>-0.114239</td>\n",
       "      <td>-0.066236</td>\n",
       "      <td>-0.259924</td>\n",
       "      <td>-0.222544</td>\n",
       "      <td>-0.148737</td>\n",
       "      <td>0</td>\n",
       "      <td>0</td>\n",
       "      <td>0</td>\n",
       "      <td>0</td>\n",
       "      <td>0</td>\n",
       "      <td>1</td>\n",
       "      <td>1</td>\n",
       "      <td>0</td>\n",
       "      <td>0</td>\n",
       "      <td>2</td>\n",
       "      <td>10</td>\n",
       "      <td>0</td>\n",
       "    </tr>\n",
       "    <tr>\n",
       "      <th>4</th>\n",
       "      <td>0.514584</td>\n",
       "      <td>0.076100</td>\n",
       "      <td>-0.454488</td>\n",
       "      <td>-0.829882</td>\n",
       "      <td>-0.414259</td>\n",
       "      <td>1.023667</td>\n",
       "      <td>0.091178</td>\n",
       "      <td>1.123876</td>\n",
       "      <td>-0.776984</td>\n",
       "      <td>-0.453420</td>\n",
       "      <td>-0.197670</td>\n",
       "      <td>-0.103898</td>\n",
       "      <td>-0.150269</td>\n",
       "      <td>-0.119997</td>\n",
       "      <td>-0.770853</td>\n",
       "      <td>-0.114239</td>\n",
       "      <td>-0.066236</td>\n",
       "      <td>-0.259924</td>\n",
       "      <td>-0.222544</td>\n",
       "      <td>-0.148737</td>\n",
       "      <td>1</td>\n",
       "      <td>0</td>\n",
       "      <td>0</td>\n",
       "      <td>0</td>\n",
       "      <td>0</td>\n",
       "      <td>1</td>\n",
       "      <td>1</td>\n",
       "      <td>0</td>\n",
       "      <td>0</td>\n",
       "      <td>1</td>\n",
       "      <td>9</td>\n",
       "      <td>0</td>\n",
       "    </tr>\n",
       "  </tbody>\n",
       "</table>\n",
       "</div>"
      ],
      "text/plain": [
       "   annual_inc       dti  delinq_2yrs  inq_last_6mths   pub_rec  revol_bal  \\\n",
       "0   -1.730188  1.063787    -0.454488        0.754240 -0.414259   0.052537   \n",
       "1   -1.409314 -3.048500    -0.454488        2.712322 -0.414259  -1.422955   \n",
       "2   -2.506337 -1.162512    -0.454488        1.410405 -0.414259  -1.163975   \n",
       "3   -0.556392  0.304559    -0.454488        0.754240 -0.414259  -0.765635   \n",
       "4    0.514584  0.076100    -0.454488       -0.829882 -0.414259   1.023667   \n",
       "\n",
       "   revol_util  total_acc  out_prncp  total_rec_prncp  total_rec_int  \\\n",
       "0    1.077216  -1.604718  -1.280168         0.155715      -0.319107   \n",
       "1   -2.241841  -2.466993  -1.280168        -1.125812      -0.744472   \n",
       "2    1.500606  -1.464790  -1.280168        -0.408384      -0.558519   \n",
       "3   -1.414299   1.053470  -1.280168         0.916369       0.566372   \n",
       "4    0.091178   1.123876  -0.776984        -0.453420      -0.197670   \n",
       "\n",
       "   total_rec_late_fee  recoveries  collection_recovery_fee  last_pymnt_amnt  \\\n",
       "0           -0.103898   -0.150269                -0.119997        -0.620970   \n",
       "1           -0.103898    1.449950                 0.360199        -0.687535   \n",
       "2           -0.103898   -0.150269                -0.119997        -0.239312   \n",
       "3            7.385648   -0.150269                -0.119997        -0.442143   \n",
       "4           -0.103898   -0.150269                -0.119997        -0.770853   \n",
       "\n",
       "   collections_12_mths_ex_med  acc_now_delinq  tot_coll_amt  tot_cur_bal  \\\n",
       "0                   -0.114239       -0.066236     -0.259924    -0.222544   \n",
       "1                   -0.114239       -0.066236     -0.259924    -0.222544   \n",
       "2                   -0.114239       -0.066236     -0.259924    -0.222544   \n",
       "3                   -0.114239       -0.066236     -0.259924    -0.222544   \n",
       "4                   -0.114239       -0.066236     -0.259924    -0.222544   \n",
       "\n",
       "   total_rev_hi_lim  term_ 60 months  home_ownership_MORTGAGE  \\\n",
       "0         -0.148737                0                        0   \n",
       "1         -0.148737                1                        0   \n",
       "2         -0.148737                0                        0   \n",
       "3         -0.148737                0                        0   \n",
       "4         -0.148737                1                        0   \n",
       "\n",
       "   home_ownership_NONE  home_ownership_OTHER  home_ownership_OWN  \\\n",
       "0                    0                     0                   0   \n",
       "1                    0                     0                   0   \n",
       "2                    0                     0                   0   \n",
       "3                    0                     0                   0   \n",
       "4                    0                     0                   0   \n",
       "\n",
       "   home_ownership_RENT  verification_status_Source Verified  \\\n",
       "0                    1                                    0   \n",
       "1                    1                                    1   \n",
       "2                    1                                    0   \n",
       "3                    1                                    1   \n",
       "4                    1                                    1   \n",
       "\n",
       "   verification_status_Verified  initial_list_status_w  grade  sub_grade  \\\n",
       "0                             1                      0      1          6   \n",
       "1                             0                      0      2         13   \n",
       "2                             0                      0      2         14   \n",
       "3                             0                      0      2         10   \n",
       "4                             0                      0      1          9   \n",
       "\n",
       "   default_ind  \n",
       "0            0  \n",
       "1            1  \n",
       "2            0  \n",
       "3            0  \n",
       "4            0  "
      ]
     },
     "execution_count": 63,
     "metadata": {},
     "output_type": "execute_result"
    }
   ],
   "source": [
    "## Before splitting let us concatanate numerical and encoded variables\n",
    "\n",
    "df_features=pd.concat([df_transformed,cat_encoded],axis=1)        # -------> (doesnt have target variable)\n",
    "\n",
    "df_final=pd.concat([df_features,pd.DataFrame(loan_df1['default_ind'],columns=['default_ind'])],axis=1)     # ------> for train test split (has target variable)\n",
    "\n",
    "df_final.head()"
   ]
  },
  {
   "cell_type": "code",
   "execution_count": 66,
   "metadata": {},
   "outputs": [],
   "source": [
    "# train-test split\n",
    "\n",
    "X=df_final.drop('default_ind',axis=1)\n",
    "\n",
    "y=df_final['default_ind']\n",
    "\n",
    "X_train, X_test, y_train, y_test = train_test_split(X, y, test_size = 0.20, random_state = 10)"
   ]
  },
  {
   "cell_type": "code",
   "execution_count": 69,
   "metadata": {},
   "outputs": [
    {
     "name": "stdout",
     "output_type": "stream",
     "text": [
      "independent variables train data shape: (650830, 31)\n",
      "target variables train data shape: (650830,)\n",
      "independent variables test data shape: (162708, 31)\n",
      "target variables test data shape: (162708,)\n"
     ]
    }
   ],
   "source": [
    "# train data shape\n",
    "\n",
    "print('independent variables train data shape:',X_train.shape)\n",
    "\n",
    "print('target variables train data shape:',y_train.shape)\n",
    "\n",
    "# test data shape\n",
    "\n",
    "print('independent variables test data shape:',X_test.shape)\n",
    "\n",
    "print('target variables test data shape:',y_test.shape)\n"
   ]
  },
  {
   "cell_type": "markdown",
   "metadata": {},
   "source": [
    "**Final Comments:** Every step of Data preprocessing is carried out, train data is good to go for model building."
   ]
  }
 ],
 "metadata": {
  "kernelspec": {
   "display_name": "Python 3",
   "language": "python",
   "name": "python3"
  },
  "language_info": {
   "codemirror_mode": {
    "name": "ipython",
    "version": 3
   },
   "file_extension": ".py",
   "mimetype": "text/x-python",
   "name": "python",
   "nbconvert_exporter": "python",
   "pygments_lexer": "ipython3",
   "version": "3.8.5"
  }
 },
 "nbformat": 4,
 "nbformat_minor": 4
}
