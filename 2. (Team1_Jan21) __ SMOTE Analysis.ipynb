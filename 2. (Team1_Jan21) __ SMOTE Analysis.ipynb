{
  "nbformat": 4,
  "nbformat_minor": 0,
  "metadata": {
    "kernelspec": {
      "display_name": "Python 3",
      "language": "python",
      "name": "python3"
    },
    "language_info": {
      "codemirror_mode": {
        "name": "ipython",
        "version": 3
      },
      "file_extension": ".py",
      "mimetype": "text/x-python",
      "name": "python",
      "nbconvert_exporter": "python",
      "pygments_lexer": "ipython3",
      "version": "3.8.5"
    },
    "colab": {
      "name": "2. CAPSTONE_SMOTE_ (1).ipynb",
      "provenance": [],
      "collapsed_sections": [
        "JPNmo2TqrHss",
        "hxw_t-lurHs3",
        "lhzyjtTbrHs6",
        "JFBOi-594vUB",
        "lELAmmt0cUpm",
        "S4USXXvTFWDo",
        "xl_0U4HxziDy",
        "gVH3N2DtJCw3",
        "kMOnN9fCwgJ5",
        "KLra-77qo-82",
        "AWvY8icIKufX",
        "zVDhJAAb53cv",
        "9_GMBGpo6FRF",
        "25Lcg8uJHxGf",
        "iKWYFFgd6LIZ",
        "29a0noiJJy2s",
        "iggBY3D7UFk1",
        "kqQ0S2fY91vp",
        "py8APXK3Y_k9",
        "cbbikfGid_T8",
        "EBGaES5JfCle",
        "yBe2ofEifPYO",
        "NNMmNpPNfYB-",
        "iaX_SDAJfhKJ",
        "P6hC1dpSfkBk",
        "OPY-DhrdfpaM",
        "sNlCLYUAf2PL",
        "yrF6CyUDgMcP",
        "KhsOvXJiGWGX"
      ]
    }
  },
  "cells": [
    {
      "cell_type": "code",
      "metadata": {
        "colab": {
          "base_uri": "https://localhost:8080/"
        },
        "id": "6SAMBgJxs7DK",
        "outputId": "a5b1c712-d045-4fe4-d474-1e463c2f0bb2"
      },
      "source": [
        "from google.colab import drive\n",
        "drive.mount('/content/drive')"
      ],
      "execution_count": null,
      "outputs": [
        {
          "output_type": "stream",
          "name": "stdout",
          "text": [
            "Mounted at /content/drive\n"
          ]
        }
      ]
    },
    {
      "cell_type": "markdown",
      "metadata": {
        "id": "PjODb_MyrWSv"
      },
      "source": [
        "!pip install imbalanced-learn\n",
        "!pip3 install lightgbm\n",
        "\n",
        "from google.colab import drive\n",
        "drive.mount('/content/drive')"
      ]
    },
    {
      "cell_type": "markdown",
      "metadata": {
        "id": "0HdoqbZ6aNNd"
      },
      "source": [
        "# Libraries"
      ]
    },
    {
      "cell_type": "code",
      "metadata": {
        "id": "zmatENjOrHso",
        "colab": {
          "base_uri": "https://localhost:8080/"
        },
        "outputId": "03eb4c8e-dfcc-4a49-b811-5673ebd16bcf"
      },
      "source": [
        "import pandas as pd\n",
        "import numpy as np\n",
        "import seaborn as sns\n",
        "import matplotlib.pyplot as plt\n",
        "from warnings import filterwarnings\n",
        "filterwarnings('ignore')\n",
        "pd.options.display.max_columns = None\n",
        "\n",
        "# Import library for SMOTE analysis\n",
        "import imblearn\n",
        "from imblearn.over_sampling import SMOTE\n",
        "from imblearn.under_sampling import RandomUnderSampler\n",
        "from imblearn.pipeline import Pipeline\n",
        "print(imblearn.__version__)\n",
        "\n",
        "# import functions to perform scaling and normalization\n",
        "from sklearn.preprocessing import StandardScaler, PowerTransformer, MinMaxScaler \n",
        "\n",
        "# Import performance metrics\n",
        "from sklearn.metrics import confusion_matrix,classification_report,cohen_kappa_score,roc_auc_score,roc_curve,f1_score,log_loss,accuracy_score\n",
        "from sklearn import metrics\n",
        "\n",
        "# Parameter tuning and cross-validation\n",
        "from sklearn.model_selection import train_test_split, cross_val_score, GridSearchCV, RepeatedStratifiedKFold, StratifiedKFold, KFold\n",
        "from sklearn.feature_selection import RFE\n",
        "from sklearn.inspection import permutation_importance\n",
        "\n",
        "#Import Various Algorithm :\n",
        "from sklearn.linear_model import LogisticRegression as LR\n",
        "from sklearn.tree import DecisionTreeClassifier as DT\n",
        "from sklearn.neighbors import KNeighborsClassifier as KNN\n",
        "from sklearn.naive_bayes import GaussianNB as NB\n",
        "from sklearn.ensemble import RandomForestClassifier as RF\n",
        "from sklearn import svm\n",
        "from sklearn.svm import SVC, LinearSVC\n",
        "from sklearn.ensemble import AdaBoostClassifier as ADA\n",
        "from sklearn.ensemble import GradientBoostingClassifier as GB\n",
        "from xgboost import XGBClassifier as XGB\n",
        "from sklearn.ensemble import StackingClassifier\n",
        "import lightgbm as LGB"
      ],
      "execution_count": null,
      "outputs": [
        {
          "output_type": "stream",
          "name": "stdout",
          "text": [
            "0.4.3\n"
          ]
        }
      ]
    },
    {
      "cell_type": "markdown",
      "metadata": {
        "id": "JPNmo2TqrHss"
      },
      "source": [
        "# Train-Test"
      ]
    },
    {
      "cell_type": "code",
      "metadata": {
        "id": "fKS-kkhnrHsx"
      },
      "source": [
        "# Dataset \n",
        "train = pd.read_csv('/content/drive/MyDrive/Colab Notebooks/train_rf.csv').drop('Unnamed: 0',axis=1)\n",
        "test  = pd.read_csv('/content/drive/MyDrive/Colab Notebooks/test_rf.csv').drop('Unnamed: 0',axis=1)\n",
        "\n",
        "\n",
        "main_df=pd.concat([train,test])\n",
        "X=main_df.drop('default_ind',axis=1)\n",
        "y=main_df.iloc[:,14]"
      ],
      "execution_count": null,
      "outputs": []
    },
    {
      "cell_type": "code",
      "metadata": {
        "id": "3xQFwCCMrHs2"
      },
      "source": [
        "# For LogReg and Naive Bayes, we use Power-transform (Yeo-Johnson transform) on X_train and X_test\n",
        "# This brings the skewness of all num variables very close to 0 and mean=0, std=1.\n",
        "\n",
        "train_scaled = pd.read_csv('/content/drive/MyDrive/Colab Notebooks/train_rf.csv').drop('Unnamed: 0',axis=1)\n",
        "test_scaled  = pd.read_csv('/content/drive/MyDrive/Colab Notebooks/test_rf.csv').drop('Unnamed: 0',axis=1)\n",
        "\n",
        "# Power Transform\n",
        "fit_lambda             = PowerTransformer().fit(train_scaled.iloc[:,:14])\n",
        "train_scaled.iloc[:,:14] = pd.DataFrame(fit_lambda.transform(train_scaled.iloc[:,:14]),columns=train_scaled.columns[:14])\n",
        "test_scaled.iloc[:,:14]  = pd.DataFrame(fit_lambda.transform(test_scaled.iloc[:,:14]) ,columns=test_scaled.columns[:14])"
      ],
      "execution_count": null,
      "outputs": []
    },
    {
      "cell_type": "code",
      "metadata": {
        "id": "781b0RcTKaQA"
      },
      "source": [
        "## Splitting into train and test:\n",
        "\n",
        "X_train = train.drop('default_ind',axis=1)\n",
        "y_train = train.iloc[:,14]\n",
        "X_test  = test.drop('default_ind',axis=1)\n",
        "y_test = test.iloc[:,14]\n",
        "\n",
        "X_train_scaled = train_scaled.drop('default_ind',axis=1)\n",
        "y_train_scaled = train_scaled.iloc[:,14]\n",
        "X_test_scaled  = test_scaled.drop('default_ind',axis=1)\n",
        "y_test_scaled  = test_scaled.iloc[:,14]"
      ],
      "execution_count": null,
      "outputs": []
    },
    {
      "cell_type": "markdown",
      "metadata": {
        "id": "hxw_t-lurHs3"
      },
      "source": [
        "# Over Sampling"
      ]
    },
    {
      "cell_type": "code",
      "metadata": {
        "id": "WPWXhyVprHs4"
      },
      "source": [
        "# over-Sampling using SMOTE (full)\n",
        "for i in [0.15,0.2,0.25,0.3,0.35,0.4]:\n",
        "    X1, y1 = SMOTE(random_state=10, sampling_strategy=i).fit_resample(X,y)\n",
        "\n",
        "    print('\\033[1m\\033[4mSAMPLING-STRATEGY \\033[0m\\033[0m--',i)\n",
        "    print('\\nShape of X1_Train :',X1.shape)\n",
        "    print('Shape of y1_Train :',y1.shape)\n",
        "    print('\\nCOUNT OF DEFAULT-IND--')\n",
        "    print(pd.Series(y1).value_counts())\n",
        "    print('\\nPERCENT OF DEFAULT-IND--')\n",
        "    print(pd.Series(y1).value_counts(normalize=True)*100)\n",
        "    print('\\n')"
      ],
      "execution_count": null,
      "outputs": []
    },
    {
      "cell_type": "code",
      "metadata": {
        "id": "ro03kExDrHs5"
      },
      "source": [
        "# Choosing a value of i at random, to check the effect of smote on the model\n",
        "# Using sampling_strategy=0.35\n",
        "\n",
        "X1, y1 = SMOTE(random_state=10, sampling_strategy=0.35).fit_resample(X,y)"
      ],
      "execution_count": null,
      "outputs": []
    },
    {
      "cell_type": "markdown",
      "metadata": {
        "id": "lhzyjtTbrHs6"
      },
      "source": [
        "# Random Under Sampling"
      ]
    },
    {
      "cell_type": "code",
      "metadata": {
        "id": "GAGV4FM-rHs7"
      },
      "source": [
        "for i in [0.4,0.5,0.6,0.7,0.8,0.9,1] :   \n",
        "    Xu,yu = RandomUnderSampler(sampling_strategy=i, random_state=10).fit_resample(X,y)\n",
        "        \n",
        "    print('\\033[1m\\033[4mSAMPLING-STRATEGY \\033[0m\\033[0m--',i)\n",
        "    print('\\nShape of X2_Train :',Xu.shape)\n",
        "    print('Shape of y2_Train :',yu.shape)\n",
        "    print('\\n\\033[4mCOUNT OF DEFAULT-IND\\033[0m:')\n",
        "    print(pd.Series(yu).value_counts())\n",
        "    print('\\n\\033[4mPERCENT OF DEFAULT-IND\\033[0m:')\n",
        "    print(pd.Series(yu).value_counts(normalize=True)*100)\n",
        "    print('\\n')"
      ],
      "execution_count": null,
      "outputs": []
    },
    {
      "cell_type": "code",
      "metadata": {
        "id": "5qrKQ0a20Wuk"
      },
      "source": [
        "# Choosing a value of i at random, to check the effect of smote on the model\n",
        "# Using sampling strategy=0.42\n",
        "\n",
        "Xu,yu = RandomUnderSampler(sampling_strategy=0.42, random_state=10).fit_resample(X,y)"
      ],
      "execution_count": null,
      "outputs": []
    },
    {
      "cell_type": "markdown",
      "metadata": {
        "id": "JFBOi-594vUB"
      },
      "source": [
        "## SMOTE + Under Sampling"
      ]
    },
    {
      "cell_type": "code",
      "metadata": {
        "id": "srBLz6GFrHs8",
        "colab": {
          "base_uri": "https://localhost:8080/"
        },
        "outputId": "7130f027-11c2-4d0b-8632-13169f6aac36"
      },
      "source": [
        "# Using both arbitary values together for over+under sampling, to test the model:\n",
        "\n",
        "# define pipeline\n",
        "over = SMOTE(sampling_strategy=0.35)\n",
        "under = RandomUnderSampler(sampling_strategy=0.42)\n",
        "steps = [('o', over), ('u', under)]\n",
        "pipeline = Pipeline(steps=steps)\n",
        "\n",
        "# transform the dataset\n",
        "X_ou , y_ou = pipeline.fit_resample(X,y)\n",
        "\n",
        "print('\\nShape of X2_Train :',X_ou.shape)\n",
        "print('Shape of y2_Train :',y_ou.shape)\n",
        "print('\\n\\033[4mCOUNT OF DEFAULT-IND\\033[0m:')\n",
        "print(pd.Series(y_ou).value_counts())\n",
        "print('\\n\\033[4mPERCENT OF DEFAULT-IND\\033[0m:')\n",
        "print(pd.Series(y_ou).value_counts(normalize=True)*100)\n",
        "print('\\n')"
      ],
      "execution_count": null,
      "outputs": [
        {
          "output_type": "stream",
          "name": "stdout",
          "text": [
            "\n",
            "Shape of X2_Train : (625337, 26)\n",
            "Shape of y2_Train : (625337,)\n",
            "\n",
            "\u001b[4mCOUNT OF DEFAULT-IND\u001b[0m:\n",
            "0    440378\n",
            "1    184959\n",
            "dtype: int64\n",
            "\n",
            "\u001b[4mPERCENT OF DEFAULT-IND\u001b[0m:\n",
            "0    70.422508\n",
            "1    29.577492\n",
            "dtype: float64\n",
            "\n",
            "\n"
          ]
        }
      ]
    },
    {
      "cell_type": "markdown",
      "metadata": {
        "id": "lELAmmt0cUpm"
      },
      "source": [
        "# SMOTE + UnderSampling tuning"
      ]
    },
    {
      "cell_type": "code",
      "metadata": {
        "id": "JPf_r2Tr2fMG"
      },
      "source": [
        "## I've deleted most of the outputs coz it was too long. "
      ],
      "execution_count": null,
      "outputs": []
    },
    {
      "cell_type": "code",
      "metadata": {
        "id": "Kx8C-9PRcRCa"
      },
      "source": [
        "# optimizing with DT Classifier\n",
        "\n",
        "for i in [0.15,0.25]:\n",
        "    print('\\n============================================================================ i={}'.format(i))\n",
        "    for j in [0.3,0.4,0.5,0.6,0.7]:\n",
        "        # Creating pipeline\n",
        "        over = SMOTE(sampling_strategy=i,random_state=10)\n",
        "        under = RandomUnderSampler(sampling_strategy=j,random_state=10)\n",
        "        steps = [('o', over), ('u', under)]\n",
        "        pipeline = Pipeline(steps=steps)\n",
        "\n",
        "        # transform the dataset and fit the model\n",
        "        X1_ou , y1_ou = pipeline.fit_resample(X,y)\n",
        "        dt=DT(random_state=10, class_weight='balanced').fit(X1_ou,y1_ou)\n",
        "\n",
        "\n",
        "        print('\\n\\033[1m----------------------------- i={} : j={} ----------------------\\033[0m'.format(i,j))\n",
        "        print('\\033[4mCOUNT OF DEFAULT-IND\\033[0m:')\n",
        "        print(pd.Series(y1_ou).value_counts())\n",
        "        print('\\033[4mPERCENT OF DEFAULT-IND\\033[0m:')\n",
        "        print(pd.Series(y1_ou).value_counts(normalize=True)*100)\n",
        "        print(confusion_matrix(y_test,dt.predict(X_test)))\n",
        "        print(classification_report(y_train,dt.predict(X_train)))\n",
        "        print(classification_report(y_test,dt.predict(X_test)))"
      ],
      "execution_count": null,
      "outputs": []
    },
    {
      "cell_type": "code",
      "metadata": {
        "id": "YB_kK3hEcQ8j"
      },
      "source": [
        "for i in [0.35]:\n",
        "    print('\\n============================================================================ i={}'.format(i))\n",
        "    for j in [0.4,0.5,0.6,0.7]:\n",
        "        # Creating pipeline\n",
        "        over = SMOTE(sampling_strategy=i,random_state=10)\n",
        "        under = RandomUnderSampler(sampling_strategy=j,random_state=10)\n",
        "        steps = [('o', over), ('u', under)]\n",
        "        pipeline = Pipeline(steps=steps)\n",
        "\n",
        "        # transform the dataset and fit the model\n",
        "        X1_ou , y1_ou = pipeline.fit_resample(X,y)\n",
        "        dt=DT(random_state=10, class_weight='balanced').fit(X1_ou,y1_ou)\n",
        "\n",
        "\n",
        "        print('\\n\\033[1m----------------------------- i={} : j={} ----------------------\\033[0m'.format(i,j))\n",
        "        print('\\033[4mCOUNT OF DEFAULT-IND\\033[0m:')\n",
        "        print(pd.Series(y1_ou).value_counts())\n",
        "        print('\\033[4mPERCENT OF DEFAULT-IND\\033[0m:')\n",
        "        print(pd.Series(y1_ou).value_counts(normalize=True)*100)\n",
        "        print(confusion_matrix(y_test,dt.predict(X_test)))\n",
        "        print(classification_report(y_train,dt.predict(X_train)))\n",
        "        print(classification_report(y_test,dt.predict(X_test)))"
      ],
      "execution_count": null,
      "outputs": []
    },
    {
      "cell_type": "code",
      "metadata": {
        "id": "t2dSN9u3ryS-"
      },
      "source": [
        "for i in [0.45]:\n",
        "    print('\\n============================================================================ i={}'.format(i))\n",
        "    for j in [0.5,0.6,0.7,0.8]:\n",
        "        # Creating pipeline\n",
        "        over = SMOTE(sampling_strategy=i,random_state=10)\n",
        "        under = RandomUnderSampler(sampling_strategy=j,random_state=10)\n",
        "        steps = [('o', over), ('u', under)]\n",
        "        pipeline = Pipeline(steps=steps)\n",
        "\n",
        "        # transform the dataset and fit the model\n",
        "        X1_ou , y1_ou = pipeline.fit_resample(X,y)\n",
        "        dt=DT(random_state=10, class_weight='balanced').fit(X1_ou,y1_ou)\n",
        "\n",
        "\n",
        "        print('\\n\\033[1m----------------------------- i={} : j={} ----------------------\\033[0m'.format(i,j))\n",
        "        print('\\033[4mCOUNT OF DEFAULT-IND\\033[0m:')\n",
        "        print(pd.Series(y1_ou).value_counts())\n",
        "        print('\\033[4mPERCENT OF DEFAULT-IND\\033[0m:')\n",
        "        print(pd.Series(y1_ou).value_counts(normalize=True)*100)\n",
        "        print(confusion_matrix(y_test,dt.predict(X_test)))\n",
        "        print(classification_report(y_train,dt.predict(X_train)))\n",
        "        print(classification_report(y_test,dt.predict(X_test)))"
      ],
      "execution_count": null,
      "outputs": []
    },
    {
      "cell_type": "code",
      "metadata": {
        "id": "RlaXC8LXr-_k"
      },
      "source": [
        "for i in [0.55]:\n",
        "    print('\\n============================================================================ i={}'.format(i))\n",
        "    for j in [0.6,0.7,0.8]:\n",
        "        # Creating pipeline\n",
        "        over = SMOTE(sampling_strategy=i,random_state=10)\n",
        "        under = RandomUnderSampler(sampling_strategy=j,random_state=10)\n",
        "        steps = [('o', over), ('u', under)]\n",
        "        pipeline = Pipeline(steps=steps)\n",
        "\n",
        "        # transform the dataset and fit the model\n",
        "        X1_ou , y1_ou = pipeline.fit_resample(X,y)\n",
        "        dt=DT(random_state=10, class_weight='balanced').fit(X1_ou,y1_ou)\n",
        "\n",
        "\n",
        "        print('\\n\\033[1m----------------------------- i={} : j={} ----------------------\\033[0m'.format(i,j))\n",
        "        print('\\033[4mCOUNT OF DEFAULT-IND\\033[0m:')\n",
        "        print(pd.Series(y1_ou).value_counts())\n",
        "        print('\\033[4mPERCENT OF DEFAULT-IND\\033[0m:')\n",
        "        print(pd.Series(y1_ou).value_counts(normalize=True)*100)\n",
        "        print(confusion_matrix(y_test,dt.predict(X_test)))\n",
        "        print(classification_report(y_train,dt.predict(X_train)))\n",
        "        print(classification_report(y_test,dt.predict(X_test)))"
      ],
      "execution_count": null,
      "outputs": []
    },
    {
      "cell_type": "code",
      "metadata": {
        "id": "w2ez4diQr-8A"
      },
      "source": [
        "## After looking at the above results, we realise the best suited range for high performance is between\n",
        "##  i = (0.2 to 0.3)  and  j = (0.3 to 0.4)\n",
        "\n",
        "## So, super fine tuning between those values:\n",
        "\n",
        "for i in [0.2,0.22,0.24,0.26,0.28,0.3]:\n",
        "    print('\\n============================================================================ i={}'.format(i))\n",
        "    for j in [0.3,0.32,0.34,0.36,0.38,0.4]:\n",
        "        # Creating pipeline\n",
        "        over = SMOTE(sampling_strategy=i,random_state=10)\n",
        "        under = RandomUnderSampler(sampling_strategy=j,random_state=10)\n",
        "        steps = [('o', over), ('u', under)]\n",
        "        pipeline = Pipeline(steps=steps)\n",
        "\n",
        "        # transform the dataset and fit the model\n",
        "        X1_ou , y1_ou = pipeline.fit_resample(X,y)\n",
        "        dt=DT(random_state=10, class_weight='balanced').fit(X1_ou,y1_ou)\n",
        "\n",
        "\n",
        "        print('\\n\\033[1m----------------------------- i={} : j={} ----------------------\\033[0m'.format(i,j))\n",
        "        print('\\033[4mCOUNT OF DEFAULT-IND\\033[0m:')\n",
        "        print(pd.Series(y1_ou).value_counts())\n",
        "        print('\\033[4mPERCENT OF DEFAULT-IND\\033[0m:')\n",
        "        print(pd.Series(y1_ou).value_counts(normalize=True)*100)\n",
        "        print(confusion_matrix(y_test,dt.predict(X_test)))\n",
        "        print(classification_report(y_train,dt.predict(X_train)))\n",
        "        print(classification_report(y_test,dt.predict(X_test)))"
      ],
      "execution_count": null,
      "outputs": []
    },
    {
      "cell_type": "markdown",
      "metadata": {
        "id": "S4USXXvTFWDo"
      },
      "source": [
        "# SAMPLING results cross validation"
      ]
    },
    {
      "cell_type": "code",
      "metadata": {
        "id": "27t0IxnwFpRi"
      },
      "source": [
        "## Best param--- i=0.28,j=0.34 ---> ratio of (75:25) ----- got this by studying all the above combinations.\n",
        "\n",
        "# Creating pipeline\n",
        "over = SMOTE(sampling_strategy=0.28,random_state=10)\n",
        "under = RandomUnderSampler(sampling_strategy=0.34,random_state=10)\n",
        "steps = [('o', over), ('u', under)]\n",
        "pipeline = Pipeline(steps=steps)\n",
        "\n",
        "# transform the dataset and fit the model\n",
        "X11 , y11 = pipeline.fit_resample(X,y)\n",
        "dt=DT(random_state=10, class_weight='balanced')"
      ],
      "execution_count": null,
      "outputs": []
    },
    {
      "cell_type": "code",
      "metadata": {
        "colab": {
          "base_uri": "https://localhost:8080/"
        },
        "id": "yoQ5HoeinV0_",
        "outputId": "adf721af-24ed-4db0-fbe8-3ff7079d2106"
      },
      "source": [
        "## Cross validation------ f1 \n",
        "\n",
        "cv = RepeatedStratifiedKFold(n_splits=10, n_repeats=3, random_state=10)\n",
        "scores = cross_val_score(dt, X11, y11, scoring='f1', cv=cv, n_jobs=-1)\n",
        "print('Mean F1 score: ',np.mean(scores))"
      ],
      "execution_count": null,
      "outputs": [
        {
          "output_type": "stream",
          "name": "stdout",
          "text": [
            "Mean F1 score:  0.8166966218062542\n"
          ]
        }
      ]
    },
    {
      "cell_type": "code",
      "metadata": {
        "colab": {
          "base_uri": "https://localhost:8080/"
        },
        "id": "CLNqz5PdE_Ru",
        "outputId": "f91250aa-716c-41b3-b803-1fdd7ae27629"
      },
      "source": [
        "## Cross validation------ accuracy\n",
        "\n",
        "cv = RepeatedStratifiedKFold(n_splits=10, n_repeats=3, random_state=10)\n",
        "scores = cross_val_score(dt, X11, y11, scoring='accuracy', cv=cv, n_jobs=-1)\n",
        "print('Mean accuracy: ',np.mean(scores))"
      ],
      "execution_count": null,
      "outputs": [
        {
          "output_type": "stream",
          "name": "stdout",
          "text": [
            "Mean accuracy:  0.906052011145824\n"
          ]
        }
      ]
    },
    {
      "cell_type": "code",
      "metadata": {
        "colab": {
          "base_uri": "https://localhost:8080/"
        },
        "id": "zgmRflhaExYk",
        "outputId": "bd9484f0-12b8-494b-8d94-f21d68517c08"
      },
      "source": [
        "## Cross validation------ recall\n",
        "\n",
        "cv = RepeatedStratifiedKFold(n_splits=10, n_repeats=3, random_state=10)\n",
        "scores = cross_val_score(dt, X11, y11, scoring='recall', cv=cv, n_jobs=-1)\n",
        "print('Mean recall: ',np.mean(scores))"
      ],
      "execution_count": null,
      "outputs": [
        {
          "output_type": "stream",
          "name": "stdout",
          "text": [
            "Mean recall:  0.8248497159525009\n"
          ]
        }
      ]
    },
    {
      "cell_type": "code",
      "metadata": {
        "colab": {
          "base_uri": "https://localhost:8080/"
        },
        "id": "fCzZjhBKMVqH",
        "outputId": "f0190abf-08f6-4ab9-e4ad-7035819ad7d6"
      },
      "source": [
        "## Tuning the k value in smote:\n",
        "\n",
        "## Using F1 scoring--\n",
        "\n",
        "for k in range(2,10):\n",
        "    # Creating pipeline\n",
        "    over = SMOTE(sampling_strategy=0.28,random_state=10, k_neighbors=k)\n",
        "    under = RandomUnderSampler(sampling_strategy=0.34,random_state=10)\n",
        "    steps = [('o', over), ('u', under)]\n",
        "    pipeline = Pipeline(steps=steps)\n",
        "\n",
        "    # transform the dataset and fit the model\n",
        "    X11 , y11 = pipeline.fit_resample(X,y)\n",
        "    dt=DT(random_state=10, class_weight='balanced')\n",
        "\n",
        "    cv = RepeatedStratifiedKFold(n_splits=10, n_repeats=3, random_state=10)\n",
        "    scores = cross_val_score(dt, X11, y11, scoring='f1', cv=cv, n_jobs=-1)\n",
        "    print(k,' : Mean F1 score = ',np.mean(scores))\n",
        "\n",
        "## Values 2, 4, 5 seem good."
      ],
      "execution_count": null,
      "outputs": [
        {
          "output_type": "stream",
          "name": "stdout",
          "text": [
            "2  : Mean F1 score =  0.8172374590836868\n",
            "3  : Mean F1 score =  0.8160198038146056\n",
            "4  : Mean F1 score =  0.8162316704585688\n",
            "5  : Mean F1 score =  0.8163196736462944\n",
            "6  : Mean F1 score =  0.8147669736629782\n",
            "7  : Mean F1 score =  0.8156812825833443\n",
            "8  : Mean F1 score =  0.8160122468593529\n",
            "9  : Mean F1 score =  0.8155154981426519\n"
          ]
        }
      ]
    },
    {
      "cell_type": "code",
      "metadata": {
        "colab": {
          "base_uri": "https://localhost:8080/"
        },
        "id": "xvQ-JsEjZ9-D",
        "outputId": "1c20ddb8-4b78-457f-820f-5f741185d831"
      },
      "source": [
        "## Tuning value of k from 2,5 \n",
        "\n",
        "## Using accuracy scoring--\n",
        "\n",
        "for k in [2,5]:\n",
        "    # Creating pipeline\n",
        "    over = SMOTE(sampling_strategy=0.28,random_state=10, k_neighbors=k)\n",
        "    under = RandomUnderSampler(sampling_strategy=0.34,random_state=10)\n",
        "    steps = [('o', over), ('u', under)]\n",
        "    pipeline = Pipeline(steps=steps)\n",
        "\n",
        "    # transform the dataset and fit the model\n",
        "    X11 , y11 = pipeline.fit_resample(X,y)\n",
        "    dt=DT(random_state=10, class_weight='balanced')\n",
        "\n",
        "    cv = RepeatedStratifiedKFold(n_splits=10, n_repeats=3, random_state=10)\n",
        "    scores = cross_val_score(dt, X11, y11, scoring='accuracy', cv=cv, n_jobs=-1)\n",
        "    print(k,' : Mean F1 score = ',np.mean(scores))\n",
        "\n",
        "## Values 2 and 5 are good."
      ],
      "execution_count": null,
      "outputs": [
        {
          "output_type": "stream",
          "name": "stdout",
          "text": [
            "2  : Mean F1 score =  0.9068110070908261\n",
            "5  : Mean F1 score =  0.906052011145824\n"
          ]
        }
      ]
    },
    {
      "cell_type": "code",
      "metadata": {
        "colab": {
          "base_uri": "https://localhost:8080/"
        },
        "id": "8LdaRzIqaRuD",
        "outputId": "408ab437-89bf-4c62-9c19-cc3627013cf1"
      },
      "source": [
        "## Checking using roc_auc scoring--\n",
        "\n",
        "for k in [2,5]:\n",
        "    # Creating pipeline\n",
        "    over = SMOTE(sampling_strategy=0.28,random_state=10, k_neighbors=k)\n",
        "    under = RandomUnderSampler(sampling_strategy=0.34,random_state=10)\n",
        "    steps = [('o', over), ('u', under)]\n",
        "    pipeline = Pipeline(steps=steps)\n",
        "\n",
        "    # transform the dataset and fit the model\n",
        "    X11 , y11 = pipeline.fit_resample(X,y)\n",
        "    dt=DT(random_state=10, class_weight='balanced')\n",
        "\n",
        "    cv = RepeatedStratifiedKFold(n_splits=10, n_repeats=3, random_state=10)\n",
        "    scores = cross_val_score(dt, X11, y11, scoring='roc_auc', cv=cv, n_jobs=-1)\n",
        "    print(k,' : Mean F1 score = ',np.mean(scores))"
      ],
      "execution_count": null,
      "outputs": [
        {
          "output_type": "stream",
          "name": "stdout",
          "text": [
            "2  : Mean F1 score =  0.8795432030594933\n",
            "5  : Mean F1 score =  0.8787592617719733\n"
          ]
        }
      ]
    },
    {
      "cell_type": "markdown",
      "metadata": {
        "id": "xl_0U4HxziDy"
      },
      "source": [
        "# **FINAL DATASET AFTER IMBALANCE TREATMENT**"
      ]
    },
    {
      "cell_type": "markdown",
      "metadata": {
        "id": "gVH3N2DtJCw3"
      },
      "source": [
        "### On Entire Dataset"
      ]
    },
    {
      "cell_type": "code",
      "metadata": {
        "id": "wTASvzNfKsIy"
      },
      "source": [
        "## From the above, k=2 gives the higest f1 score\n",
        "## Thus, i=0.28, j=0.34, k=2:\n",
        "\n",
        "# Creating pipeline\n",
        "over = SMOTE(sampling_strategy=0.28,random_state=10, k_neighbors=2)\n",
        "under = RandomUnderSampler(sampling_strategy=0.34,random_state=10)\n",
        "steps = [('o', over), ('u', under)]\n",
        "pipeline = Pipeline(steps=steps)\n",
        "\n",
        "# transform the dataset and fit the model\n",
        "X_balanced , y_balanced = pipeline.fit_resample(X,y)\n",
        "X_train_balanced, X_test_balanced, y_train_balanced, y_test_balanced= train_test_split(X_balanced,y_balanced, test_size = 0.30, random_state = 10)"
      ],
      "execution_count": null,
      "outputs": []
    },
    {
      "cell_type": "code",
      "metadata": {
        "colab": {
          "base_uri": "https://localhost:8080/"
        },
        "id": "czlWTm5oN6fT",
        "outputId": "fb5a1ff5-19cc-40bf-ffe8-c3d90db17f9f"
      },
      "source": [
        "print('Shape of X_Train :',X_train_balanced.shape)\n",
        "print('Shape of y_Train :',y_train_balanced.shape)\n",
        "print('\\nShape of X_Test  :',X_test_balanced.shape)\n",
        "print('Shape of y_Test  :',y_test_balanced.shape)\n",
        "\n",
        "print('\\n\\n\\033[4mCOUNT OF DEFAULT-IND IN TRAIN\\033[0m:')\n",
        "print(pd.Series(y_train_balanced).value_counts())\n",
        "print('\\nPERCENT OF DEFAULT-IND:')\n",
        "print(pd.Series(y_train_balanced).value_counts(normalize=True)*100)\n",
        "\n",
        "print('\\n\\n\\033[4mCOUNT OF DEFAULT-IND IN TEST\\033[0m:')\n",
        "print(pd.Series(y_test_balanced).value_counts())\n",
        "print('\\nPERCENT OF DEFAULT-IND:')\n",
        "print(pd.Series(y_test_balanced).value_counts(normalize=True)*100)"
      ],
      "execution_count": null,
      "outputs": [
        {
          "output_type": "stream",
          "name": "stdout",
          "text": [
            "Shape of X_Train : (583181, 26)\n",
            "Shape of y_Train : (583181,)\n",
            "\n",
            "Shape of X_Test  : (249936, 26)\n",
            "Shape of y_Test  : (249936,)\n",
            "\n",
            "\n",
            "\u001b[4mCOUNT OF DEFAULT-IND IN TRAIN\u001b[0m:\n",
            "0    435208\n",
            "1    147973\n",
            "dtype: int64\n",
            "\n",
            "PERCENT OF DEFAULT-IND:\n",
            "0    74.626574\n",
            "1    25.373426\n",
            "dtype: float64\n",
            "\n",
            "\n",
            "\u001b[4mCOUNT OF DEFAULT-IND IN TEST\u001b[0m:\n",
            "0    186521\n",
            "1     63415\n",
            "dtype: int64\n",
            "\n",
            "PERCENT OF DEFAULT-IND:\n",
            "0    74.627505\n",
            "1    25.372495\n",
            "dtype: float64\n"
          ]
        }
      ]
    },
    {
      "cell_type": "code",
      "metadata": {
        "id": "U0VqICvkdOW5"
      },
      "source": [
        "X_balanced_csv = pd.DataFrame(X_balanced, columns=X.columns)\n",
        "y_balanced_csv = pd.DataFrame(y_balanced, columns=['default_ind'])\n",
        "balanced_df=pd.concat([X_balanced_csv,y_balanced_csv],axis=1)"
      ],
      "execution_count": null,
      "outputs": []
    },
    {
      "cell_type": "markdown",
      "metadata": {
        "id": "kMOnN9fCwgJ5"
      },
      "source": [
        "### Only On Train Dataset"
      ]
    },
    {
      "cell_type": "code",
      "metadata": {
        "id": "ZEAZbM0awe3J"
      },
      "source": [
        "## From the above, k=2 gives the higest f1 score\n",
        "## Thus, i=0.28, j=0.34, k=2:\n",
        "\n",
        "# Creating pipeline\n",
        "over = SMOTE(sampling_strategy=0.28,random_state=10, k_neighbors=2)\n",
        "under = RandomUnderSampler(sampling_strategy=0.34,random_state=10)\n",
        "steps = [('o', over), ('u', under)]\n",
        "pipeline = Pipeline(steps=steps)\n",
        "\n",
        "# transform the dataset and fit the model\n",
        "X_train_balanced1 , y_train_balanced1 = pipeline.fit_resample(X_train,y_train)"
      ],
      "execution_count": null,
      "outputs": []
    },
    {
      "cell_type": "code",
      "metadata": {
        "id": "ujtGSd6gzBZx"
      },
      "source": [
        "## For smote on Linear SVM, LR and NB\n",
        "\n",
        "X_train_balanced1_scaled, y_train_balanced1_scaled = pipeline.fit_resample(X_train,y_train)\n",
        "X_test_balanced1_scaled = test.drop('default_ind',axis=1)\n",
        "\n",
        "## Transforming the data\n",
        "fit_lambda_bal           = PowerTransformer().fit(X_train_balanced1[:,:14])\n",
        "X_train_balanced1_scaled[:,:14] = pd.DataFrame(fit_lambda_bal.transform(X_train_balanced1[:,:14]),columns=train.columns[:14])\n",
        "X_test_balanced1_scaled.iloc[:,:14]  = pd.DataFrame(fit_lambda_bal.transform(X_test.iloc[:,:14]) ,columns=test_scaled.columns[:14])"
      ],
      "execution_count": null,
      "outputs": []
    },
    {
      "cell_type": "markdown",
      "metadata": {
        "id": "KLra-77qo-82"
      },
      "source": [
        "# Exporting Dataset after SMOTE"
      ]
    },
    {
      "cell_type": "code",
      "metadata": {
        "id": "0_8Lj01aePf_"
      },
      "source": [
        "balanced_df.to_csv('balanced_dataset_after_smote.csv')"
      ],
      "execution_count": null,
      "outputs": []
    },
    {
      "cell_type": "code",
      "metadata": {
        "id": "aUZ4Tx5rok3b",
        "colab": {
          "base_uri": "https://localhost:8080/",
          "height": 17
        },
        "outputId": "b6d739c4-7407-4df6-fc08-76b6fff44907"
      },
      "source": [
        "from google.colab import files\n",
        "balanced_df.to_csv('balanced_df.csv') \n",
        "files.download('balanced_df.csv')"
      ],
      "execution_count": null,
      "outputs": [
        {
          "output_type": "display_data",
          "data": {
            "application/javascript": [
              "\n",
              "    async function download(id, filename, size) {\n",
              "      if (!google.colab.kernel.accessAllowed) {\n",
              "        return;\n",
              "      }\n",
              "      const div = document.createElement('div');\n",
              "      const label = document.createElement('label');\n",
              "      label.textContent = `Downloading \"${filename}\": `;\n",
              "      div.appendChild(label);\n",
              "      const progress = document.createElement('progress');\n",
              "      progress.max = size;\n",
              "      div.appendChild(progress);\n",
              "      document.body.appendChild(div);\n",
              "\n",
              "      const buffers = [];\n",
              "      let downloaded = 0;\n",
              "\n",
              "      const channel = await google.colab.kernel.comms.open(id);\n",
              "      // Send a message to notify the kernel that we're ready.\n",
              "      channel.send({})\n",
              "\n",
              "      for await (const message of channel.messages) {\n",
              "        // Send a message to notify the kernel that we're ready.\n",
              "        channel.send({})\n",
              "        if (message.buffers) {\n",
              "          for (const buffer of message.buffers) {\n",
              "            buffers.push(buffer);\n",
              "            downloaded += buffer.byteLength;\n",
              "            progress.value = downloaded;\n",
              "          }\n",
              "        }\n",
              "      }\n",
              "      const blob = new Blob(buffers, {type: 'application/binary'});\n",
              "      const a = document.createElement('a');\n",
              "      a.href = window.URL.createObjectURL(blob);\n",
              "      a.download = filename;\n",
              "      div.appendChild(a);\n",
              "      a.click();\n",
              "      div.remove();\n",
              "    }\n",
              "  "
            ],
            "text/plain": [
              "<IPython.core.display.Javascript object>"
            ]
          },
          "metadata": {}
        },
        {
          "output_type": "display_data",
          "data": {
            "application/javascript": [
              "download(\"download_490c4bc7-443b-401b-83d5-5216614bbe0d\", \"balanced_df.csv\", 149864282)"
            ],
            "text/plain": [
              "<IPython.core.display.Javascript object>"
            ]
          },
          "metadata": {}
        }
      ]
    },
    {
      "cell_type": "markdown",
      "metadata": {
        "id": "AWvY8icIKufX"
      },
      "source": [
        "# **MODEL BUILDING**"
      ]
    },
    {
      "cell_type": "markdown",
      "metadata": {
        "id": "zVDhJAAb53cv"
      },
      "source": [
        "### Decision Tree"
      ]
    },
    {
      "cell_type": "code",
      "metadata": {
        "colab": {
          "base_uri": "https://localhost:8080/"
        },
        "id": "XAEtJVCVMtcs",
        "outputId": "3edb7929-b26b-44bc-b03e-cf4ec313712d"
      },
      "source": [
        "# Base model\n",
        "dt=DT(random_state=10, class_weight='balanced').fit(X_train_balanced1,y_train_balanced1)\n",
        "print(confusion_matrix(y_test,dt.predict(X_test)))\n",
        "print(classification_report(y_train,dt.predict(X_train)))\n",
        "print(classification_report(y_test,dt.predict(X_test)))"
      ],
      "execution_count": null,
      "outputs": [
        {
          "output_type": "stream",
          "name": "stdout",
          "text": [
            "[[211578  14924]\n",
            " [ 10863   2080]]\n",
            "              precision    recall  f1-score   support\n",
            "\n",
            "           0       1.00      0.99      0.99    528457\n",
            "           1       0.83      1.00      0.91     30357\n",
            "\n",
            "    accuracy                           0.99    558814\n",
            "   macro avg       0.91      0.99      0.95    558814\n",
            "weighted avg       0.99      0.99      0.99    558814\n",
            "\n",
            "              precision    recall  f1-score   support\n",
            "\n",
            "           0       0.95      0.93      0.94    226502\n",
            "           1       0.12      0.16      0.14     12943\n",
            "\n",
            "    accuracy                           0.89    239445\n",
            "   macro avg       0.54      0.55      0.54    239445\n",
            "weighted avg       0.91      0.89      0.90    239445\n",
            "\n"
          ]
        }
      ]
    },
    {
      "cell_type": "code",
      "metadata": {
        "colab": {
          "base_uri": "https://localhost:8080/"
        },
        "id": "qZT3tSLp6ydZ",
        "outputId": "f8100fe3-1dd9-45a2-b320-ee4c43b4e6aa"
      },
      "source": [
        "dt.get_depth()"
      ],
      "execution_count": null,
      "outputs": [
        {
          "output_type": "execute_result",
          "data": {
            "text/plain": [
              "47"
            ]
          },
          "metadata": {},
          "execution_count": 17
        }
      ]
    },
    {
      "cell_type": "code",
      "metadata": {
        "id": "2uTYQJF86_BX",
        "colab": {
          "base_uri": "https://localhost:8080/"
        },
        "outputId": "bdb02b25-0c1e-4c23-a0a9-8b4a4a42c1db"
      },
      "source": [
        "## Tuning the hyperparameters\n",
        "dt1=DT(random_state = 10,class_weight='balanced')\n",
        "params={'max_depth':np.arange(1,55),'criterion':['entropy','gini']}\n",
        "kf=KFold(n_splits=3,shuffle=True,random_state=10)\n",
        "GS=GridSearchCV(dt1,params,cv=kf,n_jobs=-1,scoring='f1')\n",
        "GS.fit(X_train_balanced,y_train_balanced)\n",
        "GS.best_params_"
      ],
      "execution_count": null,
      "outputs": [
        {
          "output_type": "execute_result",
          "data": {
            "text/plain": [
              "{'criterion': 'gini', 'max_depth': 14}"
            ]
          },
          "metadata": {},
          "execution_count": 18
        }
      ]
    },
    {
      "cell_type": "code",
      "metadata": {
        "colab": {
          "base_uri": "https://localhost:8080/"
        },
        "id": "lRhFRO9RVXoI",
        "outputId": "752f50dd-f539-4c80-9497-d1dd32409a9f"
      },
      "source": [
        "# Tuned Decision Tree\n",
        "dt_tuned=DT(random_state=10, class_weight='balanced', max_depth=14, criterion='gini').fit(X_train_balanced1,y_train_balanced1)\n",
        "print(confusion_matrix(y_test,dt_tuned.predict(X_test)))\n",
        "print(classification_report(y_train,dt_tuned.predict(X_train)))\n",
        "print(classification_report(y_test,dt_tuned.predict(X_test)))"
      ],
      "execution_count": null,
      "outputs": [
        {
          "output_type": "stream",
          "name": "stdout",
          "text": [
            "[[212356  14146]\n",
            " [  9663   3280]]\n",
            "              precision    recall  f1-score   support\n",
            "\n",
            "           0       0.96      0.94      0.95    528457\n",
            "           1       0.23      0.31      0.27     30357\n",
            "\n",
            "    accuracy                           0.91    558814\n",
            "   macro avg       0.60      0.63      0.61    558814\n",
            "weighted avg       0.92      0.91      0.91    558814\n",
            "\n",
            "              precision    recall  f1-score   support\n",
            "\n",
            "           0       0.96      0.94      0.95    226502\n",
            "           1       0.19      0.25      0.22     12943\n",
            "\n",
            "    accuracy                           0.90    239445\n",
            "   macro avg       0.57      0.60      0.58    239445\n",
            "weighted avg       0.91      0.90      0.91    239445\n",
            "\n"
          ]
        }
      ]
    },
    {
      "cell_type": "code",
      "metadata": {
        "colab": {
          "base_uri": "https://localhost:8080/"
        },
        "id": "eFGqq3ETXUQr",
        "outputId": "794a19df-6751-4acc-f030-170c73fcc1e7"
      },
      "source": [
        "y_test_proba_dt = dt4.predict_proba(X_test)[:,1]\n",
        "print('ROC AUC :',roc_auc_score(y_test,y_test_proba_dt))"
      ],
      "execution_count": null,
      "outputs": [
        {
          "output_type": "stream",
          "name": "stdout",
          "text": [
            "ROC AUC : 0.77954899214054\n"
          ]
        }
      ]
    },
    {
      "cell_type": "code",
      "metadata": {
        "id": "wRpWopBeTb7t",
        "colab": {
          "base_uri": "https://localhost:8080/"
        },
        "outputId": "42e7d4bb-b5e5-411b-a085-5421d76ec4a6"
      },
      "source": [
        "y_pred=dt4.predict(X_test)\n",
        "plot_confusion_matrix(y_test,y_pred)"
      ],
      "execution_count": null,
      "outputs": [
        {
          "output_type": "display_data",
          "data": {
            "image/png": "[encoded data removed]",
            "text/plain": [
              "<Figure size 504x360 with 2 Axes>"
            ]
          },
          "metadata": {
            "needs_background": "light"
          }
        }
      ]
    },
    {
      "cell_type": "code",
      "metadata": {
        "id": "8jsopdfYTbfU",
        "colab": {
          "base_uri": "https://localhost:8080/"
        },
        "outputId": "778d5a4a-d6b9-486f-978d-7d64fab2b7a3"
      },
      "source": [
        "get_roc_curve(y_test,y_test_proba_dt)"
      ],
      "execution_count": null,
      "outputs": [
        {
          "output_type": "display_data",
          "data": {
            "image/png": "[encoded data removed]",
            "text/plain": [
              "<Figure size 720x432 with 1 Axes>"
            ]
          },
          "metadata": {
            "needs_background": "light"
          }
        }
      ]
    },
    {
      "cell_type": "code",
      "metadata": {
        "colab": {
          "base_uri": "https://localhost:8080/"
        },
        "id": "rrI59FEDE3Jk",
        "outputId": "60879658-890b-4932-8a15-1a5628c47f12"
      },
      "source": [
        "fpr, tpr, thresholds = roc_curve(y_test,y_test_proba_dt)\n",
        "youdens_table = pd.DataFrame({'TPR': tpr,'FPR': fpr,'Threshold': thresholds})\n",
        "youdens_table['Difference'] = youdens_table.TPR - youdens_table.FPR\n",
        "youdens_table = youdens_table.sort_values('Difference', ascending = False).reset_index(drop = True)\n",
        "\n",
        "# print the first five observations\n",
        "youdens_table.head()"
      ],
      "execution_count": null,
      "outputs": [
        {
          "output_type": "execute_result",
          "data": {
            "text/html": [
              "<div>\n",
              "<style scoped>\n",
              "    .dataframe tbody tr th:only-of-type {\n",
              "        vertical-align: middle;\n",
              "    }\n",
              "\n",
              "    .dataframe tbody tr th {\n",
              "        vertical-align: top;\n",
              "    }\n",
              "\n",
              "    .dataframe thead th {\n",
              "        text-align: right;\n",
              "    }\n",
              "</style>\n",
              "<table border=\"1\" class=\"dataframe\">\n",
              "  <thead>\n",
              "    <tr style=\"text-align: right;\">\n",
              "      <th></th>\n",
              "      <th>TPR</th>\n",
              "      <th>FPR</th>\n",
              "      <th>Threshold</th>\n",
              "      <th>Difference</th>\n",
              "    </tr>\n",
              "  </thead>\n",
              "  <tbody>\n",
              "    <tr>\n",
              "      <th>0</th>\n",
              "      <td>0.750599</td>\n",
              "      <td>0.316474</td>\n",
              "      <td>0.165881</td>\n",
              "      <td>0.434125</td>\n",
              "    </tr>\n",
              "    <tr>\n",
              "      <th>1</th>\n",
              "      <td>0.749285</td>\n",
              "      <td>0.315825</td>\n",
              "      <td>0.166251</td>\n",
              "      <td>0.433460</td>\n",
              "    </tr>\n",
              "    <tr>\n",
              "      <th>2</th>\n",
              "      <td>0.748822</td>\n",
              "      <td>0.315591</td>\n",
              "      <td>0.167673</td>\n",
              "      <td>0.433231</td>\n",
              "    </tr>\n",
              "    <tr>\n",
              "      <th>3</th>\n",
              "      <td>0.755312</td>\n",
              "      <td>0.322611</td>\n",
              "      <td>0.163934</td>\n",
              "      <td>0.432701</td>\n",
              "    </tr>\n",
              "    <tr>\n",
              "      <th>4</th>\n",
              "      <td>0.754694</td>\n",
              "      <td>0.321997</td>\n",
              "      <td>0.165135</td>\n",
              "      <td>0.432697</td>\n",
              "    </tr>\n",
              "  </tbody>\n",
              "</table>\n",
              "</div>"
            ],
            "text/plain": [
              "        TPR       FPR  Threshold  Difference\n",
              "0  0.750599  0.316474   0.165881    0.434125\n",
              "1  0.749285  0.315825   0.166251    0.433460\n",
              "2  0.748822  0.315591   0.167673    0.433231\n",
              "3  0.755312  0.322611   0.163934    0.432701\n",
              "4  0.754694  0.321997   0.165135    0.432697"
            ]
          },
          "metadata": {},
          "execution_count": 85
        }
      ]
    },
    {
      "cell_type": "code",
      "metadata": {
        "colab": {
          "base_uri": "https://localhost:8080/"
        },
        "id": "4NSeaNF6o8TE",
        "outputId": "b6e0ede2-1054-4dc3-8424-a85fa26036a4"
      },
      "source": [
        "y_pred_youden = [ 0 if x < 0.165881 else 1 for x in y_test_proba_dt]\n",
        "plot_confusion_matrix(y_test,y_pred_youden)"
      ],
      "execution_count": null,
      "outputs": [
        {
          "output_type": "display_data",
          "data": {
            "image/png": "[encoded data removed]",
            "text/plain": [
              "<Figure size 504x360 with 2 Axes>"
            ]
          },
          "metadata": {
            "needs_background": "light"
          }
        }
      ]
    },
    {
      "cell_type": "code",
      "metadata": {
        "colab": {
          "base_uri": "https://localhost:8080/"
        },
        "id": "AaRY2bmHuiv2",
        "outputId": "649028a5-bf53-45d2-a6db-53f6d6f635c9"
      },
      "source": [
        "print(classification_report(y_test,y_pred_youden))"
      ],
      "execution_count": null,
      "outputs": [
        {
          "output_type": "stream",
          "name": "stdout",
          "text": [
            "              precision    recall  f1-score   support\n",
            "\n",
            "           0       0.98      0.68      0.81    226502\n",
            "           1       0.12      0.75      0.21     12943\n",
            "\n",
            "    accuracy                           0.69    239445\n",
            "   macro avg       0.55      0.72      0.51    239445\n",
            "weighted avg       0.93      0.69      0.77    239445\n",
            "\n"
          ]
        }
      ]
    },
    {
      "cell_type": "markdown",
      "metadata": {
        "id": "9_GMBGpo6FRF"
      },
      "source": [
        "### Random Forest"
      ]
    },
    {
      "cell_type": "code",
      "metadata": {
        "id": "5I8McCVLAY8x",
        "colab": {
          "base_uri": "https://localhost:8080/"
        },
        "outputId": "ee29b1dc-174c-40fe-86eb-d37f1b2725f4"
      },
      "source": [
        "# Random Forest \n",
        "rf=RF(criterion='gini',random_state = 10,class_weight='balanced', max_depth=14).fit(X_train_balanced1,y_train_balanced1)\n",
        "print(confusion_matrix(y_test,rf.predict(X_test)))\n",
        "print(classification_report(y_train,rf.predict(X_train)))\n",
        "print(classification_report(y_test,rf.predict(X_test)))"
      ],
      "execution_count": null,
      "outputs": [
        {
          "output_type": "stream",
          "name": "stdout",
          "text": [
            "[[219677   6825]\n",
            " [ 11179   1764]]\n",
            "              precision    recall  f1-score   support\n",
            "\n",
            "           0       0.95      0.97      0.96    528457\n",
            "           1       0.24      0.16      0.20     30357\n",
            "\n",
            "    accuracy                           0.93    558814\n",
            "   macro avg       0.60      0.57      0.58    558814\n",
            "weighted avg       0.91      0.93      0.92    558814\n",
            "\n",
            "              precision    recall  f1-score   support\n",
            "\n",
            "           0       0.95      0.97      0.96    226502\n",
            "           1       0.21      0.14      0.16     12943\n",
            "\n",
            "    accuracy                           0.92    239445\n",
            "   macro avg       0.58      0.55      0.56    239445\n",
            "weighted avg       0.91      0.92      0.92    239445\n",
            "\n"
          ]
        }
      ]
    },
    {
      "cell_type": "code",
      "metadata": {
        "id": "r3jKLm6eDiH9",
        "colab": {
          "base_uri": "https://localhost:8080/"
        },
        "outputId": "fa28846e-ef0d-4fac-f52f-0c66cbcb5a3c"
      },
      "source": [
        "## Tuning the hyperparameters\n",
        "rf1=RF(criterion='gini',random_state = 10,class_weight='balanced', max_depth=14)\n",
        "params={'n_estimators':range(20,150,2)}\n",
        "kf=KFold(n_splits=3,shuffle=True,random_state=10)\n",
        "rf_GS=GridSearchCV(rf1,params,cv=kf,n_jobs=-1,scoring='f1')\n",
        "rf_GS.fit(X_train_balanced,y_train_balanced)\n",
        "rf_GS.best_params_"
      ],
      "execution_count": null,
      "outputs": [
        {
          "output_type": "execute_result",
          "data": {
            "text/plain": [
              "{'n_estimators': 100}"
            ]
          },
          "metadata": {},
          "execution_count": 27
        }
      ]
    },
    {
      "cell_type": "code",
      "metadata": {
        "id": "c_3UamILBZKK",
        "colab": {
          "base_uri": "https://localhost:8080/"
        },
        "outputId": "a11c25cb-bc15-4ff4-adb4-2e3678b0a6a4"
      },
      "source": [
        "# Fitting Random Forest model with best parameters\n",
        "rf1=RF(n_estimators=100,criterion='gini',random_state = 10,class_weight='balanced',max_depth=14).fit(X_train_balanced1,y_train_balanced1)\n",
        "print(confusion_matrix(y_test,rf1.predict(X_test)))\n",
        "print(classification_report(y_train,rf1.predict(X_train)))\n",
        "print(classification_report(y_test,rf1.predict(X_test)))"
      ],
      "execution_count": null,
      "outputs": [
        {
          "output_type": "stream",
          "name": "stdout",
          "text": [
            "[[219677   6825]\n",
            " [ 11179   1764]]\n",
            "              precision    recall  f1-score   support\n",
            "\n",
            "           0       0.95      0.97      0.96    528457\n",
            "           1       0.24      0.16      0.20     30357\n",
            "\n",
            "    accuracy                           0.93    558814\n",
            "   macro avg       0.60      0.57      0.58    558814\n",
            "weighted avg       0.91      0.93      0.92    558814\n",
            "\n",
            "              precision    recall  f1-score   support\n",
            "\n",
            "           0       0.95      0.97      0.96    226502\n",
            "           1       0.21      0.14      0.16     12943\n",
            "\n",
            "    accuracy                           0.92    239445\n",
            "   macro avg       0.58      0.55      0.56    239445\n",
            "weighted avg       0.91      0.92      0.92    239445\n",
            "\n"
          ]
        }
      ]
    },
    {
      "cell_type": "code",
      "metadata": {
        "id": "aw581i1aaxHT",
        "colab": {
          "base_uri": "https://localhost:8080/"
        },
        "outputId": "17e9109c-a1d8-45ef-b3f4-5495a2be041b"
      },
      "source": [
        "y_test_proba_rf = rf1.predict_proba(X_test)[:,1]\n",
        "print('ROC AUC :',roc_auc_score(y_test,y_test_proba_rf))"
      ],
      "execution_count": null,
      "outputs": [
        {
          "output_type": "stream",
          "name": "stdout",
          "text": [
            "ROC AUC : 0.7738212140083236\n"
          ]
        }
      ]
    },
    {
      "cell_type": "code",
      "metadata": {
        "id": "fcBGcPMtUPKN",
        "colab": {
          "base_uri": "https://localhost:8080/",
          "height": 325
        },
        "outputId": "311ba3bd-83bd-40a8-8686-a830f30c9ec0"
      },
      "source": [
        "y_pred=rf1.predict(X_test)\n",
        "plot_confusion_matrix(y_test,y_pred)"
      ],
      "execution_count": null,
      "outputs": [
        {
          "output_type": "display_data",
          "data": {
            "image/png": "[encoded data removed]",
            "text/plain": [
              "<Figure size 504x360 with 2 Axes>"
            ]
          },
          "metadata": {
            "needs_background": "light"
          }
        }
      ]
    },
    {
      "cell_type": "code",
      "metadata": {
        "id": "N7APmTTeULJ_",
        "colab": {
          "base_uri": "https://localhost:8080/",
          "height": 411
        },
        "outputId": "3bef692e-3887-4917-b2b5-de8791180931"
      },
      "source": [
        "get_roc_curve(y_test,y_test_proba_rf)"
      ],
      "execution_count": null,
      "outputs": [
        {
          "output_type": "display_data",
          "data": {
            "image/png": "[encoded data removed]",
            "text/plain": [
              "<Figure size 720x432 with 1 Axes>"
            ]
          },
          "metadata": {
            "needs_background": "light"
          }
        }
      ]
    },
    {
      "cell_type": "code",
      "metadata": {
        "colab": {
          "base_uri": "https://localhost:8080/",
          "height": 205
        },
        "id": "lM3BP4ItsTEI",
        "outputId": "4655ad0e-7fde-42c8-9a3c-63c216865eca"
      },
      "source": [
        "fpr, tpr, thresholds = roc_curve(y_test,y_test_proba_rf)\n",
        "youdens_table = pd.DataFrame({'TPR': tpr,'FPR': fpr,'Threshold': thresholds})\n",
        "youdens_table['Difference'] = youdens_table.TPR - youdens_table.FPR\n",
        "youdens_table = youdens_table.sort_values('Difference', ascending = False).reset_index(drop = True)\n",
        "\n",
        "# print the first five observations\n",
        "youdens_table.head()"
      ],
      "execution_count": null,
      "outputs": [
        {
          "output_type": "execute_result",
          "data": {
            "text/html": [
              "<div>\n",
              "<style scoped>\n",
              "    .dataframe tbody tr th:only-of-type {\n",
              "        vertical-align: middle;\n",
              "    }\n",
              "\n",
              "    .dataframe tbody tr th {\n",
              "        vertical-align: top;\n",
              "    }\n",
              "\n",
              "    .dataframe thead th {\n",
              "        text-align: right;\n",
              "    }\n",
              "</style>\n",
              "<table border=\"1\" class=\"dataframe\">\n",
              "  <thead>\n",
              "    <tr style=\"text-align: right;\">\n",
              "      <th></th>\n",
              "      <th>TPR</th>\n",
              "      <th>FPR</th>\n",
              "      <th>Threshold</th>\n",
              "      <th>Difference</th>\n",
              "    </tr>\n",
              "  </thead>\n",
              "  <tbody>\n",
              "    <tr>\n",
              "      <th>0</th>\n",
              "      <td>0.781349</td>\n",
              "      <td>0.363908</td>\n",
              "      <td>0.204019</td>\n",
              "      <td>0.417441</td>\n",
              "    </tr>\n",
              "    <tr>\n",
              "      <th>1</th>\n",
              "      <td>0.782508</td>\n",
              "      <td>0.365074</td>\n",
              "      <td>0.203434</td>\n",
              "      <td>0.417434</td>\n",
              "    </tr>\n",
              "    <tr>\n",
              "      <th>2</th>\n",
              "      <td>0.781040</td>\n",
              "      <td>0.363608</td>\n",
              "      <td>0.204167</td>\n",
              "      <td>0.417432</td>\n",
              "    </tr>\n",
              "    <tr>\n",
              "      <th>3</th>\n",
              "      <td>0.782044</td>\n",
              "      <td>0.364619</td>\n",
              "      <td>0.203655</td>\n",
              "      <td>0.417425</td>\n",
              "    </tr>\n",
              "    <tr>\n",
              "      <th>4</th>\n",
              "      <td>0.780963</td>\n",
              "      <td>0.363542</td>\n",
              "      <td>0.204206</td>\n",
              "      <td>0.417421</td>\n",
              "    </tr>\n",
              "  </tbody>\n",
              "</table>\n",
              "</div>"
            ],
            "text/plain": [
              "        TPR       FPR  Threshold  Difference\n",
              "0  0.781349  0.363908   0.204019    0.417441\n",
              "1  0.782508  0.365074   0.203434    0.417434\n",
              "2  0.781040  0.363608   0.204167    0.417432\n",
              "3  0.782044  0.364619   0.203655    0.417425\n",
              "4  0.780963  0.363542   0.204206    0.417421"
            ]
          },
          "metadata": {},
          "execution_count": 78
        }
      ]
    },
    {
      "cell_type": "code",
      "metadata": {
        "colab": {
          "base_uri": "https://localhost:8080/",
          "height": 325
        },
        "id": "avzhUGRVsbkw",
        "outputId": "383e3b75-e51e-4d15-f426-d4665e32dd50"
      },
      "source": [
        "y_pred_youden = [ 0 if x < 0.204019 else 1 for x in y_test_proba_rf]\n",
        "plot_confusion_matrix(y_test,y_pred_youden)"
      ],
      "execution_count": null,
      "outputs": [
        {
          "output_type": "display_data",
          "data": {
            "image/png": "[encoded data removed]",
            "text/plain": [
              "<Figure size 504x360 with 2 Axes>"
            ]
          },
          "metadata": {
            "needs_background": "light"
          }
        }
      ]
    },
    {
      "cell_type": "code",
      "metadata": {
        "colab": {
          "base_uri": "https://localhost:8080/"
        },
        "id": "stRPMgRBuDEf",
        "outputId": "3a449d66-9452-4737-f201-89ce8964c6fa"
      },
      "source": [
        "print(classification_report(y_test,y_pred_youden))"
      ],
      "execution_count": null,
      "outputs": [
        {
          "output_type": "stream",
          "name": "stdout",
          "text": [
            "              precision    recall  f1-score   support\n",
            "\n",
            "           0       0.98      0.64      0.77    226502\n",
            "           1       0.11      0.78      0.19     12943\n",
            "\n",
            "    accuracy                           0.64    239445\n",
            "   macro avg       0.55      0.71      0.48    239445\n",
            "weighted avg       0.93      0.64      0.74    239445\n",
            "\n"
          ]
        }
      ]
    },
    {
      "cell_type": "markdown",
      "metadata": {
        "id": "25Lcg8uJHxGf"
      },
      "source": [
        "### SVM"
      ]
    },
    {
      "cell_type": "code",
      "metadata": {
        "colab": {
          "base_uri": "https://localhost:8080/"
        },
        "id": "h3GJNHJUHwwp",
        "outputId": "8fd6f9a1-169c-4fc6-8b1f-31c4db878683"
      },
      "source": [
        "svm_model=LinearSVC(random_state=10, class_weight='balanced').fit(X_train_balanced1_scaled,y_train_balanced1_scaled)\n",
        "print(confusion_matrix(y_test_scaled,svm_model.predict(X_test_scaled)))\n",
        "print(classification_report(y_train_scaled,svm_model.predict(X_train_scaled)))\n",
        "print(classification_report(y_test_scaled,svm_model.predict(X_test_scaled)))"
      ],
      "execution_count": null,
      "outputs": [
        {
          "output_type": "stream",
          "name": "stdout",
          "text": [
            "[[147582  78920]\n",
            " [  4056   8887]]\n",
            "              precision    recall  f1-score   support\n",
            "\n",
            "           0       0.97      0.65      0.78    528457\n",
            "           1       0.10      0.69      0.18     30357\n",
            "\n",
            "    accuracy                           0.66    558814\n",
            "   macro avg       0.54      0.67      0.48    558814\n",
            "weighted avg       0.93      0.66      0.75    558814\n",
            "\n",
            "              precision    recall  f1-score   support\n",
            "\n",
            "           0       0.97      0.65      0.78    226502\n",
            "           1       0.10      0.69      0.18     12943\n",
            "\n",
            "    accuracy                           0.65    239445\n",
            "   macro avg       0.54      0.67      0.48    239445\n",
            "weighted avg       0.93      0.65      0.75    239445\n",
            "\n"
          ]
        }
      ]
    },
    {
      "cell_type": "code",
      "metadata": {
        "id": "7qDSuWrk2CGG"
      },
      "source": [
        "## Hyperparameter Tuning\n",
        "params =  {'C': [0.1,0.5,1,5, 10,20, 100]}\n",
        "svm=LinearSVC(random_state=10, class_weight='balanced' )\n",
        "kf=KFold(n_splits=3,shuffle=True,random_state=10)\n",
        "svm_GS=GridSearchCV(svm,params,cv=kf,n_jobs=-1,scoring='recall')\n",
        "svm_GS.fit(X_train_balanced1_scaled,y_train_balanced1_scaled)\n",
        "svm_GS.best_params_"
      ],
      "execution_count": null,
      "outputs": []
    },
    {
      "cell_type": "code",
      "metadata": {
        "id": "bBY0dKoPb4_z",
        "colab": {
          "base_uri": "https://localhost:8080/"
        },
        "outputId": "f2f17135-e611-45d6-fc57-707e465226e3"
      },
      "source": [
        "svm_tuned=LinearSVC(random_state=10, class_weight='balanced' ,C=0.1).fit(X_train_balanced1_scaled,y_train_balanced1_scaled)\n",
        "print(confusion_matrix(y_test_scaled,svm_tuned.predict(X_test_scaled)))\n",
        "print(classification_report(y_train_scaled,svm_tuned.predict(X_train_scaled)))\n",
        "print(classification_report(y_test_scaled,svm_tuned.predict(X_test_scaled)))"
      ],
      "execution_count": null,
      "outputs": [
        {
          "output_type": "stream",
          "name": "stdout",
          "text": [
            "[[122415 104087]\n",
            " [  2414  10529]]\n",
            "              precision    recall  f1-score   support\n",
            "\n",
            "           0       0.98      0.54      0.70    528457\n",
            "           1       0.09      0.81      0.17     30357\n",
            "\n",
            "    accuracy                           0.56    558814\n",
            "   macro avg       0.54      0.68      0.43    558814\n",
            "weighted avg       0.93      0.56      0.67    558814\n",
            "\n",
            "              precision    recall  f1-score   support\n",
            "\n",
            "           0       0.98      0.54      0.70    226502\n",
            "           1       0.09      0.81      0.17     12943\n",
            "\n",
            "    accuracy                           0.56    239445\n",
            "   macro avg       0.54      0.68      0.43    239445\n",
            "weighted avg       0.93      0.56      0.67    239445\n",
            "\n"
          ]
        }
      ]
    },
    {
      "cell_type": "code",
      "metadata": {
        "id": "_kZu7P12UkNB",
        "colab": {
          "base_uri": "https://localhost:8080/",
          "height": 324
        },
        "outputId": "f445c0d3-7976-45ee-df4c-c436318a5396"
      },
      "source": [
        "y_pred=svm_tuned.predict(X_test_scaled)\n",
        "plot_confusion_matrix(y_test_scaled,y_pred)"
      ],
      "execution_count": null,
      "outputs": [
        {
          "output_type": "display_data",
          "data": {
            "image/png": "[encoded data removed]",
            "text/plain": [
              "<Figure size 504x360 with 2 Axes>"
            ]
          },
          "metadata": {
            "needs_background": "light"
          }
        }
      ]
    },
    {
      "cell_type": "markdown",
      "metadata": {
        "id": "iKWYFFgd6LIZ"
      },
      "source": [
        "### Logistic Regression"
      ]
    },
    {
      "cell_type": "code",
      "metadata": {
        "id": "hMGx8s7tKN0-",
        "colab": {
          "base_uri": "https://localhost:8080/"
        },
        "outputId": "73844f84-3842-4c2b-e5bc-3bfcb08a90eb"
      },
      "source": [
        "# Logistic Regression \n",
        "lr= LR(random_state = 10,class_weight='balanced').fit(X_train_balanced1_scaled,y_train_balanced1_scaled)\n",
        "print(confusion_matrix(y_test_scaled,lr.predict(X_test_scaled)))\n",
        "print(classification_report(y_train_scaled,lr.predict(X_train_scaled)))\n",
        "print(classification_report(y_test_scaled,lr.predict(X_test_scaled)))"
      ],
      "execution_count": null,
      "outputs": [
        {
          "output_type": "stream",
          "name": "stdout",
          "text": [
            "[[124408 102094]\n",
            " [  2511  10432]]\n",
            "              precision    recall  f1-score   support\n",
            "\n",
            "           0       0.98      0.55      0.70    528457\n",
            "           1       0.09      0.81      0.17     30357\n",
            "\n",
            "    accuracy                           0.56    558814\n",
            "   macro avg       0.54      0.68      0.44    558814\n",
            "weighted avg       0.93      0.56      0.68    558814\n",
            "\n",
            "              precision    recall  f1-score   support\n",
            "\n",
            "           0       0.98      0.55      0.70    226502\n",
            "           1       0.09      0.81      0.17     12943\n",
            "\n",
            "    accuracy                           0.56    239445\n",
            "   macro avg       0.54      0.68      0.44    239445\n",
            "weighted avg       0.93      0.56      0.67    239445\n",
            "\n"
          ]
        }
      ]
    },
    {
      "cell_type": "code",
      "metadata": {
        "colab": {
          "base_uri": "https://localhost:8080/"
        },
        "id": "jIFMwCop_5is",
        "outputId": "f660f058-51a9-412b-89fc-b05c600377db"
      },
      "source": [
        "## Hyperparameter Tuning\n",
        "params = {'penalty':['l1', 'l2', 'elasticnet', 'none'],'C':[0.1,0.2,0.3,0.4,0.5,0.6,0.7,0.8,0.9,1]}\n",
        "lr_model = LR(class_weight='balanced',random_state=10)       \n",
        "lr_GS = GridSearchCV(lr_model,params,scoring='recall',n_jobs=-1)\n",
        "lr_GS.fit(X_train_balanced1_scaled,y_train_balanced1_scaled)\n",
        "lr_GS.best_params_"
      ],
      "execution_count": null,
      "outputs": [
        {
          "output_type": "execute_result",
          "data": {
            "text/plain": [
              "{'C': 0.2, 'penalty': 'l2'}"
            ]
          },
          "metadata": {},
          "execution_count": 124
        }
      ]
    },
    {
      "cell_type": "code",
      "metadata": {
        "colab": {
          "base_uri": "https://localhost:8080/"
        },
        "id": "84Gx3uloAqxu",
        "outputId": "215d32f8-6385-4893-cc5b-396e57074be0"
      },
      "source": [
        "## Fitting model with tuned parameters\n",
        "lr_tuned=LR(random_state=10, class_weight='balanced',C= 0.2, penalty = 'l2' ).fit(X_train_balanced1_scaled,y_train_balanced1_scaled)\n",
        "print(confusion_matrix(y_test_scaled,lr_tuned.predict(X_test_scaled)))\n",
        "print(classification_report(y_train_scaled,lr_tuned.predict(X_train_scaled)))\n",
        "print(classification_report(y_test_scaled,lr_tuned.predict(X_test_scaled)))"
      ],
      "execution_count": null,
      "outputs": [
        {
          "output_type": "stream",
          "name": "stdout",
          "text": [
            "[[124429 102073]\n",
            " [  2515  10428]]\n",
            "              precision    recall  f1-score   support\n",
            "\n",
            "           0       0.98      0.55      0.70    528457\n",
            "           1       0.09      0.81      0.17     30357\n",
            "\n",
            "    accuracy                           0.56    558814\n",
            "   macro avg       0.54      0.68      0.44    558814\n",
            "weighted avg       0.93      0.56      0.68    558814\n",
            "\n",
            "              precision    recall  f1-score   support\n",
            "\n",
            "           0       0.98      0.55      0.70    226502\n",
            "           1       0.09      0.81      0.17     12943\n",
            "\n",
            "    accuracy                           0.56    239445\n",
            "   macro avg       0.54      0.68      0.44    239445\n",
            "weighted avg       0.93      0.56      0.68    239445\n",
            "\n"
          ]
        }
      ]
    },
    {
      "cell_type": "code",
      "metadata": {
        "colab": {
          "base_uri": "https://localhost:8080/"
        },
        "id": "UThahHk-DygI",
        "outputId": "39657612-9730-4c6d-eb76-bb25629dba97"
      },
      "source": [
        "y_test_proba_lr = lr_tuned.predict_proba(X_test_scaled)[:,1]\n",
        "print('ROC AUC :',roc_auc_score(y_test_scaled,y_test_proba_lr))"
      ],
      "execution_count": null,
      "outputs": [
        {
          "output_type": "stream",
          "name": "stdout",
          "text": [
            "ROC AUC : 0.7449892930804805\n"
          ]
        }
      ]
    },
    {
      "cell_type": "code",
      "metadata": {
        "colab": {
          "base_uri": "https://localhost:8080/",
          "height": 324
        },
        "id": "e8e7yU3OEQ0R",
        "outputId": "54a8b77e-5c12-4257-e457-d909de2eda5f"
      },
      "source": [
        "y_pred=lr_tuned.predict(X_test_scaled)\n",
        "plot_confusion_matrix(y_test_scaled,y_pred)"
      ],
      "execution_count": null,
      "outputs": [
        {
          "output_type": "display_data",
          "data": {
            "image/png": "[encoded data removed]",
            "text/plain": [
              "<Figure size 504x360 with 2 Axes>"
            ]
          },
          "metadata": {
            "needs_background": "light"
          }
        }
      ]
    },
    {
      "cell_type": "code",
      "metadata": {
        "colab": {
          "base_uri": "https://localhost:8080/",
          "height": 411
        },
        "id": "fwJJYbY0EdkJ",
        "outputId": "c5bee11d-4b9b-42bf-d4f2-4660d5459f70"
      },
      "source": [
        "get_roc_curve(y_test_scaled,y_test_proba_lr)"
      ],
      "execution_count": null,
      "outputs": [
        {
          "output_type": "display_data",
          "data": {
            "image/png": "[encoded data removed]",
            "text/plain": [
              "<Figure size 720x432 with 1 Axes>"
            ]
          },
          "metadata": {
            "needs_background": "light"
          }
        }
      ]
    },
    {
      "cell_type": "code",
      "metadata": {
        "colab": {
          "base_uri": "https://localhost:8080/",
          "height": 202
        },
        "id": "kg9FfAHzEoyt",
        "outputId": "c4acc1a4-fbe8-46de-9a57-4fb8a2fd243a"
      },
      "source": [
        "fpr, tpr, thresholds = roc_curve(y_test_scaled,y_test_proba_lr)\n",
        "youdens_table = pd.DataFrame({'TPR': tpr,'FPR': fpr,'Threshold': thresholds})\n",
        "youdens_table['Difference'] = youdens_table.TPR - youdens_table.FPR\n",
        "youdens_table = youdens_table.sort_values('Difference', ascending = False).reset_index(drop = True)\n",
        "\n",
        "# print the first five observations\n",
        "youdens_table.head()"
      ],
      "execution_count": null,
      "outputs": [
        {
          "output_type": "execute_result",
          "data": {
            "text/html": [
              "<div>\n",
              "<style scoped>\n",
              "    .dataframe tbody tr th:only-of-type {\n",
              "        vertical-align: middle;\n",
              "    }\n",
              "\n",
              "    .dataframe tbody tr th {\n",
              "        vertical-align: top;\n",
              "    }\n",
              "\n",
              "    .dataframe thead th {\n",
              "        text-align: right;\n",
              "    }\n",
              "</style>\n",
              "<table border=\"1\" class=\"dataframe\">\n",
              "  <thead>\n",
              "    <tr style=\"text-align: right;\">\n",
              "      <th></th>\n",
              "      <th>TPR</th>\n",
              "      <th>FPR</th>\n",
              "      <th>Threshold</th>\n",
              "      <th>Difference</th>\n",
              "    </tr>\n",
              "  </thead>\n",
              "  <tbody>\n",
              "    <tr>\n",
              "      <th>0</th>\n",
              "      <td>0.728425</td>\n",
              "      <td>0.361180</td>\n",
              "      <td>0.573077</td>\n",
              "      <td>0.367245</td>\n",
              "    </tr>\n",
              "    <tr>\n",
              "      <th>1</th>\n",
              "      <td>0.726648</td>\n",
              "      <td>0.359418</td>\n",
              "      <td>0.574473</td>\n",
              "      <td>0.367229</td>\n",
              "    </tr>\n",
              "    <tr>\n",
              "      <th>2</th>\n",
              "      <td>0.728193</td>\n",
              "      <td>0.360990</td>\n",
              "      <td>0.573226</td>\n",
              "      <td>0.367203</td>\n",
              "    </tr>\n",
              "    <tr>\n",
              "      <th>3</th>\n",
              "      <td>0.726725</td>\n",
              "      <td>0.359542</td>\n",
              "      <td>0.574369</td>\n",
              "      <td>0.367183</td>\n",
              "    </tr>\n",
              "    <tr>\n",
              "      <th>4</th>\n",
              "      <td>0.728347</td>\n",
              "      <td>0.361176</td>\n",
              "      <td>0.573087</td>\n",
              "      <td>0.367172</td>\n",
              "    </tr>\n",
              "  </tbody>\n",
              "</table>\n",
              "</div>"
            ],
            "text/plain": [
              "        TPR       FPR  Threshold  Difference\n",
              "0  0.728425  0.361180   0.573077    0.367245\n",
              "1  0.726648  0.359418   0.574473    0.367229\n",
              "2  0.728193  0.360990   0.573226    0.367203\n",
              "3  0.726725  0.359542   0.574369    0.367183\n",
              "4  0.728347  0.361176   0.573087    0.367172"
            ]
          },
          "metadata": {},
          "execution_count": 129
        }
      ]
    },
    {
      "cell_type": "code",
      "metadata": {
        "colab": {
          "base_uri": "https://localhost:8080/",
          "height": 324
        },
        "id": "xozwlidQEyFX",
        "outputId": "f9dc5222-d2de-4447-859f-850591e57324"
      },
      "source": [
        "y_pred_youden = [ 0 if x < 0.573077 else 1 for x in y_test_proba_lr]\n",
        "plot_confusion_matrix(y_test_scaled,y_pred_youden)"
      ],
      "execution_count": null,
      "outputs": [
        {
          "output_type": "display_data",
          "data": {
            "image/png": "[encoded data removed]",
            "text/plain": [
              "<Figure size 504x360 with 2 Axes>"
            ]
          },
          "metadata": {
            "needs_background": "light"
          }
        }
      ]
    },
    {
      "cell_type": "code",
      "metadata": {
        "colab": {
          "base_uri": "https://localhost:8080/"
        },
        "id": "WDp0YY6mFAsP",
        "outputId": "7ea26f62-ff03-42f0-b21c-c140a8d610ee"
      },
      "source": [
        "print(classification_report(y_test_scaled,y_pred_youden))"
      ],
      "execution_count": null,
      "outputs": [
        {
          "output_type": "stream",
          "name": "stdout",
          "text": [
            "              precision    recall  f1-score   support\n",
            "\n",
            "           0       0.98      0.64      0.77    226502\n",
            "           1       0.10      0.73      0.18     12943\n",
            "\n",
            "    accuracy                           0.64    239445\n",
            "   macro avg       0.54      0.68      0.48    239445\n",
            "weighted avg       0.93      0.64      0.74    239445\n",
            "\n"
          ]
        }
      ]
    },
    {
      "cell_type": "markdown",
      "metadata": {
        "id": "29a0noiJJy2s"
      },
      "source": [
        "### Gaussian NB"
      ]
    },
    {
      "cell_type": "code",
      "metadata": {
        "colab": {
          "base_uri": "https://localhost:8080/"
        },
        "id": "yTl-DKqYJqtl",
        "outputId": "8412dc26-1c87-4fed-9ba2-2e02868866e4"
      },
      "source": [
        "nb=NB().fit(X_train_balanced1_scaled, y_train_balanced1_scaled)\n",
        "print(confusion_matrix(y_test_scaled,nb.predict(X_test_scaled)))\n",
        "print(classification_report(y_train_scaled,nb.predict(X_train_scaled)))\n",
        "print(classification_report(y_test_scaled,nb.predict(X_test_scaled)))"
      ],
      "execution_count": null,
      "outputs": [
        {
          "output_type": "stream",
          "name": "stdout",
          "text": [
            "[[195505  30997]\n",
            " [  8443   4500]]\n",
            "              precision    recall  f1-score   support\n",
            "\n",
            "           0       0.96      0.86      0.91    528457\n",
            "           1       0.13      0.35      0.19     30357\n",
            "\n",
            "    accuracy                           0.83    558814\n",
            "   macro avg       0.54      0.61      0.55    558814\n",
            "weighted avg       0.91      0.83      0.87    558814\n",
            "\n",
            "              precision    recall  f1-score   support\n",
            "\n",
            "           0       0.96      0.86      0.91    226502\n",
            "           1       0.13      0.35      0.19     12943\n",
            "\n",
            "    accuracy                           0.84    239445\n",
            "   macro avg       0.54      0.61      0.55    239445\n",
            "weighted avg       0.91      0.84      0.87    239445\n",
            "\n"
          ]
        }
      ]
    },
    {
      "cell_type": "code",
      "metadata": {
        "colab": {
          "base_uri": "https://localhost:8080/"
        },
        "id": "CgcmS99tKmKA",
        "outputId": "c9414855-99f0-485b-9e55-6acd6086bb11"
      },
      "source": [
        "## Hyperparameter Tuning\n",
        "\n",
        "params = {'var_smoothing': np.logspace(0,-9, num=100)}\n",
        "kf=KFold(n_splits=3,shuffle=True,random_state=10)\n",
        "\n",
        "nb_GS = GridSearchCV(NB(), params, cv=kf, n_jobs=-1, scoring='recall').fit(X_train_balanced1_scaled, y_train_balanced1_scaled)\n",
        "nb_GS.best_params_    "
      ],
      "execution_count": null,
      "outputs": [
        {
          "output_type": "execute_result",
          "data": {
            "text/plain": [
              "{'var_smoothing': 0.002848035868435802}"
            ]
          },
          "metadata": {},
          "execution_count": 133
        }
      ]
    },
    {
      "cell_type": "code",
      "metadata": {
        "colab": {
          "base_uri": "https://localhost:8080/"
        },
        "id": "kec0AYwcLc3A",
        "outputId": "c6f10aa0-4f79-4dc7-d388-13bf531bdbf3"
      },
      "source": [
        "## Fitting model with tuned parameters\n",
        "\n",
        "nb_tuned=NB(var_smoothing= 0.002848035868435802).fit(X_train_balanced1_scaled, y_train_balanced1_scaled)\n",
        "print(confusion_matrix(y_test_scaled,nb_tuned.predict(X_test_scaled)))\n",
        "print(classification_report(y_train_scaled,nb_tuned.predict(X_train_scaled)))\n",
        "print(classification_report(y_test_scaled,nb_tuned.predict(X_test_scaled)))"
      ],
      "execution_count": null,
      "outputs": [
        {
          "output_type": "stream",
          "name": "stdout",
          "text": [
            "[[163500  63002]\n",
            " [  5736   7207]]\n",
            "              precision    recall  f1-score   support\n",
            "\n",
            "           0       0.97      0.72      0.83    528457\n",
            "           1       0.10      0.56      0.17     30357\n",
            "\n",
            "    accuracy                           0.71    558814\n",
            "   macro avg       0.53      0.64      0.50    558814\n",
            "weighted avg       0.92      0.71      0.79    558814\n",
            "\n",
            "              precision    recall  f1-score   support\n",
            "\n",
            "           0       0.97      0.72      0.83    226502\n",
            "           1       0.10      0.56      0.17     12943\n",
            "\n",
            "    accuracy                           0.71    239445\n",
            "   macro avg       0.53      0.64      0.50    239445\n",
            "weighted avg       0.92      0.71      0.79    239445\n",
            "\n"
          ]
        }
      ]
    },
    {
      "cell_type": "code",
      "metadata": {
        "colab": {
          "base_uri": "https://localhost:8080/"
        },
        "id": "rVcyxMstMTuh",
        "outputId": "848b269e-44b3-4777-a910-0ed78e3c08c2"
      },
      "source": [
        "y_test_proba_nb = nb_tuned.predict_proba(X_test_scaled)[:,1]\n",
        "print('ROC AUC :',roc_auc_score(y_test_scaled,y_test_proba_nb))"
      ],
      "execution_count": null,
      "outputs": [
        {
          "output_type": "stream",
          "name": "stdout",
          "text": [
            "ROC AUC : 0.6997438445699303\n"
          ]
        }
      ]
    },
    {
      "cell_type": "code",
      "metadata": {
        "colab": {
          "base_uri": "https://localhost:8080/",
          "height": 324
        },
        "id": "0Tuc5jjeMTiE",
        "outputId": "c6b4e0db-b52d-441c-e903-63bb3b1f5901"
      },
      "source": [
        "y_pred=nb_tuned.predict(X_test_scaled)\n",
        "plot_confusion_matrix(y_test_scaled,y_pred)"
      ],
      "execution_count": null,
      "outputs": [
        {
          "output_type": "display_data",
          "data": {
            "image/png": "[encoded data removed]",
            "text/plain": [
              "<Figure size 504x360 with 2 Axes>"
            ]
          },
          "metadata": {
            "needs_background": "light"
          }
        }
      ]
    },
    {
      "cell_type": "code",
      "metadata": {
        "colab": {
          "base_uri": "https://localhost:8080/",
          "height": 411
        },
        "id": "6R5m0O0lMTXT",
        "outputId": "14f153d6-7138-4ecb-9fc0-51084c2fb9e9"
      },
      "source": [
        "get_roc_curve(nb_tuned,y_test_scaled,y_test_proba_nb)"
      ],
      "execution_count": null,
      "outputs": [
        {
          "output_type": "display_data",
          "data": {
            "image/png": "[encoded data removed]",
            "text/plain": [
              "<Figure size 720x432 with 1 Axes>"
            ]
          },
          "metadata": {
            "needs_background": "light"
          }
        }
      ]
    },
    {
      "cell_type": "code",
      "metadata": {
        "colab": {
          "base_uri": "https://localhost:8080/",
          "height": 202
        },
        "id": "y3mYyH5pMTKb",
        "outputId": "b5fd73e8-f0c6-477a-e830-b80d8bd021c9"
      },
      "source": [
        "fpr, tpr, thresholds = roc_curve(y_test_scaled,y_test_proba_nb)\n",
        "youdens_table = pd.DataFrame({'TPR': tpr,'FPR': fpr,'Threshold': thresholds})\n",
        "youdens_table['Difference'] = youdens_table.TPR - youdens_table.FPR\n",
        "youdens_table = youdens_table.sort_values('Difference', ascending = False).reset_index(drop = True)\n",
        "\n",
        "# print the first five observations\n",
        "youdens_table.head()"
      ],
      "execution_count": null,
      "outputs": [
        {
          "output_type": "execute_result",
          "data": {
            "text/html": [
              "<div>\n",
              "<style scoped>\n",
              "    .dataframe tbody tr th:only-of-type {\n",
              "        vertical-align: middle;\n",
              "    }\n",
              "\n",
              "    .dataframe tbody tr th {\n",
              "        vertical-align: top;\n",
              "    }\n",
              "\n",
              "    .dataframe thead th {\n",
              "        text-align: right;\n",
              "    }\n",
              "</style>\n",
              "<table border=\"1\" class=\"dataframe\">\n",
              "  <thead>\n",
              "    <tr style=\"text-align: right;\">\n",
              "      <th></th>\n",
              "      <th>TPR</th>\n",
              "      <th>FPR</th>\n",
              "      <th>Threshold</th>\n",
              "      <th>Difference</th>\n",
              "    </tr>\n",
              "  </thead>\n",
              "  <tbody>\n",
              "    <tr>\n",
              "      <th>0</th>\n",
              "      <td>0.622344</td>\n",
              "      <td>0.331026</td>\n",
              "      <td>0.410399</td>\n",
              "      <td>0.291318</td>\n",
              "    </tr>\n",
              "    <tr>\n",
              "      <th>1</th>\n",
              "      <td>0.622267</td>\n",
              "      <td>0.331013</td>\n",
              "      <td>0.410440</td>\n",
              "      <td>0.291254</td>\n",
              "    </tr>\n",
              "    <tr>\n",
              "      <th>2</th>\n",
              "      <td>0.622267</td>\n",
              "      <td>0.331026</td>\n",
              "      <td>0.410412</td>\n",
              "      <td>0.291241</td>\n",
              "    </tr>\n",
              "    <tr>\n",
              "      <th>3</th>\n",
              "      <td>0.622421</td>\n",
              "      <td>0.331194</td>\n",
              "      <td>0.410175</td>\n",
              "      <td>0.291228</td>\n",
              "    </tr>\n",
              "    <tr>\n",
              "      <th>4</th>\n",
              "      <td>0.622190</td>\n",
              "      <td>0.330964</td>\n",
              "      <td>0.410512</td>\n",
              "      <td>0.291226</td>\n",
              "    </tr>\n",
              "  </tbody>\n",
              "</table>\n",
              "</div>"
            ],
            "text/plain": [
              "        TPR       FPR  Threshold  Difference\n",
              "0  0.622344  0.331026   0.410399    0.291318\n",
              "1  0.622267  0.331013   0.410440    0.291254\n",
              "2  0.622267  0.331026   0.410412    0.291241\n",
              "3  0.622421  0.331194   0.410175    0.291228\n",
              "4  0.622190  0.330964   0.410512    0.291226"
            ]
          },
          "metadata": {},
          "execution_count": 138
        }
      ]
    },
    {
      "cell_type": "code",
      "metadata": {
        "colab": {
          "base_uri": "https://localhost:8080/",
          "height": 324
        },
        "id": "pRBrGdAKM-11",
        "outputId": "60d4a143-060f-4251-bcee-d2e9db5ab49d"
      },
      "source": [
        "y_pred_youden = [ 0 if x < 0.410399\t else 1 for x in y_test_proba_nb]\n",
        "plot_confusion_matrix(y_test_scaled,y_pred_youden)"
      ],
      "execution_count": null,
      "outputs": [
        {
          "output_type": "display_data",
          "data": {
            "image/png": "[encoded data removed]",
            "text/plain": [
              "<Figure size 504x360 with 2 Axes>"
            ]
          },
          "metadata": {
            "needs_background": "light"
          }
        }
      ]
    },
    {
      "cell_type": "code",
      "metadata": {
        "colab": {
          "base_uri": "https://localhost:8080/"
        },
        "id": "qGa4oTxoM-xP",
        "outputId": "32ec5030-a4fa-402f-9068-c49b10fd3342"
      },
      "source": [
        "print(classification_report(y_test_scaled,y_pred_youden))"
      ],
      "execution_count": null,
      "outputs": [
        {
          "output_type": "stream",
          "name": "stdout",
          "text": [
            "              precision    recall  f1-score   support\n",
            "\n",
            "           0       0.97      0.67      0.79    226502\n",
            "           1       0.10      0.62      0.17     12943\n",
            "\n",
            "    accuracy                           0.67    239445\n",
            "   macro avg       0.53      0.65      0.48    239445\n",
            "weighted avg       0.92      0.67      0.76    239445\n",
            "\n"
          ]
        }
      ]
    },
    {
      "cell_type": "markdown",
      "metadata": {
        "id": "iggBY3D7UFk1"
      },
      "source": [
        "### K-Nearest Neighbours"
      ]
    },
    {
      "cell_type": "code",
      "metadata": {
        "id": "MkED32YnnjrF"
      },
      "source": [
        "# KNN -- scaled X_balanced_scaled and X_test_scaled\n",
        "knn= KNN(random_state = 10,class_weight='balanced').fit(X_balanced_scaled,y_balanced_scaled)\n",
        "print(confusion_matrix(y_test,lr.predict(X_test_scaled)))\n",
        "print(classification_report(y_train,lr.predict(X_train)))\n",
        "print(classification_report(y_test,lr.predict(X_test_scaled)))"
      ],
      "execution_count": null,
      "outputs": []
    },
    {
      "cell_type": "code",
      "metadata": {
        "id": "SckQuu9TUaWa"
      },
      "source": [
        "knn1= KNN(random_state=10)\n",
        "params = {'n_neighbors': np.arange(1, 25, 2),'metric': ['hamming','euclidean','manhattan','Chebyshev']}\n",
        "kf=KFold(n_splits=3,shuffle=True,random_state=10)\n",
        "knn_GS=GridSearchCV(knn1, params, cv=kf, scoring = 'f1')\n",
        "knn_GS.fit(X_balanced_scaled, y_balanced_scaled)\n",
        "knn_GS.best_params_"
      ],
      "execution_count": null,
      "outputs": []
    },
    {
      "cell_type": "markdown",
      "metadata": {
        "id": "kqQ0S2fY91vp"
      },
      "source": [
        "# Performance Metrics (User Defined)"
      ]
    },
    {
      "cell_type": "code",
      "metadata": {
        "id": "psMsZCyJ77VS"
      },
      "source": [
        "def plot_confusion_matrix( y_test,y_pred):\n",
        "    plt.figure(figsize=(7,5))\n",
        "    cm = confusion_matrix(y_test, y_pred)\n",
        "    conf_matrix = pd.DataFrame(data = cm,columns = ['Predicted:0','Predicted:1'], index = ['Actual:0','Actual:1']) \n",
        "    group_names = ['TN','FP','FN','TP']\n",
        "    group_counts = ['{0:0.0f}'.format(value) for value in cm.flatten()]\n",
        "    group_percentages = ['{0:.2%}'.format(value) for value in cm.flatten()/np.sum(cm)]\n",
        "    labels = [f'{v1}\\n{v2}\\n{v3}' for v1, v2, v3 in zip(group_names,group_counts,group_percentages)]\n",
        "    labels = np.asarray(labels).reshape(2,2)\n",
        "    sns.heatmap(conf_matrix, annot=labels, fmt='', cmap='Blues', linewidths=0.2, annot_kws={'size':18})\n",
        "    plt.xticks(fontsize = 16,ha='center')\n",
        "    plt.yticks(fontsize = 16,ha='center')\n",
        "    plt.show()\n"
      ],
      "execution_count": null,
      "outputs": []
    },
    {
      "cell_type": "code",
      "metadata": {
        "id": "LymmP3aOY97S"
      },
      "source": [
        "# Roc curve\n",
        "def get_roc_curve(test,proba):\n",
        "    plt.figure(figsize=[10,6])\n",
        "    fpr, tpr, thresholds = roc_curve(test,proba)\n",
        "    plt.plot(fpr, tpr)\n",
        "    plt.xlim([0.0, 1.0])\n",
        "    plt.ylim([0.0, 1.0])\n",
        "    plt.plot([0, 1], [0, 1],'r--',label='Baseline model')\n",
        "    plt.title('ROC curve', fontsize = 15)\n",
        "    plt.xlabel('False positive rate (1-Specificity)', fontsize = 15)\n",
        "    plt.ylabel('True positive rate (Sensitivity)', fontsize = 15)\n",
        "    plt.text(x = 0.02, y = 0.82, s = ('AUC Score:', round(roc_auc_score(test,proba),4)))\n",
        "    plt.grid(True)\n",
        "    plt.legend()\n",
        "    plt.show()"
      ],
      "execution_count": null,
      "outputs": []
    }
  ]
}