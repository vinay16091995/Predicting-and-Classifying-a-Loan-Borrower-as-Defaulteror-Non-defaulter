{
 "cells": [
  {
   "cell_type": "code",
   "execution_count": 1,
   "metadata": {},
   "outputs": [],
   "source": [
    "## Importing necessary libraries\n",
    "\n",
    "import pandas as pd\n",
    "import numpy as np\n",
    "import matplotlib.pyplot as plt\n",
    "import seaborn as sns"
   ]
  },
  {
   "cell_type": "code",
   "execution_count": 5,
   "metadata": {},
   "outputs": [
    {
     "data": {
      "text/html": [
       "<div>\n",
       "<style scoped>\n",
       "    .dataframe tbody tr th:only-of-type {\n",
       "        vertical-align: middle;\n",
       "    }\n",
       "\n",
       "    .dataframe tbody tr th {\n",
       "        vertical-align: top;\n",
       "    }\n",
       "\n",
       "    .dataframe thead th {\n",
       "        text-align: right;\n",
       "    }\n",
       "</style>\n",
       "<table border=\"1\" class=\"dataframe\">\n",
       "  <thead>\n",
       "    <tr style=\"text-align: right;\">\n",
       "      <th></th>\n",
       "      <th>loan_amnt</th>\n",
       "      <th>int_rate</th>\n",
       "      <th>annual_inc</th>\n",
       "      <th>dti</th>\n",
       "      <th>delinq_2yrs</th>\n",
       "      <th>inq_last_6mths</th>\n",
       "      <th>open_acc</th>\n",
       "      <th>pub_rec</th>\n",
       "      <th>revol_bal</th>\n",
       "      <th>revol_util</th>\n",
       "      <th>...</th>\n",
       "      <th>home_ownership_NONE</th>\n",
       "      <th>home_ownership_OTHER</th>\n",
       "      <th>home_ownership_OWN</th>\n",
       "      <th>home_ownership_RENT</th>\n",
       "      <th>verification_status_Source Verified</th>\n",
       "      <th>verification_status_Verified</th>\n",
       "      <th>initial_list_status_w</th>\n",
       "      <th>grade</th>\n",
       "      <th>sub_grade</th>\n",
       "      <th>emp_length</th>\n",
       "    </tr>\n",
       "  </thead>\n",
       "  <tbody>\n",
       "    <tr>\n",
       "      <th>182829</th>\n",
       "      <td>17325</td>\n",
       "      <td>12.12</td>\n",
       "      <td>40000.0</td>\n",
       "      <td>31.41</td>\n",
       "      <td>0</td>\n",
       "      <td>0</td>\n",
       "      <td>10</td>\n",
       "      <td>0</td>\n",
       "      <td>32236</td>\n",
       "      <td>77.7</td>\n",
       "      <td>...</td>\n",
       "      <td>0</td>\n",
       "      <td>0</td>\n",
       "      <td>0</td>\n",
       "      <td>0</td>\n",
       "      <td>0</td>\n",
       "      <td>1</td>\n",
       "      <td>1</td>\n",
       "      <td>1</td>\n",
       "      <td>7</td>\n",
       "      <td>10.0</td>\n",
       "    </tr>\n",
       "    <tr>\n",
       "      <th>743542</th>\n",
       "      <td>35000</td>\n",
       "      <td>23.99</td>\n",
       "      <td>160000.0</td>\n",
       "      <td>12.48</td>\n",
       "      <td>0</td>\n",
       "      <td>2</td>\n",
       "      <td>15</td>\n",
       "      <td>1</td>\n",
       "      <td>14600</td>\n",
       "      <td>42.2</td>\n",
       "      <td>...</td>\n",
       "      <td>0</td>\n",
       "      <td>0</td>\n",
       "      <td>0</td>\n",
       "      <td>0</td>\n",
       "      <td>1</td>\n",
       "      <td>0</td>\n",
       "      <td>0</td>\n",
       "      <td>5</td>\n",
       "      <td>26</td>\n",
       "      <td>2.0</td>\n",
       "    </tr>\n",
       "    <tr>\n",
       "      <th>200388</th>\n",
       "      <td>10000</td>\n",
       "      <td>12.12</td>\n",
       "      <td>60000.0</td>\n",
       "      <td>7.58</td>\n",
       "      <td>2</td>\n",
       "      <td>0</td>\n",
       "      <td>8</td>\n",
       "      <td>0</td>\n",
       "      <td>39414</td>\n",
       "      <td>49.8</td>\n",
       "      <td>...</td>\n",
       "      <td>0</td>\n",
       "      <td>0</td>\n",
       "      <td>0</td>\n",
       "      <td>1</td>\n",
       "      <td>0</td>\n",
       "      <td>1</td>\n",
       "      <td>0</td>\n",
       "      <td>1</td>\n",
       "      <td>7</td>\n",
       "      <td>5.0</td>\n",
       "    </tr>\n",
       "    <tr>\n",
       "      <th>34655</th>\n",
       "      <td>10000</td>\n",
       "      <td>13.22</td>\n",
       "      <td>35000.0</td>\n",
       "      <td>8.09</td>\n",
       "      <td>0</td>\n",
       "      <td>0</td>\n",
       "      <td>7</td>\n",
       "      <td>0</td>\n",
       "      <td>8907</td>\n",
       "      <td>61.9</td>\n",
       "      <td>...</td>\n",
       "      <td>0</td>\n",
       "      <td>0</td>\n",
       "      <td>0</td>\n",
       "      <td>1</td>\n",
       "      <td>0</td>\n",
       "      <td>0</td>\n",
       "      <td>0</td>\n",
       "      <td>2</td>\n",
       "      <td>11</td>\n",
       "      <td>3.0</td>\n",
       "    </tr>\n",
       "    <tr>\n",
       "      <th>83062</th>\n",
       "      <td>35000</td>\n",
       "      <td>23.40</td>\n",
       "      <td>100000.0</td>\n",
       "      <td>31.69</td>\n",
       "      <td>2</td>\n",
       "      <td>0</td>\n",
       "      <td>10</td>\n",
       "      <td>0</td>\n",
       "      <td>31528</td>\n",
       "      <td>82.7</td>\n",
       "      <td>...</td>\n",
       "      <td>0</td>\n",
       "      <td>0</td>\n",
       "      <td>0</td>\n",
       "      <td>1</td>\n",
       "      <td>0</td>\n",
       "      <td>1</td>\n",
       "      <td>0</td>\n",
       "      <td>4</td>\n",
       "      <td>24</td>\n",
       "      <td>10.0</td>\n",
       "    </tr>\n",
       "  </tbody>\n",
       "</table>\n",
       "<p>5 rows × 27 columns</p>\n",
       "</div>"
      ],
      "text/plain": [
       "        loan_amnt  int_rate  annual_inc    dti  delinq_2yrs  inq_last_6mths  \\\n",
       "182829      17325     12.12     40000.0  31.41            0               0   \n",
       "743542      35000     23.99    160000.0  12.48            0               2   \n",
       "200388      10000     12.12     60000.0   7.58            2               0   \n",
       "34655       10000     13.22     35000.0   8.09            0               0   \n",
       "83062       35000     23.40    100000.0  31.69            2               0   \n",
       "\n",
       "        open_acc  pub_rec  revol_bal  revol_util  ...  home_ownership_NONE  \\\n",
       "182829        10        0      32236        77.7  ...                    0   \n",
       "743542        15        1      14600        42.2  ...                    0   \n",
       "200388         8        0      39414        49.8  ...                    0   \n",
       "34655          7        0       8907        61.9  ...                    0   \n",
       "83062         10        0      31528        82.7  ...                    0   \n",
       "\n",
       "        home_ownership_OTHER  home_ownership_OWN  home_ownership_RENT  \\\n",
       "182829                     0                   0                    0   \n",
       "743542                     0                   0                    0   \n",
       "200388                     0                   0                    1   \n",
       "34655                      0                   0                    1   \n",
       "83062                      0                   0                    1   \n",
       "\n",
       "        verification_status_Source Verified  verification_status_Verified  \\\n",
       "182829                                    0                             1   \n",
       "743542                                    1                             0   \n",
       "200388                                    0                             1   \n",
       "34655                                     0                             0   \n",
       "83062                                     0                             1   \n",
       "\n",
       "        initial_list_status_w  grade  sub_grade  emp_length  \n",
       "182829                      1      1          7        10.0  \n",
       "743542                      0      5         26         2.0  \n",
       "200388                      0      1          7         5.0  \n",
       "34655                       0      2         11         3.0  \n",
       "83062                       0      4         24        10.0  \n",
       "\n",
       "[5 rows x 27 columns]"
      ]
     },
     "execution_count": 5,
     "metadata": {},
     "output_type": "execute_result"
    }
   ],
   "source": [
    "## Importing our train dataset\n",
    "\n",
    "df = pd.read_csv('train_rf.csv',index_col=0)\n",
    "df.head()"
   ]
  },
  {
   "cell_type": "code",
   "execution_count": 3,
   "metadata": {},
   "outputs": [
    {
     "data": {
      "text/plain": [
       "loan_amnt                                int64\n",
       "int_rate                               float64\n",
       "annual_inc                             float64\n",
       "dti                                    float64\n",
       "delinq_2yrs                              int64\n",
       "inq_last_6mths                           int64\n",
       "open_acc                                 int64\n",
       "pub_rec                                  int64\n",
       "revol_bal                                int64\n",
       "revol_util                             float64\n",
       "total_acc                                int64\n",
       "tot_coll_amt                           float64\n",
       "tot_cur_bal                            float64\n",
       "total_rev_hi_lim                       float64\n",
       "default_ind                              int64\n",
       "term_ 60 months                          int64\n",
       "home_ownership_MORTGAGE                  int64\n",
       "home_ownership_NONE                      int64\n",
       "home_ownership_OTHER                     int64\n",
       "home_ownership_OWN                       int64\n",
       "home_ownership_RENT                      int64\n",
       "verification_status_Source Verified      int64\n",
       "verification_status_Verified             int64\n",
       "initial_list_status_w                    int64\n",
       "grade                                    int64\n",
       "sub_grade                                int64\n",
       "emp_length                             float64\n",
       "dtype: object"
      ]
     },
     "execution_count": 3,
     "metadata": {},
     "output_type": "execute_result"
    }
   ],
   "source": [
    "df.dtypes"
   ]
  },
  {
   "cell_type": "code",
   "execution_count": 82,
   "metadata": {},
   "outputs": [
    {
     "data": {
      "text/plain": [
       "loan_amnt                                int64\n",
       "int_rate                               float64\n",
       "annual_inc                             float64\n",
       "dti                                    float64\n",
       "delinq_2yrs                              int64\n",
       "inq_last_6mths                           int64\n",
       "open_acc                                 int64\n",
       "pub_rec                                  int64\n",
       "revol_bal                                int64\n",
       "revol_util                             float64\n",
       "total_acc                                int64\n",
       "tot_coll_amt                           float64\n",
       "tot_cur_bal                            float64\n",
       "total_rev_hi_lim                       float64\n",
       "default_ind                             object\n",
       "term_ 60 months                         object\n",
       "home_ownership_MORTGAGE                 object\n",
       "home_ownership_NONE                     object\n",
       "home_ownership_OTHER                    object\n",
       "home_ownership_OWN                      object\n",
       "home_ownership_RENT                     object\n",
       "verification_status_Source Verified     object\n",
       "verification_status_Verified            object\n",
       "initial_list_status_w                   object\n",
       "grade                                   object\n",
       "sub_grade                               object\n",
       "emp_length                              object\n",
       "dtype: object"
      ]
     },
     "execution_count": 82,
     "metadata": {},
     "output_type": "execute_result"
    }
   ],
   "source": [
    "# Changing the datatypes of categorical variables from 'int' to 'object'\n",
    "\n",
    "data_types_dict = {'default_ind': str,'term_ 60 months':str,'home_ownership_MORTGAGE':str,'home_ownership_NONE':str,'home_ownership_OTHER':str,\n",
    "                   'home_ownership_OWN':str,'home_ownership_RENT':str,'verification_status_Source Verified':str,'verification_status_Verified':str,\n",
    "                   'initial_list_status_w':str,'grade':str,'sub_grade':str,'emp_length':str}\n",
    "  \n",
    "df = df.astype(data_types_dict)\n",
    "  \n",
    "df.dtypes"
   ]
  },
  {
   "cell_type": "code",
   "execution_count": 83,
   "metadata": {
    "scrolled": true
   },
   "outputs": [
    {
     "data": {
      "text/plain": [
       "Index(['default_ind', 'term_ 60 months', 'home_ownership_MORTGAGE',\n",
       "       'home_ownership_NONE', 'home_ownership_OTHER', 'home_ownership_OWN',\n",
       "       'home_ownership_RENT', 'verification_status_Source Verified',\n",
       "       'verification_status_Verified', 'initial_list_status_w', 'grade',\n",
       "       'sub_grade', 'emp_length'],\n",
       "      dtype='object')"
      ]
     },
     "execution_count": 83,
     "metadata": {},
     "output_type": "execute_result"
    }
   ],
   "source": [
    "## List of Categorical Features\n",
    "\n",
    "cat_df = df.select_dtypes(include= 'object')\n",
    "cat_df.columns"
   ]
  },
  {
   "cell_type": "code",
   "execution_count": 84,
   "metadata": {
    "scrolled": true
   },
   "outputs": [
    {
     "data": {
      "text/plain": [
       "Index(['loan_amnt', 'int_rate', 'annual_inc', 'dti', 'delinq_2yrs',\n",
       "       'inq_last_6mths', 'open_acc', 'pub_rec', 'revol_bal', 'revol_util',\n",
       "       'total_acc', 'tot_coll_amt', 'tot_cur_bal', 'total_rev_hi_lim'],\n",
       "      dtype='object')"
      ]
     },
     "execution_count": 84,
     "metadata": {},
     "output_type": "execute_result"
    }
   ],
   "source": [
    "## List of Continuous Features\n",
    "\n",
    "num_df = df.select_dtypes(exclude= 'object')\n",
    "num_df.columns"
   ]
  },
  {
   "cell_type": "markdown",
   "metadata": {},
   "source": [
    "## Chi-square test (Categorical Features Vs Target)"
   ]
  },
  {
   "cell_type": "code",
   "execution_count": 85,
   "metadata": {},
   "outputs": [],
   "source": [
    "from scipy.stats import chi2_contingency"
   ]
  },
  {
   "cell_type": "code",
   "execution_count": 86,
   "metadata": {},
   "outputs": [
    {
     "data": {
      "text/plain": [
       "(558814, 13)"
      ]
     },
     "execution_count": 86,
     "metadata": {},
     "output_type": "execute_result"
    }
   ],
   "source": [
    "cat_df.shape"
   ]
  },
  {
   "cell_type": "code",
   "execution_count": 87,
   "metadata": {},
   "outputs": [],
   "source": [
    "target= cat_df.default_ind"
   ]
  },
  {
   "cell_type": "code",
   "execution_count": 88,
   "metadata": {},
   "outputs": [
    {
     "data": {
      "text/plain": [
       "Index(['term_ 60 months', 'home_ownership_MORTGAGE', 'home_ownership_NONE',\n",
       "       'home_ownership_OTHER', 'home_ownership_OWN', 'home_ownership_RENT',\n",
       "       'verification_status_Source Verified', 'verification_status_Verified',\n",
       "       'initial_list_status_w', 'grade', 'sub_grade', 'emp_length'],\n",
       "      dtype='object')"
      ]
     },
     "execution_count": 88,
     "metadata": {},
     "output_type": "execute_result"
    }
   ],
   "source": [
    "cat_df1= cat_df.iloc[:,1:]\n",
    "cat_df1.columns"
   ]
  },
  {
   "cell_type": "code",
   "execution_count": 89,
   "metadata": {},
   "outputs": [
    {
     "name": "stdout",
     "output_type": "stream",
     "text": [
      "['term_ 60 months', 'home_ownership_MORTGAGE', 'home_ownership_NONE', 'home_ownership_OTHER', 'home_ownership_OWN', 'home_ownership_RENT', 'verification_status_Source Verified', 'verification_status_Verified', 'initial_list_status_w', 'grade', 'sub_grade', 'emp_length']\n"
     ]
    }
   ],
   "source": [
    "# Hypothesis for Chi-square test of Independence:\n",
    "\n",
    "# H0: The two variables are independent\n",
    "# H1: The two variables are dependent\n",
    "\n",
    "signi_feat= []\n",
    "\n",
    "for col in cat_df1.columns:\n",
    "    table = pd.crosstab(target, cat_df1[col])\n",
    "    observed_value = table.values   \n",
    "    test_stat, p, dof, expected_value = chi2_contingency(observed = observed_value, correction = False)\n",
    "    if p < 0.05:\n",
    "        signi_feat.append(col)\n",
    "        \n",
    "print(signi_feat)"
   ]
  },
  {
   "cell_type": "markdown",
   "metadata": {},
   "source": [
    "## Mann-Whitney U Test (Continuous Features Vs Target)"
   ]
  },
  {
   "cell_type": "code",
   "execution_count": 90,
   "metadata": {
    "scrolled": true
   },
   "outputs": [
    {
     "data": {
      "text/plain": [
       "0    528457\n",
       "1     30357\n",
       "Name: default_ind, dtype: int64"
      ]
     },
     "execution_count": 90,
     "metadata": {},
     "output_type": "execute_result"
    }
   ],
   "source": [
    "df['default_ind'].value_counts()"
   ]
  },
  {
   "cell_type": "code",
   "execution_count": 92,
   "metadata": {
    "scrolled": true
   },
   "outputs": [
    {
     "data": {
      "text/plain": [
       "Index(['loan_amnt', 'int_rate', 'annual_inc', 'dti', 'delinq_2yrs',\n",
       "       'inq_last_6mths', 'open_acc', 'pub_rec', 'revol_bal', 'revol_util',\n",
       "       'total_acc', 'tot_coll_amt', 'tot_cur_bal', 'total_rev_hi_lim'],\n",
       "      dtype='object')"
      ]
     },
     "execution_count": 92,
     "metadata": {},
     "output_type": "execute_result"
    }
   ],
   "source": [
    "num_df.columns"
   ]
  },
  {
   "cell_type": "code",
   "execution_count": 93,
   "metadata": {},
   "outputs": [],
   "source": [
    "df2= pd.concat([df['default_ind'],num_df],axis=1)"
   ]
  },
  {
   "cell_type": "code",
   "execution_count": 96,
   "metadata": {},
   "outputs": [],
   "source": [
    "non_def= df2[df2['default_ind']=='0']['loan_amnt']\n",
    "defaulter= df2[df2['default_ind']=='1']['loan_amnt']"
   ]
  },
  {
   "cell_type": "code",
   "execution_count": 98,
   "metadata": {
    "scrolled": true
   },
   "outputs": [
    {
     "name": "stdout",
     "output_type": "stream",
     "text": [
      "loan_amnt _def: 0.0\n",
      "loan_amnt _non-def: 0.0\n",
      "int_rate _def: 0.0\n",
      "int_rate _non-def: 0.0\n",
      "annual_inc _def: 0.0\n",
      "annual_inc _non-def: 0.0\n",
      "dti _def: 0.0\n",
      "dti _non-def: 0.0\n",
      "delinq_2yrs _def: 0.0\n",
      "delinq_2yrs _non-def: 0.0\n",
      "inq_last_6mths _def: 0.0\n",
      "inq_last_6mths _non-def: 0.0\n",
      "open_acc _def: 0.0\n",
      "open_acc _non-def: 0.0\n",
      "pub_rec _def: 0.0\n",
      "pub_rec _non-def: 0.0\n",
      "revol_bal _def: 0.0\n",
      "revol_bal _non-def: 0.0\n",
      "revol_util _def: 0.0\n",
      "revol_util _non-def: 0.0\n",
      "total_acc _def: 0.0\n",
      "total_acc _non-def: 0.0\n",
      "tot_coll_amt _def: 0.0\n",
      "tot_coll_amt _non-def: 0.0\n",
      "tot_cur_bal _def: 0.0\n",
      "tot_cur_bal _non-def: 0.0\n",
      "total_rev_hi_lim _def: 0.0\n",
      "total_rev_hi_lim _non-def: 0.0\n"
     ]
    }
   ],
   "source": [
    "# Normality Test\n",
    "\n",
    "for col in df2.iloc[:,1:]:\n",
    "    non_def= df2[df2['default_ind']=='0'][col]\n",
    "    defaulter= df2[df2['default_ind']=='1'][col]\n",
    "    print(col,'_def:',stats.kstest(non_def, 'norm').pvalue)\n",
    "    print(col,'_non-def:',stats.kstest(defaulter, 'norm').pvalue)"
   ]
  },
  {
   "cell_type": "markdown",
   "metadata": {},
   "source": [
    "As the data is not normally distributed, we will go for non-parametric test."
   ]
  },
  {
   "cell_type": "code",
   "execution_count": 99,
   "metadata": {},
   "outputs": [],
   "source": [
    "from scipy.stats import mannwhitneyu"
   ]
  },
  {
   "cell_type": "code",
   "execution_count": 100,
   "metadata": {},
   "outputs": [
    {
     "name": "stdout",
     "output_type": "stream",
     "text": [
      "['loan_amnt', 'int_rate', 'annual_inc', 'dti', 'delinq_2yrs', 'inq_last_6mths', 'open_acc', 'pub_rec', 'revol_bal', 'revol_util', 'total_acc', 'tot_coll_amt', 'tot_cur_bal', 'total_rev_hi_lim']\n"
     ]
    }
   ],
   "source": [
    "# Hypothesis for Chi-square test of Independence:\n",
    "\n",
    "# H0: Sample distributions are equal.\n",
    "# H1: Sample distributions are not equal\n",
    "\n",
    "signi_feat= []\n",
    "\n",
    "for col in df2.iloc[:,1:]:\n",
    "    non_def= df2[df2['default_ind']=='0'][col]\n",
    "    defaulter= df2[df2['default_ind']=='1'][col]\n",
    "    stat, p = mannwhitneyu(non_def, defaulter)\n",
    "    \n",
    "    if p < 0.5:\n",
    "        signi_feat.append(col)\n",
    "        \n",
    "print(signi_feat)"
   ]
  },
  {
   "cell_type": "code",
   "execution_count": 101,
   "metadata": {},
   "outputs": [
    {
     "name": "stdout",
     "output_type": "stream",
     "text": [
      "loan_amnt : 0.02969753132893765\n",
      "int_rate : 0.0\n",
      "annual_inc : 0.0\n",
      "dti : 5.119484275184611e-31\n",
      "delinq_2yrs : 3.6357055241299304e-16\n",
      "inq_last_6mths : 0.0\n",
      "open_acc : 1.9804769406637932e-35\n",
      "pub_rec : 1.9504681956872042e-53\n",
      "revol_bal : 2.7207775533952853e-32\n",
      "revol_util : 2.156529989015617e-251\n",
      "total_acc : 2.744209453791259e-50\n",
      "tot_coll_amt : 3.737382912358296e-92\n",
      "tot_cur_bal : 1.756576442863898e-121\n",
      "total_rev_hi_lim : 4.131015550169742e-161\n"
     ]
    }
   ],
   "source": [
    "# Printing the p values\n",
    "\n",
    "for col in df2.iloc[:,1:]:\n",
    "    non_def= df2[df2['default_ind']=='0'][col]\n",
    "    defaulter= df2[df2['default_ind']=='1'][col]\n",
    "    stat, p = mannwhitneyu(non_def, defaulter)\n",
    "    \n",
    "    print(col,':',p)\n",
    "        "
   ]
  },
  {
   "cell_type": "markdown",
   "metadata": {},
   "source": [
    "#### "
   ]
  },
  {
   "cell_type": "markdown",
   "metadata": {},
   "source": [
    "# List of Significant Features"
   ]
  },
  {
   "cell_type": "markdown",
   "metadata": {},
   "source": [
    "### Continuous Features:"
   ]
  },
  {
   "cell_type": "markdown",
   "metadata": {},
   "source": [
    "['loan_amnt', 'int_rate', 'annual_inc', 'dti', 'delinq_2yrs', 'inq_last_6mths', 'open_acc', 'pub_rec', 'revol_bal', 'revol_util', 'total_acc', 'tot_coll_amt', 'tot_cur_bal', 'total_rev_hi_lim']"
   ]
  },
  {
   "cell_type": "markdown",
   "metadata": {},
   "source": [
    "### Categorical Features:"
   ]
  },
  {
   "cell_type": "markdown",
   "metadata": {},
   "source": [
    "['term_ 60 months', 'home_ownership_MORTGAGE', 'home_ownership_NONE', 'home_ownership_OTHER', 'home_ownership_OWN', 'home_ownership_RENT', 'verification_status_Source Verified', 'verification_status_Verified', 'initial_list_status_w', 'grade', 'sub_grade', 'emp_length']"
   ]
  }
 ],
 "metadata": {
  "kernelspec": {
   "display_name": "Python 3",
   "language": "python",
   "name": "python3"
  },
  "language_info": {
   "codemirror_mode": {
    "name": "ipython",
    "version": 3
   },
   "file_extension": ".py",
   "mimetype": "text/x-python",
   "name": "python",
   "nbconvert_exporter": "python",
   "pygments_lexer": "ipython3",
   "version": "3.8.5"
  }
 },
 "nbformat": 4,
 "nbformat_minor": 5
}
